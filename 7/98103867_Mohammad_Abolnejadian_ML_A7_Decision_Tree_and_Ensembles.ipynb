{
  "metadata": {
    "kernelspec": {
      "language": "python",
      "display_name": "Python 3",
      "name": "python3"
    },
    "language_info": {
      "name": "python",
      "version": "3.10.10",
      "mimetype": "text/x-python",
      "codemirror_mode": {
        "name": "ipython",
        "version": 3
      },
      "pygments_lexer": "ipython3",
      "nbconvert_exporter": "python",
      "file_extension": ".py"
    },
    "colab": {
      "provenance": []
    }
  },
  "nbformat_minor": 0,
  "nbformat": 4,
  "cells": [
    {
      "cell_type": "markdown",
      "metadata": {
        "id": "b07eb33c"
      },
      "source": [
        "<div>\n",
        "<img src='https://upload.wikimedia.org/wikipedia/commons/6/64/Sharif_University_Logo.jpg' alt=\"SUT logo\" width=220 height=220 align=left class=\"saturate\">\n",
        "\n",
        "<br>\n",
        "<font face=\"Times New Roman\">\n",
        "<div dir=ltr align=center> \n",
        "<!-- <font color=0F5298 size=7> -->\n",
        "<font color=0F5298 size=6>\n",
        "    Introduction to Machine Learning <br> <br>\n",
        "<!-- <font color=2565AE size=5> -->\n",
        "<font size=5>\n",
        "    Computer Engineering Department <br>\n",
        "    Spring 2023 <br> <br>\n",
        "<font color=606060 size=5>\n",
        "    Homework 7: Practical - Decision Tree and Ensembles <br> <br>\n",
        "<font color=686880 size=4>\n",
        "    TAs: Amirhossein Ramazani Bonab - Arman Malekzadeh\n",
        "    \n",
        "____"
      ]
    },
    {
      "cell_type": "markdown",
      "metadata": {
        "id": "f5a79508"
      },
      "source": [
        "### Full Name : Mohammad Abolnejadian\n",
        "### Student Number : 98103867\n",
        "### Colab Link: https://colab.research.google.com/drive/1-Gw_PnKxwSRDTspx2oSH74gAPzASqIbS?usp=sharing\n",
        "___"
      ]
    },
    {
      "cell_type": "markdown",
      "source": [
        "**About the Dataset:**\n",
        "\n",
        "\n",
        "Measurements of geometrical properties of kernels belonging to three different varieties of wheat.\n",
        "\n",
        "A soft X-ray technique and GRAINS package were used to construct all seven, real-valued attributes.\n",
        "\n",
        "**Data Set Information:**\n",
        "\n",
        "\n",
        "The examined group comprised kernels belonging to three different varieties of wheat: Kama, Rosa and Canadian, 70 elements each, randomly selected for\n",
        "the experiment. High quality visualization of the internal kernel structure was detected using a soft X-ray technique. It is non-destructive and considerably cheaper than other more sophisticated imaging techniques like scanning microscopy or laser technology. The images were recorded on 13x18 cm X-ray KODAK plates. Studies were conducted using combine harvested wheat grain originating from experimental fields, explored at the Institute of Agrophysics of the Polish Academy of Sciences in Lublin.\n",
        "\n",
        "To construct the data, seven geometric parameters of wheat kernels were measured:\n",
        "\n",
        "- area A,\n",
        "- perimeter P,\n",
        "- compactness C = 4piA/P^2,\n",
        "- length of kernel,\n",
        "- width of kernel,\n",
        "- asymmetry coefficient\n",
        "- length of kernel groove.\n",
        "\n",
        "The target column is \"Type\".\n",
        "\n",
        "The data set can be used for the tasks of classification and cluster analysis.\n",
        "\n",
        "https://archive.ics.uci.edu/ml/datasets/seeds"
      ],
      "metadata": {
        "id": "8R9A8RKJa07c"
      }
    },
    {
      "cell_type": "code",
      "source": [
        "# you can use the following packages\n",
        "\n",
        "import pandas as pd\n",
        "import numpy as np\n",
        "\n",
        "import matplotlib.pyplot as plt\n",
        "%matplotlib inline\n",
        "import seaborn as sns\n",
        "\n",
        "from sklearn.model_selection import train_test_split\n",
        "\n",
        "from random import choices\n",
        "import math"
      ],
      "metadata": {
        "execution": {
          "iopub.status.busy": "2023-05-24T07:40:35.643418Z",
          "iopub.execute_input": "2023-05-24T07:40:35.643859Z",
          "iopub.status.idle": "2023-05-24T07:40:35.652079Z",
          "shell.execute_reply.started": "2023-05-24T07:40:35.643823Z",
          "shell.execute_reply": "2023-05-24T07:40:35.650632Z"
        },
        "trusted": true,
        "id": "_s9VlwRcUmDE"
      },
      "execution_count": 152,
      "outputs": []
    },
    {
      "cell_type": "markdown",
      "source": [
        "## P1: Explore the Dataset"
      ],
      "metadata": {
        "id": "pXav8LQyUmDG"
      }
    },
    {
      "cell_type": "code",
      "source": [
        "!wget -O dataset.csv https://www.dropbox.com/s/xc1tbfju2mn59yj/seeds%20%281%29.csv?dl=1"
      ],
      "metadata": {
        "id": "Qp8d_3l88cOp",
        "colab": {
          "base_uri": "https://localhost:8080/"
        },
        "outputId": "41246d54-dfaa-418f-bfa0-e91a411f18d1"
      },
      "execution_count": 153,
      "outputs": [
        {
          "output_type": "stream",
          "name": "stdout",
          "text": [
            "--2023-06-05 20:21:36--  https://www.dropbox.com/s/xc1tbfju2mn59yj/seeds%20%281%29.csv?dl=1\n",
            "Resolving www.dropbox.com (www.dropbox.com)... 162.125.1.18, 2620:100:6020:18::a27d:4012\n",
            "Connecting to www.dropbox.com (www.dropbox.com)|162.125.1.18|:443... connected.\n",
            "HTTP request sent, awaiting response... 302 Found\n",
            "Location: /s/dl/xc1tbfju2mn59yj/seeds%20%281%29.csv [following]\n",
            "--2023-06-05 20:21:36--  https://www.dropbox.com/s/dl/xc1tbfju2mn59yj/seeds%20%281%29.csv\n",
            "Reusing existing connection to www.dropbox.com:443.\n",
            "HTTP request sent, awaiting response... 302 Found\n",
            "Location: https://uc28ce0faa8be94b59f28afd0092.dl.dropboxusercontent.com/cd/0/get/B9Yc1Bzaom40tAkbnN57nwcwbn5bSrq2vd-jOoqNcrmrN34leTz8YfAyO41Ud7eykJiVDyF2CAtnAzupZJuGlr7Hwp5bgBIMqvoTQrLUOqo5Hgtvn5zt4rFFpt9BDvdjwk6MP4QlUQ7_B8xuoVl-8q5bRBK4DxweBrPWUkrjmJaZzqCRvtTxwn1wI8VNV4fQH7k/file?dl=1# [following]\n",
            "--2023-06-05 20:21:37--  https://uc28ce0faa8be94b59f28afd0092.dl.dropboxusercontent.com/cd/0/get/B9Yc1Bzaom40tAkbnN57nwcwbn5bSrq2vd-jOoqNcrmrN34leTz8YfAyO41Ud7eykJiVDyF2CAtnAzupZJuGlr7Hwp5bgBIMqvoTQrLUOqo5Hgtvn5zt4rFFpt9BDvdjwk6MP4QlUQ7_B8xuoVl-8q5bRBK4DxweBrPWUkrjmJaZzqCRvtTxwn1wI8VNV4fQH7k/file?dl=1\n",
            "Resolving uc28ce0faa8be94b59f28afd0092.dl.dropboxusercontent.com (uc28ce0faa8be94b59f28afd0092.dl.dropboxusercontent.com)... 162.125.1.15, 2620:100:6016:15::a27d:10f\n",
            "Connecting to uc28ce0faa8be94b59f28afd0092.dl.dropboxusercontent.com (uc28ce0faa8be94b59f28afd0092.dl.dropboxusercontent.com)|162.125.1.15|:443... connected.\n",
            "HTTP request sent, awaiting response... 200 OK\n",
            "Length: 9125 (8.9K) [application/binary]\n",
            "Saving to: ‘dataset.csv’\n",
            "\n",
            "dataset.csv         100%[===================>]   8.91K  --.-KB/s    in 0s      \n",
            "\n",
            "2023-06-05 20:21:37 (116 MB/s) - ‘dataset.csv’ saved [9125/9125]\n",
            "\n"
          ]
        }
      ]
    },
    {
      "cell_type": "markdown",
      "source": [
        "Load the dataset as a dataframe"
      ],
      "metadata": {
        "id": "d9Imt5hubwiz"
      }
    },
    {
      "cell_type": "code",
      "source": [
        "df = pd.read_csv(\"dataset.csv\")\n",
        "df"
      ],
      "metadata": {
        "id": "RuRn5PGpskHI",
        "colab": {
          "base_uri": "https://localhost:8080/",
          "height": 424
        },
        "outputId": "d9ef773d-d510-431d-9433-4d27499789eb"
      },
      "execution_count": 154,
      "outputs": [
        {
          "output_type": "execute_result",
          "data": {
            "text/plain": [
              "      Area  Perimeter  Compactness  Kernel.Length  Kernel.Width  \\\n",
              "0    15.26      14.84       0.8710          5.763         3.312   \n",
              "1    14.88      14.57       0.8811          5.554         3.333   \n",
              "2    14.29      14.09       0.9050          5.291         3.337   \n",
              "3    13.84      13.94       0.8955          5.324         3.379   \n",
              "4    16.14      14.99       0.9034          5.658         3.562   \n",
              "..     ...        ...          ...            ...           ...   \n",
              "194  12.19      13.20       0.8783          5.137         2.981   \n",
              "195  11.23      12.88       0.8511          5.140         2.795   \n",
              "196  13.20      13.66       0.8883          5.236         3.232   \n",
              "197  11.84      13.21       0.8521          5.175         2.836   \n",
              "198  12.30      13.34       0.8684          5.243         2.974   \n",
              "\n",
              "     Asymmetry.Coeff  Kernel.Groove  Type  \n",
              "0              2.221          5.220     1  \n",
              "1              1.018          4.956     1  \n",
              "2              2.699          4.825     1  \n",
              "3              2.259          4.805     1  \n",
              "4              1.355          5.175     1  \n",
              "..               ...            ...   ...  \n",
              "194            3.631          4.870     3  \n",
              "195            4.325          5.003     3  \n",
              "196            8.315          5.056     3  \n",
              "197            3.598          5.044     3  \n",
              "198            5.637          5.063     3  \n",
              "\n",
              "[199 rows x 8 columns]"
            ],
            "text/html": [
              "\n",
              "  <div id=\"df-25d1be47-16b7-43d3-9911-fe52493bd584\">\n",
              "    <div class=\"colab-df-container\">\n",
              "      <div>\n",
              "<style scoped>\n",
              "    .dataframe tbody tr th:only-of-type {\n",
              "        vertical-align: middle;\n",
              "    }\n",
              "\n",
              "    .dataframe tbody tr th {\n",
              "        vertical-align: top;\n",
              "    }\n",
              "\n",
              "    .dataframe thead th {\n",
              "        text-align: right;\n",
              "    }\n",
              "</style>\n",
              "<table border=\"1\" class=\"dataframe\">\n",
              "  <thead>\n",
              "    <tr style=\"text-align: right;\">\n",
              "      <th></th>\n",
              "      <th>Area</th>\n",
              "      <th>Perimeter</th>\n",
              "      <th>Compactness</th>\n",
              "      <th>Kernel.Length</th>\n",
              "      <th>Kernel.Width</th>\n",
              "      <th>Asymmetry.Coeff</th>\n",
              "      <th>Kernel.Groove</th>\n",
              "      <th>Type</th>\n",
              "    </tr>\n",
              "  </thead>\n",
              "  <tbody>\n",
              "    <tr>\n",
              "      <th>0</th>\n",
              "      <td>15.26</td>\n",
              "      <td>14.84</td>\n",
              "      <td>0.8710</td>\n",
              "      <td>5.763</td>\n",
              "      <td>3.312</td>\n",
              "      <td>2.221</td>\n",
              "      <td>5.220</td>\n",
              "      <td>1</td>\n",
              "    </tr>\n",
              "    <tr>\n",
              "      <th>1</th>\n",
              "      <td>14.88</td>\n",
              "      <td>14.57</td>\n",
              "      <td>0.8811</td>\n",
              "      <td>5.554</td>\n",
              "      <td>3.333</td>\n",
              "      <td>1.018</td>\n",
              "      <td>4.956</td>\n",
              "      <td>1</td>\n",
              "    </tr>\n",
              "    <tr>\n",
              "      <th>2</th>\n",
              "      <td>14.29</td>\n",
              "      <td>14.09</td>\n",
              "      <td>0.9050</td>\n",
              "      <td>5.291</td>\n",
              "      <td>3.337</td>\n",
              "      <td>2.699</td>\n",
              "      <td>4.825</td>\n",
              "      <td>1</td>\n",
              "    </tr>\n",
              "    <tr>\n",
              "      <th>3</th>\n",
              "      <td>13.84</td>\n",
              "      <td>13.94</td>\n",
              "      <td>0.8955</td>\n",
              "      <td>5.324</td>\n",
              "      <td>3.379</td>\n",
              "      <td>2.259</td>\n",
              "      <td>4.805</td>\n",
              "      <td>1</td>\n",
              "    </tr>\n",
              "    <tr>\n",
              "      <th>4</th>\n",
              "      <td>16.14</td>\n",
              "      <td>14.99</td>\n",
              "      <td>0.9034</td>\n",
              "      <td>5.658</td>\n",
              "      <td>3.562</td>\n",
              "      <td>1.355</td>\n",
              "      <td>5.175</td>\n",
              "      <td>1</td>\n",
              "    </tr>\n",
              "    <tr>\n",
              "      <th>...</th>\n",
              "      <td>...</td>\n",
              "      <td>...</td>\n",
              "      <td>...</td>\n",
              "      <td>...</td>\n",
              "      <td>...</td>\n",
              "      <td>...</td>\n",
              "      <td>...</td>\n",
              "      <td>...</td>\n",
              "    </tr>\n",
              "    <tr>\n",
              "      <th>194</th>\n",
              "      <td>12.19</td>\n",
              "      <td>13.20</td>\n",
              "      <td>0.8783</td>\n",
              "      <td>5.137</td>\n",
              "      <td>2.981</td>\n",
              "      <td>3.631</td>\n",
              "      <td>4.870</td>\n",
              "      <td>3</td>\n",
              "    </tr>\n",
              "    <tr>\n",
              "      <th>195</th>\n",
              "      <td>11.23</td>\n",
              "      <td>12.88</td>\n",
              "      <td>0.8511</td>\n",
              "      <td>5.140</td>\n",
              "      <td>2.795</td>\n",
              "      <td>4.325</td>\n",
              "      <td>5.003</td>\n",
              "      <td>3</td>\n",
              "    </tr>\n",
              "    <tr>\n",
              "      <th>196</th>\n",
              "      <td>13.20</td>\n",
              "      <td>13.66</td>\n",
              "      <td>0.8883</td>\n",
              "      <td>5.236</td>\n",
              "      <td>3.232</td>\n",
              "      <td>8.315</td>\n",
              "      <td>5.056</td>\n",
              "      <td>3</td>\n",
              "    </tr>\n",
              "    <tr>\n",
              "      <th>197</th>\n",
              "      <td>11.84</td>\n",
              "      <td>13.21</td>\n",
              "      <td>0.8521</td>\n",
              "      <td>5.175</td>\n",
              "      <td>2.836</td>\n",
              "      <td>3.598</td>\n",
              "      <td>5.044</td>\n",
              "      <td>3</td>\n",
              "    </tr>\n",
              "    <tr>\n",
              "      <th>198</th>\n",
              "      <td>12.30</td>\n",
              "      <td>13.34</td>\n",
              "      <td>0.8684</td>\n",
              "      <td>5.243</td>\n",
              "      <td>2.974</td>\n",
              "      <td>5.637</td>\n",
              "      <td>5.063</td>\n",
              "      <td>3</td>\n",
              "    </tr>\n",
              "  </tbody>\n",
              "</table>\n",
              "<p>199 rows × 8 columns</p>\n",
              "</div>\n",
              "      <button class=\"colab-df-convert\" onclick=\"convertToInteractive('df-25d1be47-16b7-43d3-9911-fe52493bd584')\"\n",
              "              title=\"Convert this dataframe to an interactive table.\"\n",
              "              style=\"display:none;\">\n",
              "        \n",
              "  <svg xmlns=\"http://www.w3.org/2000/svg\" height=\"24px\"viewBox=\"0 0 24 24\"\n",
              "       width=\"24px\">\n",
              "    <path d=\"M0 0h24v24H0V0z\" fill=\"none\"/>\n",
              "    <path d=\"M18.56 5.44l.94 2.06.94-2.06 2.06-.94-2.06-.94-.94-2.06-.94 2.06-2.06.94zm-11 1L8.5 8.5l.94-2.06 2.06-.94-2.06-.94L8.5 2.5l-.94 2.06-2.06.94zm10 10l.94 2.06.94-2.06 2.06-.94-2.06-.94-.94-2.06-.94 2.06-2.06.94z\"/><path d=\"M17.41 7.96l-1.37-1.37c-.4-.4-.92-.59-1.43-.59-.52 0-1.04.2-1.43.59L10.3 9.45l-7.72 7.72c-.78.78-.78 2.05 0 2.83L4 21.41c.39.39.9.59 1.41.59.51 0 1.02-.2 1.41-.59l7.78-7.78 2.81-2.81c.8-.78.8-2.07 0-2.86zM5.41 20L4 18.59l7.72-7.72 1.47 1.35L5.41 20z\"/>\n",
              "  </svg>\n",
              "      </button>\n",
              "      \n",
              "  <style>\n",
              "    .colab-df-container {\n",
              "      display:flex;\n",
              "      flex-wrap:wrap;\n",
              "      gap: 12px;\n",
              "    }\n",
              "\n",
              "    .colab-df-convert {\n",
              "      background-color: #E8F0FE;\n",
              "      border: none;\n",
              "      border-radius: 50%;\n",
              "      cursor: pointer;\n",
              "      display: none;\n",
              "      fill: #1967D2;\n",
              "      height: 32px;\n",
              "      padding: 0 0 0 0;\n",
              "      width: 32px;\n",
              "    }\n",
              "\n",
              "    .colab-df-convert:hover {\n",
              "      background-color: #E2EBFA;\n",
              "      box-shadow: 0px 1px 2px rgba(60, 64, 67, 0.3), 0px 1px 3px 1px rgba(60, 64, 67, 0.15);\n",
              "      fill: #174EA6;\n",
              "    }\n",
              "\n",
              "    [theme=dark] .colab-df-convert {\n",
              "      background-color: #3B4455;\n",
              "      fill: #D2E3FC;\n",
              "    }\n",
              "\n",
              "    [theme=dark] .colab-df-convert:hover {\n",
              "      background-color: #434B5C;\n",
              "      box-shadow: 0px 1px 3px 1px rgba(0, 0, 0, 0.15);\n",
              "      filter: drop-shadow(0px 1px 2px rgba(0, 0, 0, 0.3));\n",
              "      fill: #FFFFFF;\n",
              "    }\n",
              "  </style>\n",
              "\n",
              "      <script>\n",
              "        const buttonEl =\n",
              "          document.querySelector('#df-25d1be47-16b7-43d3-9911-fe52493bd584 button.colab-df-convert');\n",
              "        buttonEl.style.display =\n",
              "          google.colab.kernel.accessAllowed ? 'block' : 'none';\n",
              "\n",
              "        async function convertToInteractive(key) {\n",
              "          const element = document.querySelector('#df-25d1be47-16b7-43d3-9911-fe52493bd584');\n",
              "          const dataTable =\n",
              "            await google.colab.kernel.invokeFunction('convertToInteractive',\n",
              "                                                     [key], {});\n",
              "          if (!dataTable) return;\n",
              "\n",
              "          const docLinkHtml = 'Like what you see? Visit the ' +\n",
              "            '<a target=\"_blank\" href=https://colab.research.google.com/notebooks/data_table.ipynb>data table notebook</a>'\n",
              "            + ' to learn more about interactive tables.';\n",
              "          element.innerHTML = '';\n",
              "          dataTable['output_type'] = 'display_data';\n",
              "          await google.colab.output.renderOutput(dataTable, element);\n",
              "          const docLink = document.createElement('div');\n",
              "          docLink.innerHTML = docLinkHtml;\n",
              "          element.appendChild(docLink);\n",
              "        }\n",
              "      </script>\n",
              "    </div>\n",
              "  </div>\n",
              "  "
            ]
          },
          "metadata": {},
          "execution_count": 154
        }
      ]
    },
    {
      "cell_type": "markdown",
      "source": [
        "Check if there are any missing values (and remove them) **(P1-1: 2 points)**"
      ],
      "metadata": {
        "id": "RWiHRlHkb1Bf"
      }
    },
    {
      "cell_type": "code",
      "source": [
        "#Check if there are missing values\n",
        "df_null = df.isna().isin([True])\n",
        "df_null_count = df_null.sum()\n",
        "print(df_null_count)\n",
        "df.dropna(inplace=True)\n",
        "df"
      ],
      "metadata": {
        "execution": {
          "iopub.status.busy": "2023-05-24T06:42:35.080087Z",
          "iopub.execute_input": "2023-05-24T06:42:35.080727Z",
          "iopub.status.idle": "2023-05-24T06:42:35.091722Z",
          "shell.execute_reply.started": "2023-05-24T06:42:35.080676Z",
          "shell.execute_reply": "2023-05-24T06:42:35.089794Z"
        },
        "trusted": true,
        "id": "YqfwGyG9UmDI",
        "colab": {
          "base_uri": "https://localhost:8080/",
          "height": 580
        },
        "outputId": "e88787b2-f5fd-45fa-d7e4-745f6f2613ef"
      },
      "execution_count": 155,
      "outputs": [
        {
          "output_type": "stream",
          "name": "stdout",
          "text": [
            "Area               0\n",
            "Perimeter          0\n",
            "Compactness        0\n",
            "Kernel.Length      0\n",
            "Kernel.Width       0\n",
            "Asymmetry.Coeff    0\n",
            "Kernel.Groove      0\n",
            "Type               0\n",
            "dtype: int64\n"
          ]
        },
        {
          "output_type": "execute_result",
          "data": {
            "text/plain": [
              "      Area  Perimeter  Compactness  Kernel.Length  Kernel.Width  \\\n",
              "0    15.26      14.84       0.8710          5.763         3.312   \n",
              "1    14.88      14.57       0.8811          5.554         3.333   \n",
              "2    14.29      14.09       0.9050          5.291         3.337   \n",
              "3    13.84      13.94       0.8955          5.324         3.379   \n",
              "4    16.14      14.99       0.9034          5.658         3.562   \n",
              "..     ...        ...          ...            ...           ...   \n",
              "194  12.19      13.20       0.8783          5.137         2.981   \n",
              "195  11.23      12.88       0.8511          5.140         2.795   \n",
              "196  13.20      13.66       0.8883          5.236         3.232   \n",
              "197  11.84      13.21       0.8521          5.175         2.836   \n",
              "198  12.30      13.34       0.8684          5.243         2.974   \n",
              "\n",
              "     Asymmetry.Coeff  Kernel.Groove  Type  \n",
              "0              2.221          5.220     1  \n",
              "1              1.018          4.956     1  \n",
              "2              2.699          4.825     1  \n",
              "3              2.259          4.805     1  \n",
              "4              1.355          5.175     1  \n",
              "..               ...            ...   ...  \n",
              "194            3.631          4.870     3  \n",
              "195            4.325          5.003     3  \n",
              "196            8.315          5.056     3  \n",
              "197            3.598          5.044     3  \n",
              "198            5.637          5.063     3  \n",
              "\n",
              "[199 rows x 8 columns]"
            ],
            "text/html": [
              "\n",
              "  <div id=\"df-729f0ddd-0dc1-4e03-9658-bc6509080a8e\">\n",
              "    <div class=\"colab-df-container\">\n",
              "      <div>\n",
              "<style scoped>\n",
              "    .dataframe tbody tr th:only-of-type {\n",
              "        vertical-align: middle;\n",
              "    }\n",
              "\n",
              "    .dataframe tbody tr th {\n",
              "        vertical-align: top;\n",
              "    }\n",
              "\n",
              "    .dataframe thead th {\n",
              "        text-align: right;\n",
              "    }\n",
              "</style>\n",
              "<table border=\"1\" class=\"dataframe\">\n",
              "  <thead>\n",
              "    <tr style=\"text-align: right;\">\n",
              "      <th></th>\n",
              "      <th>Area</th>\n",
              "      <th>Perimeter</th>\n",
              "      <th>Compactness</th>\n",
              "      <th>Kernel.Length</th>\n",
              "      <th>Kernel.Width</th>\n",
              "      <th>Asymmetry.Coeff</th>\n",
              "      <th>Kernel.Groove</th>\n",
              "      <th>Type</th>\n",
              "    </tr>\n",
              "  </thead>\n",
              "  <tbody>\n",
              "    <tr>\n",
              "      <th>0</th>\n",
              "      <td>15.26</td>\n",
              "      <td>14.84</td>\n",
              "      <td>0.8710</td>\n",
              "      <td>5.763</td>\n",
              "      <td>3.312</td>\n",
              "      <td>2.221</td>\n",
              "      <td>5.220</td>\n",
              "      <td>1</td>\n",
              "    </tr>\n",
              "    <tr>\n",
              "      <th>1</th>\n",
              "      <td>14.88</td>\n",
              "      <td>14.57</td>\n",
              "      <td>0.8811</td>\n",
              "      <td>5.554</td>\n",
              "      <td>3.333</td>\n",
              "      <td>1.018</td>\n",
              "      <td>4.956</td>\n",
              "      <td>1</td>\n",
              "    </tr>\n",
              "    <tr>\n",
              "      <th>2</th>\n",
              "      <td>14.29</td>\n",
              "      <td>14.09</td>\n",
              "      <td>0.9050</td>\n",
              "      <td>5.291</td>\n",
              "      <td>3.337</td>\n",
              "      <td>2.699</td>\n",
              "      <td>4.825</td>\n",
              "      <td>1</td>\n",
              "    </tr>\n",
              "    <tr>\n",
              "      <th>3</th>\n",
              "      <td>13.84</td>\n",
              "      <td>13.94</td>\n",
              "      <td>0.8955</td>\n",
              "      <td>5.324</td>\n",
              "      <td>3.379</td>\n",
              "      <td>2.259</td>\n",
              "      <td>4.805</td>\n",
              "      <td>1</td>\n",
              "    </tr>\n",
              "    <tr>\n",
              "      <th>4</th>\n",
              "      <td>16.14</td>\n",
              "      <td>14.99</td>\n",
              "      <td>0.9034</td>\n",
              "      <td>5.658</td>\n",
              "      <td>3.562</td>\n",
              "      <td>1.355</td>\n",
              "      <td>5.175</td>\n",
              "      <td>1</td>\n",
              "    </tr>\n",
              "    <tr>\n",
              "      <th>...</th>\n",
              "      <td>...</td>\n",
              "      <td>...</td>\n",
              "      <td>...</td>\n",
              "      <td>...</td>\n",
              "      <td>...</td>\n",
              "      <td>...</td>\n",
              "      <td>...</td>\n",
              "      <td>...</td>\n",
              "    </tr>\n",
              "    <tr>\n",
              "      <th>194</th>\n",
              "      <td>12.19</td>\n",
              "      <td>13.20</td>\n",
              "      <td>0.8783</td>\n",
              "      <td>5.137</td>\n",
              "      <td>2.981</td>\n",
              "      <td>3.631</td>\n",
              "      <td>4.870</td>\n",
              "      <td>3</td>\n",
              "    </tr>\n",
              "    <tr>\n",
              "      <th>195</th>\n",
              "      <td>11.23</td>\n",
              "      <td>12.88</td>\n",
              "      <td>0.8511</td>\n",
              "      <td>5.140</td>\n",
              "      <td>2.795</td>\n",
              "      <td>4.325</td>\n",
              "      <td>5.003</td>\n",
              "      <td>3</td>\n",
              "    </tr>\n",
              "    <tr>\n",
              "      <th>196</th>\n",
              "      <td>13.20</td>\n",
              "      <td>13.66</td>\n",
              "      <td>0.8883</td>\n",
              "      <td>5.236</td>\n",
              "      <td>3.232</td>\n",
              "      <td>8.315</td>\n",
              "      <td>5.056</td>\n",
              "      <td>3</td>\n",
              "    </tr>\n",
              "    <tr>\n",
              "      <th>197</th>\n",
              "      <td>11.84</td>\n",
              "      <td>13.21</td>\n",
              "      <td>0.8521</td>\n",
              "      <td>5.175</td>\n",
              "      <td>2.836</td>\n",
              "      <td>3.598</td>\n",
              "      <td>5.044</td>\n",
              "      <td>3</td>\n",
              "    </tr>\n",
              "    <tr>\n",
              "      <th>198</th>\n",
              "      <td>12.30</td>\n",
              "      <td>13.34</td>\n",
              "      <td>0.8684</td>\n",
              "      <td>5.243</td>\n",
              "      <td>2.974</td>\n",
              "      <td>5.637</td>\n",
              "      <td>5.063</td>\n",
              "      <td>3</td>\n",
              "    </tr>\n",
              "  </tbody>\n",
              "</table>\n",
              "<p>199 rows × 8 columns</p>\n",
              "</div>\n",
              "      <button class=\"colab-df-convert\" onclick=\"convertToInteractive('df-729f0ddd-0dc1-4e03-9658-bc6509080a8e')\"\n",
              "              title=\"Convert this dataframe to an interactive table.\"\n",
              "              style=\"display:none;\">\n",
              "        \n",
              "  <svg xmlns=\"http://www.w3.org/2000/svg\" height=\"24px\"viewBox=\"0 0 24 24\"\n",
              "       width=\"24px\">\n",
              "    <path d=\"M0 0h24v24H0V0z\" fill=\"none\"/>\n",
              "    <path d=\"M18.56 5.44l.94 2.06.94-2.06 2.06-.94-2.06-.94-.94-2.06-.94 2.06-2.06.94zm-11 1L8.5 8.5l.94-2.06 2.06-.94-2.06-.94L8.5 2.5l-.94 2.06-2.06.94zm10 10l.94 2.06.94-2.06 2.06-.94-2.06-.94-.94-2.06-.94 2.06-2.06.94z\"/><path d=\"M17.41 7.96l-1.37-1.37c-.4-.4-.92-.59-1.43-.59-.52 0-1.04.2-1.43.59L10.3 9.45l-7.72 7.72c-.78.78-.78 2.05 0 2.83L4 21.41c.39.39.9.59 1.41.59.51 0 1.02-.2 1.41-.59l7.78-7.78 2.81-2.81c.8-.78.8-2.07 0-2.86zM5.41 20L4 18.59l7.72-7.72 1.47 1.35L5.41 20z\"/>\n",
              "  </svg>\n",
              "      </button>\n",
              "      \n",
              "  <style>\n",
              "    .colab-df-container {\n",
              "      display:flex;\n",
              "      flex-wrap:wrap;\n",
              "      gap: 12px;\n",
              "    }\n",
              "\n",
              "    .colab-df-convert {\n",
              "      background-color: #E8F0FE;\n",
              "      border: none;\n",
              "      border-radius: 50%;\n",
              "      cursor: pointer;\n",
              "      display: none;\n",
              "      fill: #1967D2;\n",
              "      height: 32px;\n",
              "      padding: 0 0 0 0;\n",
              "      width: 32px;\n",
              "    }\n",
              "\n",
              "    .colab-df-convert:hover {\n",
              "      background-color: #E2EBFA;\n",
              "      box-shadow: 0px 1px 2px rgba(60, 64, 67, 0.3), 0px 1px 3px 1px rgba(60, 64, 67, 0.15);\n",
              "      fill: #174EA6;\n",
              "    }\n",
              "\n",
              "    [theme=dark] .colab-df-convert {\n",
              "      background-color: #3B4455;\n",
              "      fill: #D2E3FC;\n",
              "    }\n",
              "\n",
              "    [theme=dark] .colab-df-convert:hover {\n",
              "      background-color: #434B5C;\n",
              "      box-shadow: 0px 1px 3px 1px rgba(0, 0, 0, 0.15);\n",
              "      filter: drop-shadow(0px 1px 2px rgba(0, 0, 0, 0.3));\n",
              "      fill: #FFFFFF;\n",
              "    }\n",
              "  </style>\n",
              "\n",
              "      <script>\n",
              "        const buttonEl =\n",
              "          document.querySelector('#df-729f0ddd-0dc1-4e03-9658-bc6509080a8e button.colab-df-convert');\n",
              "        buttonEl.style.display =\n",
              "          google.colab.kernel.accessAllowed ? 'block' : 'none';\n",
              "\n",
              "        async function convertToInteractive(key) {\n",
              "          const element = document.querySelector('#df-729f0ddd-0dc1-4e03-9658-bc6509080a8e');\n",
              "          const dataTable =\n",
              "            await google.colab.kernel.invokeFunction('convertToInteractive',\n",
              "                                                     [key], {});\n",
              "          if (!dataTable) return;\n",
              "\n",
              "          const docLinkHtml = 'Like what you see? Visit the ' +\n",
              "            '<a target=\"_blank\" href=https://colab.research.google.com/notebooks/data_table.ipynb>data table notebook</a>'\n",
              "            + ' to learn more about interactive tables.';\n",
              "          element.innerHTML = '';\n",
              "          dataTable['output_type'] = 'display_data';\n",
              "          await google.colab.output.renderOutput(dataTable, element);\n",
              "          const docLink = document.createElement('div');\n",
              "          docLink.innerHTML = docLinkHtml;\n",
              "          element.appendChild(docLink);\n",
              "        }\n",
              "      </script>\n",
              "    </div>\n",
              "  </div>\n",
              "  "
            ]
          },
          "metadata": {},
          "execution_count": 155
        }
      ]
    },
    {
      "cell_type": "markdown",
      "source": [
        "Plot the heatmap of the correlation matrix between features **(P1-2: 3 points)**"
      ],
      "metadata": {
        "id": "VF5wHd-8b-aE"
      }
    },
    {
      "cell_type": "code",
      "source": [
        "df_features = df.drop(\"Type\", axis=1)\n",
        "df_target = df[\"Type\"]\n",
        "sns.heatmap(df_features.corr(),vmin=-1, vmax=1, annot=True)"
      ],
      "metadata": {
        "execution": {
          "iopub.status.busy": "2023-05-24T06:43:36.794295Z",
          "iopub.execute_input": "2023-05-24T06:43:36.794843Z",
          "iopub.status.idle": "2023-05-24T06:43:37.411526Z",
          "shell.execute_reply.started": "2023-05-24T06:43:36.794803Z",
          "shell.execute_reply": "2023-05-24T06:43:37.410238Z"
        },
        "trusted": true,
        "id": "NP0TksdUUmDI",
        "colab": {
          "base_uri": "https://localhost:8080/",
          "height": 557
        },
        "outputId": "7b0e15a8-0ca4-4e18-c16b-6d5ec85b4b8c"
      },
      "execution_count": 156,
      "outputs": [
        {
          "output_type": "execute_result",
          "data": {
            "text/plain": [
              "<Axes: >"
            ]
          },
          "metadata": {},
          "execution_count": 156
        },
        {
          "output_type": "display_data",
          "data": {
            "text/plain": [
              "<Figure size 640x480 with 2 Axes>"
            ],
            "image/png": "[encoded data removed]"
          },
          "metadata": {}
        }
      ]
    },
    {
      "cell_type": "markdown",
      "source": [
        "Remove features which are highly correlated (> 95%) with the other ones **(P1-3: 5 points)**"
      ],
      "metadata": {
        "id": "DC874nRgcG38"
      }
    },
    {
      "cell_type": "code",
      "source": [
        "corr = df_features.corr().abs()\n",
        "upper = corr.where(np.triu(np.ones(corr.shape), k=1).astype(bool))\n",
        "to_drop = [column for column in upper.columns if any(upper[column] > 0.95)]\n",
        "uncorrelated_df_features = df_features.drop(to_drop, axis=1)\n",
        "uncorrelated_df_features"
      ],
      "metadata": {
        "execution": {
          "iopub.status.busy": "2023-05-24T06:47:34.398266Z",
          "iopub.execute_input": "2023-05-24T06:47:34.398700Z",
          "iopub.status.idle": "2023-05-24T06:47:34.418229Z",
          "shell.execute_reply.started": "2023-05-24T06:47:34.398658Z",
          "shell.execute_reply": "2023-05-24T06:47:34.417048Z"
        },
        "trusted": true,
        "id": "yPdwUIV4UmDJ",
        "colab": {
          "base_uri": "https://localhost:8080/",
          "height": 424
        },
        "outputId": "c7a749b5-d0f1-4e43-c582-2ece0f3a4341"
      },
      "execution_count": 157,
      "outputs": [
        {
          "output_type": "execute_result",
          "data": {
            "text/plain": [
              "      Area  Compactness  Asymmetry.Coeff  Kernel.Groove\n",
              "0    15.26       0.8710            2.221          5.220\n",
              "1    14.88       0.8811            1.018          4.956\n",
              "2    14.29       0.9050            2.699          4.825\n",
              "3    13.84       0.8955            2.259          4.805\n",
              "4    16.14       0.9034            1.355          5.175\n",
              "..     ...          ...              ...            ...\n",
              "194  12.19       0.8783            3.631          4.870\n",
              "195  11.23       0.8511            4.325          5.003\n",
              "196  13.20       0.8883            8.315          5.056\n",
              "197  11.84       0.8521            3.598          5.044\n",
              "198  12.30       0.8684            5.637          5.063\n",
              "\n",
              "[199 rows x 4 columns]"
            ],
            "text/html": [
              "\n",
              "  <div id=\"df-61237e0e-ac3e-4da4-aea3-b7bc58e0b0e3\">\n",
              "    <div class=\"colab-df-container\">\n",
              "      <div>\n",
              "<style scoped>\n",
              "    .dataframe tbody tr th:only-of-type {\n",
              "        vertical-align: middle;\n",
              "    }\n",
              "\n",
              "    .dataframe tbody tr th {\n",
              "        vertical-align: top;\n",
              "    }\n",
              "\n",
              "    .dataframe thead th {\n",
              "        text-align: right;\n",
              "    }\n",
              "</style>\n",
              "<table border=\"1\" class=\"dataframe\">\n",
              "  <thead>\n",
              "    <tr style=\"text-align: right;\">\n",
              "      <th></th>\n",
              "      <th>Area</th>\n",
              "      <th>Compactness</th>\n",
              "      <th>Asymmetry.Coeff</th>\n",
              "      <th>Kernel.Groove</th>\n",
              "    </tr>\n",
              "  </thead>\n",
              "  <tbody>\n",
              "    <tr>\n",
              "      <th>0</th>\n",
              "      <td>15.26</td>\n",
              "      <td>0.8710</td>\n",
              "      <td>2.221</td>\n",
              "      <td>5.220</td>\n",
              "    </tr>\n",
              "    <tr>\n",
              "      <th>1</th>\n",
              "      <td>14.88</td>\n",
              "      <td>0.8811</td>\n",
              "      <td>1.018</td>\n",
              "      <td>4.956</td>\n",
              "    </tr>\n",
              "    <tr>\n",
              "      <th>2</th>\n",
              "      <td>14.29</td>\n",
              "      <td>0.9050</td>\n",
              "      <td>2.699</td>\n",
              "      <td>4.825</td>\n",
              "    </tr>\n",
              "    <tr>\n",
              "      <th>3</th>\n",
              "      <td>13.84</td>\n",
              "      <td>0.8955</td>\n",
              "      <td>2.259</td>\n",
              "      <td>4.805</td>\n",
              "    </tr>\n",
              "    <tr>\n",
              "      <th>4</th>\n",
              "      <td>16.14</td>\n",
              "      <td>0.9034</td>\n",
              "      <td>1.355</td>\n",
              "      <td>5.175</td>\n",
              "    </tr>\n",
              "    <tr>\n",
              "      <th>...</th>\n",
              "      <td>...</td>\n",
              "      <td>...</td>\n",
              "      <td>...</td>\n",
              "      <td>...</td>\n",
              "    </tr>\n",
              "    <tr>\n",
              "      <th>194</th>\n",
              "      <td>12.19</td>\n",
              "      <td>0.8783</td>\n",
              "      <td>3.631</td>\n",
              "      <td>4.870</td>\n",
              "    </tr>\n",
              "    <tr>\n",
              "      <th>195</th>\n",
              "      <td>11.23</td>\n",
              "      <td>0.8511</td>\n",
              "      <td>4.325</td>\n",
              "      <td>5.003</td>\n",
              "    </tr>\n",
              "    <tr>\n",
              "      <th>196</th>\n",
              "      <td>13.20</td>\n",
              "      <td>0.8883</td>\n",
              "      <td>8.315</td>\n",
              "      <td>5.056</td>\n",
              "    </tr>\n",
              "    <tr>\n",
              "      <th>197</th>\n",
              "      <td>11.84</td>\n",
              "      <td>0.8521</td>\n",
              "      <td>3.598</td>\n",
              "      <td>5.044</td>\n",
              "    </tr>\n",
              "    <tr>\n",
              "      <th>198</th>\n",
              "      <td>12.30</td>\n",
              "      <td>0.8684</td>\n",
              "      <td>5.637</td>\n",
              "      <td>5.063</td>\n",
              "    </tr>\n",
              "  </tbody>\n",
              "</table>\n",
              "<p>199 rows × 4 columns</p>\n",
              "</div>\n",
              "      <button class=\"colab-df-convert\" onclick=\"convertToInteractive('df-61237e0e-ac3e-4da4-aea3-b7bc58e0b0e3')\"\n",
              "              title=\"Convert this dataframe to an interactive table.\"\n",
              "              style=\"display:none;\">\n",
              "        \n",
              "  <svg xmlns=\"http://www.w3.org/2000/svg\" height=\"24px\"viewBox=\"0 0 24 24\"\n",
              "       width=\"24px\">\n",
              "    <path d=\"M0 0h24v24H0V0z\" fill=\"none\"/>\n",
              "    <path d=\"M18.56 5.44l.94 2.06.94-2.06 2.06-.94-2.06-.94-.94-2.06-.94 2.06-2.06.94zm-11 1L8.5 8.5l.94-2.06 2.06-.94-2.06-.94L8.5 2.5l-.94 2.06-2.06.94zm10 10l.94 2.06.94-2.06 2.06-.94-2.06-.94-.94-2.06-.94 2.06-2.06.94z\"/><path d=\"M17.41 7.96l-1.37-1.37c-.4-.4-.92-.59-1.43-.59-.52 0-1.04.2-1.43.59L10.3 9.45l-7.72 7.72c-.78.78-.78 2.05 0 2.83L4 21.41c.39.39.9.59 1.41.59.51 0 1.02-.2 1.41-.59l7.78-7.78 2.81-2.81c.8-.78.8-2.07 0-2.86zM5.41 20L4 18.59l7.72-7.72 1.47 1.35L5.41 20z\"/>\n",
              "  </svg>\n",
              "      </button>\n",
              "      \n",
              "  <style>\n",
              "    .colab-df-container {\n",
              "      display:flex;\n",
              "      flex-wrap:wrap;\n",
              "      gap: 12px;\n",
              "    }\n",
              "\n",
              "    .colab-df-convert {\n",
              "      background-color: #E8F0FE;\n",
              "      border: none;\n",
              "      border-radius: 50%;\n",
              "      cursor: pointer;\n",
              "      display: none;\n",
              "      fill: #1967D2;\n",
              "      height: 32px;\n",
              "      padding: 0 0 0 0;\n",
              "      width: 32px;\n",
              "    }\n",
              "\n",
              "    .colab-df-convert:hover {\n",
              "      background-color: #E2EBFA;\n",
              "      box-shadow: 0px 1px 2px rgba(60, 64, 67, 0.3), 0px 1px 3px 1px rgba(60, 64, 67, 0.15);\n",
              "      fill: #174EA6;\n",
              "    }\n",
              "\n",
              "    [theme=dark] .colab-df-convert {\n",
              "      background-color: #3B4455;\n",
              "      fill: #D2E3FC;\n",
              "    }\n",
              "\n",
              "    [theme=dark] .colab-df-convert:hover {\n",
              "      background-color: #434B5C;\n",
              "      box-shadow: 0px 1px 3px 1px rgba(0, 0, 0, 0.15);\n",
              "      filter: drop-shadow(0px 1px 2px rgba(0, 0, 0, 0.3));\n",
              "      fill: #FFFFFF;\n",
              "    }\n",
              "  </style>\n",
              "\n",
              "      <script>\n",
              "        const buttonEl =\n",
              "          document.querySelector('#df-61237e0e-ac3e-4da4-aea3-b7bc58e0b0e3 button.colab-df-convert');\n",
              "        buttonEl.style.display =\n",
              "          google.colab.kernel.accessAllowed ? 'block' : 'none';\n",
              "\n",
              "        async function convertToInteractive(key) {\n",
              "          const element = document.querySelector('#df-61237e0e-ac3e-4da4-aea3-b7bc58e0b0e3');\n",
              "          const dataTable =\n",
              "            await google.colab.kernel.invokeFunction('convertToInteractive',\n",
              "                                                     [key], {});\n",
              "          if (!dataTable) return;\n",
              "\n",
              "          const docLinkHtml = 'Like what you see? Visit the ' +\n",
              "            '<a target=\"_blank\" href=https://colab.research.google.com/notebooks/data_table.ipynb>data table notebook</a>'\n",
              "            + ' to learn more about interactive tables.';\n",
              "          element.innerHTML = '';\n",
              "          dataTable['output_type'] = 'display_data';\n",
              "          await google.colab.output.renderOutput(dataTable, element);\n",
              "          const docLink = document.createElement('div');\n",
              "          docLink.innerHTML = docLinkHtml;\n",
              "          element.appendChild(docLink);\n",
              "        }\n",
              "      </script>\n",
              "    </div>\n",
              "  </div>\n",
              "  "
            ]
          },
          "metadata": {},
          "execution_count": 157
        }
      ]
    },
    {
      "cell_type": "markdown",
      "source": [
        "Check for imbalance between classes **(P1-4: 3 points)**"
      ],
      "metadata": {
        "id": "2O2NEn6McNgN"
      }
    },
    {
      "cell_type": "code",
      "source": [
        "classes = df_target.value_counts(normalize=True)\n",
        "classes"
      ],
      "metadata": {
        "execution": {
          "iopub.status.busy": "2023-05-24T06:50:13.895162Z",
          "iopub.execute_input": "2023-05-24T06:50:13.895599Z",
          "iopub.status.idle": "2023-05-24T06:50:13.905600Z",
          "shell.execute_reply.started": "2023-05-24T06:50:13.895565Z",
          "shell.execute_reply": "2023-05-24T06:50:13.904313Z"
        },
        "trusted": true,
        "id": "jfApFEhjUmDJ",
        "colab": {
          "base_uri": "https://localhost:8080/"
        },
        "outputId": "da22635c-6fcf-4c58-9086-4e53b5b8a907"
      },
      "execution_count": 158,
      "outputs": [
        {
          "output_type": "execute_result",
          "data": {
            "text/plain": [
              "2    0.341709\n",
              "1    0.331658\n",
              "3    0.326633\n",
              "Name: Type, dtype: float64"
            ]
          },
          "metadata": {},
          "execution_count": 158
        }
      ]
    },
    {
      "cell_type": "markdown",
      "source": [
        "*So classes are not imbalanced significantly*"
      ],
      "metadata": {
        "id": "HA2ISnNs5c2S"
      }
    },
    {
      "cell_type": "markdown",
      "source": [
        "## P2: Prepare the Training Data"
      ],
      "metadata": {
        "id": "iqg_DkvfUmDK"
      }
    },
    {
      "cell_type": "markdown",
      "source": [
        "Convert features and the target into numpy arrays **(P2-1: 2 points)**"
      ],
      "metadata": {
        "id": "SNbqym9_cfX7"
      }
    },
    {
      "cell_type": "code",
      "source": [
        "features = uncorrelated_df_features.to_numpy()\n",
        "target = df_target.to_numpy()\n",
        "features.shape, target.shape"
      ],
      "metadata": {
        "execution": {
          "iopub.status.busy": "2023-05-24T06:53:36.362537Z",
          "iopub.execute_input": "2023-05-24T06:53:36.362962Z",
          "iopub.status.idle": "2023-05-24T06:53:36.372547Z",
          "shell.execute_reply.started": "2023-05-24T06:53:36.362921Z",
          "shell.execute_reply": "2023-05-24T06:53:36.371066Z"
        },
        "trusted": true,
        "id": "bjIaMSwDUmDK",
        "colab": {
          "base_uri": "https://localhost:8080/"
        },
        "outputId": "64ee9d6e-d1d6-4e50-b0ff-6ed42cdb5047"
      },
      "execution_count": 159,
      "outputs": [
        {
          "output_type": "execute_result",
          "data": {
            "text/plain": [
              "((199, 4), (199,))"
            ]
          },
          "metadata": {},
          "execution_count": 159
        }
      ]
    },
    {
      "cell_type": "markdown",
      "source": [
        "Split the samples into training (80%) and testing (20%) arrays **(P2-2: 5 points)**"
      ],
      "metadata": {
        "id": "WAbTVPmsc_NZ"
      }
    },
    {
      "cell_type": "code",
      "source": [
        "X_train, X_test, y_train, y_test = train_test_split(features, target, test_size=0.2, random_state=42)"
      ],
      "metadata": {
        "execution": {
          "iopub.status.busy": "2023-05-24T06:55:50.649173Z",
          "iopub.execute_input": "2023-05-24T06:55:50.649684Z",
          "iopub.status.idle": "2023-05-24T06:55:50.657736Z",
          "shell.execute_reply.started": "2023-05-24T06:55:50.649644Z",
          "shell.execute_reply": "2023-05-24T06:55:50.656442Z"
        },
        "trusted": true,
        "id": "tuVoQeG5UmDK"
      },
      "execution_count": 160,
      "outputs": []
    },
    {
      "cell_type": "markdown",
      "source": [
        "## P3: Decision Tree Implementation"
      ],
      "metadata": {
        "id": "vK8uumlAUmDL"
      }
    },
    {
      "cell_type": "markdown",
      "source": [
        "Implement desicion tree for classification from scratch **(P3-1: 20 points)**"
      ],
      "metadata": {
        "id": "cjUlsiCYdd69"
      }
    },
    {
      "cell_type": "code",
      "source": [
        "class Node:\n",
        "  def __init__(self, feature_idx=None, threshold=None, left=None, right=None, value=None):\n",
        "    self.feature_idx = feature_idx\n",
        "    self.threshold=threshold \n",
        "    self.left=left\n",
        "    self.right=right\n",
        "    self.value=value\n",
        "\n",
        "class DecisionTree:\n",
        "     \n",
        "    def __init__(self, criterion=\"entropy\", max_depth=None):\n",
        "        \"\"\"\n",
        "        Parameters:\n",
        "        \n",
        "        criterion -- “gini” for the Gini impurity and “entropy” for the Information Gain. (default “entropy”)\n",
        "        max_depth -- The maximum depth of the tree. If None, then nodes are expanded until all leaves are pure. (default=None)\n",
        "        \"\"\"\n",
        "        self.root=None\n",
        "        self.max_depth = max_depth\n",
        "        self.criterion = criterion\n",
        "    \n",
        "    def fit(self, X, y):\n",
        "        \"\"\"\n",
        "        Build a decision tree classifier from the training set (X, y).\n",
        "\n",
        "        Returns:\n",
        "        self : Fitted estimator\n",
        "        \"\"\"\n",
        "        self.n_samples, self.n_features = X.shape\n",
        "        self.root = self._grow_tree(X, y, 0)\n",
        "        return self\n",
        "\n",
        "    def _grow_tree(self, X, y, tree_depth=0):\n",
        "      n_classes = len(np.unique(y))\n",
        "\n",
        "      #if we have arrive at a leaf\n",
        "      if n_classes <= 1 or\\\n",
        "          (self.max_depth is not None and tree_depth >= self.max_depth):\n",
        "        value = self._vote_leaf(y)\n",
        "        leaf_node = Node(value = value)\n",
        "        return leaf_node\n",
        "      #Else in decision nodes\n",
        "      best_split_idx, best_split_threshold = self._get_best_split(X, y)\n",
        "\n",
        "      X_feature = X[:, best_split_idx]\n",
        "      left_idxs, right_idxs = self._split(X_feature, best_split_threshold)\n",
        "      left = self._grow_tree(X[left_idxs, :], y[left_idxs], tree_depth + 1)\n",
        "      right = self._grow_tree(X[right_idxs, :], y[right_idxs], tree_depth + 1)\n",
        "      return Node(feature_idx=best_split_idx, threshold=best_split_threshold, left=left, right=right)\n",
        "      \n",
        "    def _get_best_split(self, X, y):\n",
        "      best_info_gain = -float(\"inf\")\n",
        "      best_split_idx, best_split_threshold = None, None\n",
        "\n",
        "      for feature_idx in range(self.n_features):\n",
        "        X_feature = X[:, feature_idx]\n",
        "        possible_thresholds = np.unique(X_feature)\n",
        "\n",
        "        for threshold in possible_thresholds:\n",
        "          gain_feature_threshold = self._information_gain(X_feature, y, threshold)\n",
        "          if gain_feature_threshold > best_info_gain:\n",
        "            best_info_gain = gain_feature_threshold\n",
        "            best_split_idx = feature_idx\n",
        "            best_split_threshold = threshold\n",
        "      \n",
        "      return best_split_idx, best_split_threshold\n",
        "\n",
        "\n",
        "    def _information_gain(self, X, y, threshold):\n",
        "      left_idxs, right_idxs = self._split(X, threshold)\n",
        "      if len(left_idxs) == 0 or len(right_idxs) == 0:\n",
        "            return 0\n",
        "      n_l = len(left_idxs)\n",
        "      n_r = len(right_idxs)\n",
        "      n = len(y)\n",
        "      if self.criterion==\"entropy\":\n",
        "        child_entropy = (n_l / n) * self._entropy(y[left_idxs]) + (n_r / n) * self._entropy(y[right_idxs])\n",
        "        parent_entropy = self._entropy(y)\n",
        "        return parent_entropy - child_entropy\n",
        "      else:\n",
        "        child_gini = (n_l / n) * self._gini(y[left_idxs]) + (n_r / n) * self._gini(y[right_idxs])\n",
        "        parent_gini = self._gini(y)\n",
        "        return parent_gini - child_gini\n",
        "    \n",
        "    def _entropy(self, y):\n",
        "      nominator = np.bincount(y)\n",
        "      pi_s = nominator / len(y)\n",
        "      entropy = -np.sum([p * np.log2(p) for p in pi_s if p > 0])\n",
        "      return entropy\n",
        "\n",
        "    def _gini(self, y):\n",
        "      nominator = np.bincount(y)\n",
        "      pi_s = nominator / len(y)\n",
        "      gini = 1 - np.sum([p**2 for p in pi_s if p > 0])\n",
        "      return gini\n",
        "      \n",
        "    def _split(self, X, threshold):\n",
        "        left_idxs = np.argwhere(X <= threshold).flatten()\n",
        "        right_idxs = np.argwhere(X > threshold).flatten()\n",
        "        return left_idxs, right_idxs\n",
        "\n",
        "    def _vote_leaf(self, y):\n",
        "      values, counts = np.unique(y, return_counts=True)\n",
        "      return values[np.argmax(counts)]\n",
        "  \n",
        "    def predict(self, X):\n",
        "        \"\"\"\n",
        "        Predict class value for X.\n",
        "\n",
        "        Returns:\n",
        "        y : The predicted classes\n",
        "        \"\"\"\n",
        "        y = np.array([self._make_prediction(x, self.root) for x in X])\n",
        "        return y\n",
        "      \n",
        "    def _make_prediction(self, x, node):\n",
        "      if node.value is not None:\n",
        "        return node.value\n",
        "      if x[node.feature_idx] <= node.threshold:\n",
        "        return self._make_prediction(x, node.left)\n",
        "      return self._make_prediction(x, node.right)"
      ],
      "metadata": {
        "id": "b9N9B5KpUmDL"
      },
      "execution_count": 161,
      "outputs": []
    },
    {
      "cell_type": "markdown",
      "source": [
        "Define two decision trees with two different criteria **(P3-2: 3 points)**"
      ],
      "metadata": {
        "id": "0zZRBqIwdjfX"
      }
    },
    {
      "cell_type": "code",
      "source": [
        "gini_tree = DecisionTree(criterion = \"gini\")\n",
        "entropy_tree = DecisionTree(criterion = \"entropy\")"
      ],
      "metadata": {
        "id": "48Gvh2AvUmDM"
      },
      "execution_count": 162,
      "outputs": []
    },
    {
      "cell_type": "markdown",
      "source": [
        "Fit the defined decision trees on training samples **(P3-3: 2 points)**"
      ],
      "metadata": {
        "id": "yP1tHIzsdvdf"
      }
    },
    {
      "cell_type": "code",
      "source": [
        "gini_tree.fit(X_train, y_train)\n",
        "entropy_tree.fit(X_train, y_train)"
      ],
      "metadata": {
        "id": "hYINieZEUmDM",
        "colab": {
          "base_uri": "https://localhost:8080/"
        },
        "outputId": "fa3c8909-498c-410b-c493-860f4435ca54"
      },
      "execution_count": 163,
      "outputs": [
        {
          "output_type": "execute_result",
          "data": {
            "text/plain": [
              "<__main__.DecisionTree at 0x7f4e3b5ecd30>"
            ]
          },
          "metadata": {},
          "execution_count": 163
        }
      ]
    },
    {
      "cell_type": "markdown",
      "source": [
        "Get the results on the test set **(P3-4: 5 points)**"
      ],
      "metadata": {
        "id": "8OFAB5DZdz7s"
      }
    },
    {
      "cell_type": "code",
      "source": [
        "y_predicted_gini = gini_tree.predict(X_test)\n",
        "y_predicted_entropy = entropy_tree.predict(X_test)\n",
        "y_predicted_gini, y_predicted_entropy"
      ],
      "metadata": {
        "id": "4PSIJEkmUmDM",
        "colab": {
          "base_uri": "https://localhost:8080/"
        },
        "outputId": "729443d1-b74c-4897-9254-aed78fd4b335"
      },
      "execution_count": 164,
      "outputs": [
        {
          "output_type": "execute_result",
          "data": {
            "text/plain": [
              "(array([2, 1, 2, 3, 2, 3, 2, 2, 2, 3, 3, 3, 3, 1, 2, 2, 1, 3, 2, 1, 2, 2,\n",
              "        2, 3, 2, 3, 3, 1, 3, 2, 1, 1, 3, 3, 2, 2, 2, 2, 2, 2]),\n",
              " array([2, 1, 2, 3, 2, 3, 2, 2, 2, 3, 3, 3, 3, 1, 2, 2, 1, 3, 2, 3, 2, 2,\n",
              "        2, 3, 2, 3, 3, 1, 3, 2, 1, 1, 3, 3, 2, 2, 2, 2, 2, 2]))"
            ]
          },
          "metadata": {},
          "execution_count": 164
        }
      ]
    },
    {
      "cell_type": "markdown",
      "source": [
        "Train the decision trees, considering the values [1,2,3,4,5] as the maximum depth **(P3-5: 5 points)**"
      ],
      "metadata": {
        "id": "4fVMCCuMd6uC"
      }
    },
    {
      "cell_type": "code",
      "source": [
        "depths = [1, 2, 3, 4, 5]\n",
        "gini_trees = []\n",
        "entropy_trees = []\n",
        "for depth in depths:\n",
        "  gini_trees.append(DecisionTree(criterion = \"gini\", max_depth = depth).fit(X_train, y_train))\n",
        "  entropy_trees.append(DecisionTree(criterion = \"entropy\", max_depth = depth).fit(X_train, y_train))"
      ],
      "metadata": {
        "id": "W6iKq_N6UmDM"
      },
      "execution_count": 165,
      "outputs": []
    },
    {
      "cell_type": "markdown",
      "source": [
        "Compare the accuracy score of the decision trees with and without using the \"max_depth\" parameter and discuss the effects of limiting the maximum depth of decision trees. **(P3-6: 5 points)**"
      ],
      "metadata": {
        "id": "RzSv_Rb5eR6M"
      }
    },
    {
      "cell_type": "code",
      "source": [
        "from sklearn.metrics import accuracy_score\n",
        "accuracy_gini_no_depth = accuracy_score(y_test, y_predicted_gini)\n",
        "# accuracy_gini_no_depth = np.sum(y_predicted_gini == y_test) / len(y_test)\n",
        "accuracy_entropy_no_depth = accuracy_score(y_test, y_predicted_entropy)\n",
        "# accuracy_entropy_no_depth = np.sum(y_predicted_entropy == y_test) / len(y_test)\n",
        "accuracies_gini_with_depth = []\n",
        "accuracies_entropy_with_depth = []\n",
        "for gini_tree in gini_trees:\n",
        "  accuracies_gini_with_depth.append(accuracy_score(y_test, gini_tree.predict(X_test)))\n",
        "for entropy_tree in entropy_trees:\n",
        "  accuracies_entropy_with_depth.append(accuracy_score(y_test, entropy_tree.predict(X_test))) \n",
        "\n",
        "depths.append(\"inf\")\n",
        "accuracies_gini_with_depth.append(accuracy_gini_no_depth)\n",
        "accuracies_entropy_with_depth.append(accuracy_entropy_no_depth)\n",
        "\n",
        "fig, (ax1, ax2) = plt.subplots(1, 2)\n",
        "ax1.plot(depths, accuracies_gini_with_depth)\n",
        "ax2.plot(depths, accuracies_entropy_with_depth)\n",
        "\n",
        "ax1.set_title('Gini')\n",
        "ax2.set_title('Entropy')\n",
        "plt.show()"
      ],
      "metadata": {
        "id": "Si-JEqhsUmDN",
        "colab": {
          "base_uri": "https://localhost:8080/",
          "height": 452
        },
        "outputId": "6743887c-e20d-471a-e7e6-d6bbbe35fb07"
      },
      "execution_count": 166,
      "outputs": [
        {
          "output_type": "display_data",
          "data": {
            "text/plain": [
              "<Figure size 640x480 with 2 Axes>"
            ],
            "image/png": "[encoded data removed]"
          },
          "metadata": {}
        }
      ]
    },
    {
      "cell_type": "markdown",
      "source": [
        "**Limiting maximum depth can minimize computation time, while controlling the variance. As it can be seen, the model with maximum depth 2 does a better job on the test dataset; This is because deeper trees tend to overfit and give worse accuracy on the test dataset.**"
      ],
      "metadata": {
        "id": "31rUsJzswoaU"
      }
    },
    {
      "cell_type": "markdown",
      "source": [
        "## P4: Ensemble Models"
      ],
      "metadata": {
        "id": "FDJ3KWH2UmDN"
      }
    },
    {
      "cell_type": "markdown",
      "source": [
        "### P4-1: Bagging"
      ],
      "metadata": {
        "id": "CoVu14uOUmDN"
      }
    },
    {
      "cell_type": "markdown",
      "source": [
        "Implement the bagging algorithm for classification from scratch **(P4-1-1: 15 points)**"
      ],
      "metadata": {
        "id": "QSFF3YN2exyE"
      }
    },
    {
      "cell_type": "code",
      "source": [
        "class BaggingDecisionTree:\n",
        "     \n",
        "    def __init__(self, bootstraped_training_num=50, predictors_num=50):\n",
        "        \"\"\"\n",
        "        Parameters:\n",
        "        \n",
        "        bootstraped_training_num -- The number of training sets we are gonna have\n",
        "        predictors_num -- The number of predictors we want to use for each test sample\n",
        "        \"\"\"\n",
        "        self.bootstraped_training_num = bootstraped_training_num\n",
        "        self.predictors_num = predictors_num\n",
        "    \n",
        "    def fit(self, X, y):\n",
        "        \"\"\"\n",
        "        Create `self.bootstraped_training_num` training sets by random sampling of the input training elements with replacement.\n",
        "        Then create the same number of classifiers and fit each classifier on the corresponding training set.\n",
        "        \n",
        "        Paramters:\n",
        "        X : training features array\n",
        "        y : target array\n",
        "        \n",
        "        Returns:\n",
        "        self : Fitted estimator\n",
        "        \"\"\"\n",
        "        self.models = np.array([])\n",
        "        self.n_samples, self.n_features = X.shape\n",
        "        #bootstrapping\n",
        "        for _ in range(self.bootstraped_training_num):\n",
        "          idxs=np.random.choice(len(X),size=len(X), replace = True)\n",
        "          Xi = X[idxs]\n",
        "          yi = y[idxs]\n",
        "          model=DecisionTree()\n",
        "          model.fit(Xi, yi)\n",
        "          self.models = np.append(self.models, model)\n",
        "\n",
        "        return self\n",
        "    \n",
        "    def predict(self, X):\n",
        "        \"\"\"\n",
        "        Predict class value for X using mavority voting of `self.predictors_num` classifiers.\n",
        "\n",
        "        Paramters:\n",
        "        X : training features array\n",
        "        \n",
        "        Returns:\n",
        "        y : The predicted classes\n",
        "        \"\"\"\n",
        "        y = np.array([self._make_prediction(x, self.predictors_num) for x in X])\n",
        "        return y\n",
        "    \n",
        "    def _make_prediction(self, x, predictors_num):\n",
        "      #Choose predictors_num models\n",
        "      selected_models = np.random.choice(self.models, size = predictors_num)\n",
        "      for model in selected_models:\n",
        "        predictions = model._make_prediction(x, model.root)\n",
        "      aggregated_prediction = self._vote_leaf(predictions)\n",
        "      return aggregated_prediction\n",
        "        \n",
        "    def _vote_leaf(self, y):\n",
        "      values, counts = np.unique(y, return_counts=True)\n",
        "      return values[np.argmax(counts)]"
      ],
      "metadata": {
        "id": "Fftoht45UmDN"
      },
      "execution_count": 174,
      "outputs": []
    },
    {
      "cell_type": "markdown",
      "source": [
        "Create an instance of the BaggingDecisionTree class with `bootstraped_training_num=50`, `predictors_num=50` and fit it on the training data **(P4-1-2: 3 points)**"
      ],
      "metadata": {
        "id": "2g__7Wppe-8x"
      }
    },
    {
      "cell_type": "code",
      "source": [
        "initial_bagging_tree = BaggingDecisionTree().fit(X_train, y_train)"
      ],
      "metadata": {
        "execution": {
          "iopub.status.busy": "2023-05-24T07:37:02.732776Z",
          "iopub.execute_input": "2023-05-24T07:37:02.733345Z",
          "iopub.status.idle": "2023-05-24T07:37:02.755458Z",
          "shell.execute_reply.started": "2023-05-24T07:37:02.733301Z",
          "shell.execute_reply": "2023-05-24T07:37:02.754110Z"
        },
        "trusted": true,
        "id": "0DO4IpI8UmDO"
      },
      "execution_count": 175,
      "outputs": []
    },
    {
      "cell_type": "markdown",
      "source": [
        "Create another instance of the BaggingDecisionTree class with `bootstraped_training_num=50`, `predictors_num=7` and fit it on the training data **(P4-1-3: 2 points)**"
      ],
      "metadata": {
        "id": "C3P5M4QtfOn4"
      }
    },
    {
      "cell_type": "code",
      "source": [
        "second_bagging_tree = BaggingDecisionTree(predictors_num=7).fit(X_train, y_train)"
      ],
      "metadata": {
        "id": "aovAzNhPUmDO"
      },
      "execution_count": 176,
      "outputs": []
    },
    {
      "cell_type": "markdown",
      "source": [
        "Test the created models on the test set. Discuss differences of two approaches we adopted. **(P4-1-4: 5 points)**"
      ],
      "metadata": {
        "id": "wbncvgGBoiHF"
      }
    },
    {
      "cell_type": "code",
      "source": [
        "first_score = accuracy_score(y_test, initial_bagging_tree.predict(X_test))\n",
        "second_score = accuracy_score(y_test, second_bagging_tree.predict(X_test))\n",
        "print(\"First bagging: \" + str(first_score))\n",
        "print(\"Second bagging: \" + str(second_score))"
      ],
      "metadata": {
        "id": "4R7mpMH3oqnM",
        "colab": {
          "base_uri": "https://localhost:8080/"
        },
        "outputId": "a6edeef3-b499-4c38-9a1b-29bcbc64588a"
      },
      "execution_count": 181,
      "outputs": [
        {
          "output_type": "stream",
          "name": "stdout",
          "text": [
            "First bagging: 0.9\n",
            "Second bagging: 0.85\n"
          ]
        }
      ]
    },
    {
      "cell_type": "markdown",
      "source": [
        "**As we get more predictors, we get less variance and the accuracy on the test data will get better. This is because more predictors capture more data patterns.\n",
        "If we get use less predictors, as it can be seen the accuracy will be less because we use less predictors.**"
      ],
      "metadata": {
        "id": "JqdMVmeu-oVo"
      }
    },
    {
      "cell_type": "markdown",
      "source": [
        "### P4-2: Boosting"
      ],
      "metadata": {
        "id": "oZDz7B3DUmDO"
      }
    },
    {
      "cell_type": "markdown",
      "source": [
        "Implement the Adaboost algorithm for classification from scratch **(P4-2-1: 10 points)**"
      ],
      "metadata": {
        "id": "rJhWmus3pDHI"
      }
    },
    {
      "cell_type": "code",
      "source": [
        "class AdaBoost:\n",
        "     \n",
        "    def __init__(self, weak_classifiers_count=50):\n",
        "        \"\"\"\n",
        "        Parameters:\n",
        "        weak_classifiers_count -- The number of weak classifiers we are gonna have\n",
        "        \"\"\"\n",
        "        self.weak_classifiers_count = weak_classifiers_count\n",
        "        self.weak_learners = []\n",
        "        # self.training_errors = []\n",
        "        self.ats = [] \n",
        "    \n",
        "    def fit(self, X, y):\n",
        "        \"\"\"\n",
        "        Fit the Adaboost on training data. take DecisionTree with max_depth of 1 as your weak classifier.\n",
        "        \n",
        "        Paramters:\n",
        "        X : training features array\n",
        "        y : target array\n",
        "        \n",
        "        Returns:\n",
        "        self : Fitted estimator\n",
        "        \n",
        "        \"\"\"\n",
        "        # self.training_errors = []\n",
        "        #amounts to say\n",
        "        self.ats = [] \n",
        "        self.n_samples, self.n_features = X.shape\n",
        "        self.ys = np.unique(y)\n",
        "\n",
        "        for m in range(self.weak_classifiers_count):\n",
        "          if m == 0:\n",
        "            w_i = np.ones(len(y)) * 1 / len(y) #initial weights\n",
        "          else:\n",
        "            w_i = self._update_weights(w_i, last_amount_to_say, y, y_pred)\n",
        "            w_i = w_i / np.sum(w_i) #normalize\n",
        "          \n",
        "          #Stump\n",
        "          weak_model = DecisionTree(max_depth = 1)\n",
        "          #The way we configure weights is that we resample from the dataset based on weights\n",
        "          sample_idx = np.random.choice(len(X), len(X), p = w_i)\n",
        "          sample_Xs = X[sample_idx]\n",
        "          sample_ys = y[sample_idx]\n",
        "          weak_model.fit(sample_Xs, sample_ys)\n",
        "\n",
        "          y_pred = weak_model.predict(X)\n",
        "          self.weak_learners.append(weak_model)\n",
        "\n",
        "          error_weaklearner = self._compute_error(y, y_pred, w_i) \n",
        "          # self.training_errors.append(error_weaklearner)\n",
        "          last_amount_to_say = self._compute_amount_to_say(error_weaklearner)\n",
        "          self.ats.append(last_amount_to_say)\n",
        "\n",
        "        return self\n",
        "    \n",
        "    def _compute_amount_to_say(self, error):\n",
        "      #based on the formula\n",
        "      return np.log((1 - error) / error)\n",
        "\n",
        "    def _compute_error(self, y, y_pred, w_i):\n",
        "      #based on the formula of total error\n",
        "      return (sum(w_i * (np.not_equal(y, y_pred)).astype(int)))/sum(w_i)\n",
        "\n",
        "    def _update_weights(self, w_i, amount_to_say, y, y_pred):\n",
        "      return w_i * np.exp(amount_to_say * (np.not_equal(y, y_pred)).astype(int))\n",
        "\n",
        "    def predict(self, X):\n",
        "        \"\"\"\n",
        "        Predict class value for X using mavority voting of `self.predictors_num` classifiers.\n",
        "\n",
        "        Paramters:\n",
        "        X : training features array\n",
        "        \n",
        "        Returns:\n",
        "        y : The predicted classes\n",
        "        \"\"\"\n",
        "        y = np.array([self._make_prediction(x) for x in X])\n",
        "        return y\n",
        "      \n",
        "    def _make_prediction(self, x):\n",
        "      a = dict.fromkeys(self.ys, 0)\n",
        "      for m in range(self.weak_classifiers_count):\n",
        "        weak_classifier = self.weak_learners[m]\n",
        "        y_pred_m = weak_classifier._make_prediction(x,weak_classifier.root)\n",
        "        a[y_pred_m] += self.ats[m]\n",
        "      return max(a, key=a.get)"
      ],
      "metadata": {
        "id": "3xkDqLJVUmDO"
      },
      "execution_count": 171,
      "outputs": []
    },
    {
      "cell_type": "markdown",
      "source": [
        "Create an instance of Adaboost and fit it to the data **(P4-2-2: 2 points)**"
      ],
      "metadata": {
        "id": "kADfP8A-rvJ-"
      }
    },
    {
      "cell_type": "code",
      "source": [
        "adaboost_classifier = AdaBoost().fit(X_train, y_train)"
      ],
      "metadata": {
        "id": "o4EcOGGoUmDO"
      },
      "execution_count": 172,
      "outputs": []
    },
    {
      "cell_type": "markdown",
      "source": [
        "Test Adaboost on the testing set **(P4-2-3: 3 points)**"
      ],
      "metadata": {
        "id": "DUDo-Q2Or5Eu"
      }
    },
    {
      "cell_type": "code",
      "source": [
        "adaboost_prediction = adaboost_classifier.predict(X_test)\n",
        "adaboost_score = accuracy_score(y_test, adaboost_prediction)\n",
        "print(\"Adaboost accuracy is: \"+ str(adaboost_score))"
      ],
      "metadata": {
        "id": "WdRVUc4MUmDP",
        "colab": {
          "base_uri": "https://localhost:8080/"
        },
        "outputId": "c2e9d362-7647-4790-af19-92fb15b3fca3"
      },
      "execution_count": 173,
      "outputs": [
        {
          "output_type": "stream",
          "name": "stdout",
          "text": [
            "Adaboost accuracy is: 0.925\n"
          ]
        }
      ]
    }
  ]
}