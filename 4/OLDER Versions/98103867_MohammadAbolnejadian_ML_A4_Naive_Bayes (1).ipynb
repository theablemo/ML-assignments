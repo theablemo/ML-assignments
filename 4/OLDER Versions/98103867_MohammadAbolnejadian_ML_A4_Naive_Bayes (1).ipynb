{
  "cells": [
    {
      "attachments": {},
      "cell_type": "markdown",
      "metadata": {
        "id": "b07eb33c"
      },
      "source": [
        "<div>\n",
        "<img src='http://www-scf.usc.edu/~ghasemig/images/sharif.png' alt=\"SUT logo\" width=220 height=220 align=left class=\"saturate\">\n",
        "\n",
        "<br>\n",
        "<font face=\"Times New Roman\">\n",
        "<div dir=ltr align=center> \n",
        "<!-- <font color=0F5298 size=7> -->\n",
        "<font color=0F5298 size=6>\n",
        "    Introduction to Machine Learning <br> <br>\n",
        "<!-- <font color=2565AE size=5> -->\n",
        "<font size=5>\n",
        "    Computer Engineering Department <br>\n",
        "    Spring 2023 <br> <br>\n",
        "<font color=606060 size=5>\n",
        "    Homework 4: Practical - Naive Bayes <br> <br>\n",
        "<font color=686880 size=4>\n",
        "    TAs: Alireza Farashah - Arman Malekzadeh - Ali Salesi\n",
        "    \n",
        "____"
      ]
    },
    {
      "attachments": {},
      "cell_type": "markdown",
      "metadata": {
        "id": "f5a79508"
      },
      "source": [
        "### Full Name : Mohammad Abolnejadian\n",
        "### Student Number : 98103867\n",
        "### Colab Link: \n",
        "___"
      ]
    },
    {
      "attachments": {},
      "cell_type": "markdown",
      "metadata": {
        "id": "QTZBzFXNv8pP"
      },
      "source": [
        "Note 1: In this assignment, we are trying to simulate the functionality of something called \"CountVectorizer\" which is used in natural language processing. You are advised to take a look at this link before beginning to answer the questions:\n",
        "\n",
        "https://www.geeksforgeeks.org/using-countvectorizer-to-extracting-features-from-text/\n",
        "\n",
        "Note 2: One or two TA sessions will be held related to this assignment to make sure you get familiarized with this topic. Therefore, keep calm and write code!"
      ]
    },
    {
      "attachments": {},
      "cell_type": "markdown",
      "metadata": {
        "id": "Dsp-qF9vLbUt"
      },
      "source": [
        "# Download the Dataset"
      ]
    },
    {
      "cell_type": "code",
      "execution_count": 1,
      "metadata": {
        "colab": {
          "base_uri": "https://localhost:8080/"
        },
        "id": "YQG4cjKvK4zZ",
        "outputId": "15ff002d-2b31-4ab8-e196-b41a14b0e04d"
      },
      "outputs": [
        {
          "name": "stdout",
          "output_type": "stream",
          "text": [
            "/content/dataset.zip: No such file or directory\n"
          ]
        }
      ],
      "source": [
        "!wget -O /content/dataset.zip \"https://www.dropbox.com/s/yf195wl0sp3term/dataset-train.zip?dl=1\""
      ]
    },
    {
      "cell_type": "code",
      "execution_count": 2,
      "metadata": {
        "colab": {
          "base_uri": "https://localhost:8080/"
        },
        "id": "GkjLDi1xBR-r",
        "outputId": "26192fb7-b727-40d8-da1d-4f74979ed780"
      },
      "outputs": [
        {
          "name": "stdout",
          "output_type": "stream",
          "text": [
            "mkdir: /content: No such file or directory\n",
            "unzip:  cannot find or open /content/dataset.zip, /content/dataset.zip.zip or /content/dataset.zip.ZIP.\n"
          ]
        }
      ],
      "source": [
        "!mkdir /content/dataset/\n",
        "!unzip '/content/dataset.zip' -d /content/dataset/"
      ]
    },
    {
      "attachments": {},
      "cell_type": "markdown",
      "metadata": {
        "id": "AI_tN2UDLgT_"
      },
      "source": [
        "# Preprocessing"
      ]
    },
    {
      "cell_type": "code",
      "execution_count": 1,
      "metadata": {
        "id": "xzZeY9pcBo-7"
      },
      "outputs": [],
      "source": [
        "import pandas as pd\n",
        "import numpy as np\n",
        "from sklearn.feature_extraction.text import CountVectorizer\n",
        "from sklearn.naive_bayes import MultinomialNB\n",
        "from sklearn.preprocessing import LabelEncoder\n",
        "from sklearn.model_selection import train_test_split\n",
        "from sklearn.metrics import classification_report"
      ]
    },
    {
      "attachments": {},
      "cell_type": "markdown",
      "metadata": {
        "id": "bovAIGr4LkcU"
      },
      "source": [
        "Read the csv file and load it as a dataframe."
      ]
    },
    {
      "cell_type": "code",
      "execution_count": 2,
      "metadata": {
        "colab": {
          "base_uri": "https://localhost:8080/",
          "height": 424
        },
        "id": "5XkCekbTQzaf",
        "outputId": "b21e59e8-3322-4564-e798-360cdbe1e3df"
      },
      "outputs": [
        {
          "data": {
            "text/html": [
              "<div>\n",
              "<style scoped>\n",
              "    .dataframe tbody tr th:only-of-type {\n",
              "        vertical-align: middle;\n",
              "    }\n",
              "\n",
              "    .dataframe tbody tr th {\n",
              "        vertical-align: top;\n",
              "    }\n",
              "\n",
              "    .dataframe thead th {\n",
              "        text-align: right;\n",
              "    }\n",
              "</style>\n",
              "<table border=\"1\" class=\"dataframe\">\n",
              "  <thead>\n",
              "    <tr style=\"text-align: right;\">\n",
              "      <th></th>\n",
              "      <th>topic</th>\n",
              "      <th>text</th>\n",
              "    </tr>\n",
              "  </thead>\n",
              "  <tbody>\n",
              "    <tr>\n",
              "      <th>0</th>\n",
              "      <td>sports</td>\n",
              "      <td>به گزارش ورزش سه تیم فوتبال پدیده در روزی که ا...</td>\n",
              "    </tr>\n",
              "    <tr>\n",
              "      <th>1</th>\n",
              "      <td>politics</td>\n",
              "      <td>پاسخ مثبت به انتقادات شورای نگهبان البته # قبل...</td>\n",
              "    </tr>\n",
              "    <tr>\n",
              "      <th>2</th>\n",
              "      <td>politics</td>\n",
              "      <td># دهم در پاسخ به سوالی درباره اینکه آیا سفر وی...</td>\n",
              "    </tr>\n",
              "    <tr>\n",
              "      <th>3</th>\n",
              "      <td>economics</td>\n",
              "      <td>کنفرانس # بودن بازار خودرو و تاثیر آن بر اقتصا...</td>\n",
              "    </tr>\n",
              "    <tr>\n",
              "      <th>4</th>\n",
              "      <td>economics</td>\n",
              "      <td>به گزارش ایسنا صحبت با برخی # # آن است که امرو...</td>\n",
              "    </tr>\n",
              "    <tr>\n",
              "      <th>...</th>\n",
              "      <td>...</td>\n",
              "      <td>...</td>\n",
              "    </tr>\n",
              "    <tr>\n",
              "      <th>197356</th>\n",
              "      <td>sports</td>\n",
              "      <td>به گزارش ورزش سه و به نقل از مارکا رقابت‌های ب...</td>\n",
              "    </tr>\n",
              "    <tr>\n",
              "      <th>197357</th>\n",
              "      <td>sports</td>\n",
              "      <td>به گزارش ایسنا و به نقل از فوتبال ایتالیا یوون...</td>\n",
              "    </tr>\n",
              "    <tr>\n",
              "      <th>197358</th>\n",
              "      <td>sports</td>\n",
              "      <td>سرمربی تیم والیبال دانشجویان گفت ما اصلا فرصت ...</td>\n",
              "    </tr>\n",
              "    <tr>\n",
              "      <th>197359</th>\n",
              "      <td>sports</td>\n",
              "      <td>به گزارش ورزش سه مرتضی # باشگاه # مصر # را نسب...</td>\n",
              "    </tr>\n",
              "    <tr>\n",
              "      <th>197360</th>\n",
              "      <td>sports</td>\n",
              "      <td>به گزارش ورزش سه احمد # با تایید این خبر می‌گو...</td>\n",
              "    </tr>\n",
              "  </tbody>\n",
              "</table>\n",
              "<p>197361 rows × 2 columns</p>\n",
              "</div>"
            ],
            "text/plain": [
              "            topic                                               text\n",
              "0          sports  به گزارش ورزش سه تیم فوتبال پدیده در روزی که ا...\n",
              "1        politics  پاسخ مثبت به انتقادات شورای نگهبان البته # قبل...\n",
              "2        politics  # دهم در پاسخ به سوالی درباره اینکه آیا سفر وی...\n",
              "3       economics  کنفرانس # بودن بازار خودرو و تاثیر آن بر اقتصا...\n",
              "4       economics  به گزارش ایسنا صحبت با برخی # # آن است که امرو...\n",
              "...           ...                                                ...\n",
              "197356     sports  به گزارش ورزش سه و به نقل از مارکا رقابت‌های ب...\n",
              "197357     sports  به گزارش ایسنا و به نقل از فوتبال ایتالیا یوون...\n",
              "197358     sports  سرمربی تیم والیبال دانشجویان گفت ما اصلا فرصت ...\n",
              "197359     sports  به گزارش ورزش سه مرتضی # باشگاه # مصر # را نسب...\n",
              "197360     sports  به گزارش ورزش سه احمد # با تایید این خبر می‌گو...\n",
              "\n",
              "[197361 rows x 2 columns]"
            ]
          },
          "execution_count": 2,
          "metadata": {},
          "output_type": "execute_result"
        }
      ],
      "source": [
        "df = pd.read_csv('content/news-train.csv')\n",
        "df"
      ]
    },
    {
      "attachments": {},
      "cell_type": "markdown",
      "metadata": {
        "id": "b2eq6fRZZroS"
      },
      "source": [
        "# Dealing with Class Imbalance"
      ]
    },
    {
      "attachments": {},
      "cell_type": "markdown",
      "metadata": {
        "id": "__mdmjwgNSRb"
      },
      "source": [
        "For each \"topic\", count and display the number of news belonging to it. (5 points)"
      ]
    },
    {
      "cell_type": "code",
      "execution_count": 3,
      "metadata": {
        "colab": {
          "base_uri": "https://localhost:8080/",
          "height": 224
        },
        "id": "1f0oIh-PNYLB",
        "outputId": "b28cf27e-99db-46f4-9528-6a9d609b5c1f"
      },
      "outputs": [
        {
          "name": "stdout",
          "output_type": "stream",
          "text": [
            "Total number of news: 197361\n"
          ]
        },
        {
          "data": {
            "text/html": [
              "<div>\n",
              "<style scoped>\n",
              "    .dataframe tbody tr th:only-of-type {\n",
              "        vertical-align: middle;\n",
              "    }\n",
              "\n",
              "    .dataframe tbody tr th {\n",
              "        vertical-align: top;\n",
              "    }\n",
              "\n",
              "    .dataframe thead th {\n",
              "        text-align: right;\n",
              "    }\n",
              "</style>\n",
              "<table border=\"1\" class=\"dataframe\">\n",
              "  <thead>\n",
              "    <tr style=\"text-align: right;\">\n",
              "      <th></th>\n",
              "      <th>text</th>\n",
              "    </tr>\n",
              "    <tr>\n",
              "      <th>topic</th>\n",
              "      <th></th>\n",
              "    </tr>\n",
              "  </thead>\n",
              "  <tbody>\n",
              "    <tr>\n",
              "      <th>cultural</th>\n",
              "      <td>13359</td>\n",
              "    </tr>\n",
              "    <tr>\n",
              "      <th>economics</th>\n",
              "      <td>49600</td>\n",
              "    </tr>\n",
              "    <tr>\n",
              "      <th>politics</th>\n",
              "      <td>11297</td>\n",
              "    </tr>\n",
              "    <tr>\n",
              "      <th>sports</th>\n",
              "      <td>123105</td>\n",
              "    </tr>\n",
              "  </tbody>\n",
              "</table>\n",
              "</div>"
            ],
            "text/plain": [
              "             text\n",
              "topic            \n",
              "cultural    13359\n",
              "economics   49600\n",
              "politics    11297\n",
              "sports     123105"
            ]
          },
          "execution_count": 3,
          "metadata": {},
          "output_type": "execute_result"
        }
      ],
      "source": [
        "topic_count = df.groupby(['topic']).count()\n",
        "total_number_of_news = topic_count['text'].sum()\n",
        "print(\"Total number of news: \" + str(total_number_of_news))\n",
        "topic_count"
      ]
    },
    {
      "attachments": {},
      "cell_type": "markdown",
      "metadata": {
        "id": "8ETq4g97Oj0c"
      },
      "source": [
        "Balance the dataset in a way that all of the topics get associated with the same number of news. For this purpose, find the topic for which the minimum number of news exists. Then, use downsampling to lower the number of news associated with the other topics.<br>\n",
        "Finally, save the result as a new dataframe. (15 points)"
      ]
    },
    {
      "cell_type": "code",
      "execution_count": 4,
      "metadata": {
        "colab": {
          "base_uri": "https://localhost:8080/"
        },
        "id": "XJawN5XRDFYf",
        "outputId": "62492cff-fedf-4acf-a7de-f63a32ff4b48"
      },
      "outputs": [
        {
          "name": "stdout",
          "output_type": "stream",
          "text": [
            "           topic                                               text\n",
            "13326   cultural  وزیر علوم تحقیقات و فناوری در جمع نمایندگان شو...\n",
            "161606  cultural  به گزارش ایسنا بر اساس خبر رسیده از خانه کتاب ...\n",
            "193127  cultural  به گزارش ایسنا این # اظهار نظر یکی از اعضای کم...\n",
            "127412  cultural  به گزارش ایسنا پژمان محمدی در نشست خبری با اصح...\n",
            "2497    cultural  وزیر علوم تحقیقات و فناوری گفت مجموعه سمت با م...\n",
            "...          ...                                                ...\n",
            "79101     sports  به گزارش ورزش سه از بین بازیکنان استقلال که هف...\n",
            "66545     sports  به گزارش ورزش سه اتلتیکو مادرید شب گذشته سومین...\n",
            "142481    sports  فریدون # پس از قبول شکست تیمش برابر ذوب آهن اص...\n",
            "55770     sports  به گزارش ایسنا و به نقل از فوتبال ایتالیا تا پ...\n",
            "118700    sports  به‌ گزارش ‌ایسنا ‌و ‌به نقل از # روند # اینتر ...\n",
            "\n",
            "[45188 rows x 2 columns]\n",
            "########\n",
            "            text\n",
            "topic           \n",
            "cultural   11297\n",
            "economics  11297\n",
            "politics   11297\n",
            "sports     11297\n"
          ]
        }
      ],
      "source": [
        "downsampled_df = pd.DataFrame()\n",
        "min_number_of_news_for_topic = topic_count['text'].min()\n",
        "\n",
        "for topic in topic_count.index:\n",
        "  data = df[df['topic'] == topic]\n",
        "  downsampled_data = data.sample(min_number_of_news_for_topic)\n",
        "  downsampled_df = pd.concat([downsampled_df, downsampled_data])\n",
        "\n",
        "print(downsampled_df)\n",
        "\n",
        "print(\"########\")\n",
        "\n",
        "downsampled_topic_count = downsampled_df.groupby(['topic']).count()\n",
        "print(downsampled_topic_count)"
      ]
    },
    {
      "attachments": {},
      "cell_type": "markdown",
      "metadata": {
        "id": "9DMwlMiwZ4Ql"
      },
      "source": [
        "# Preparation and Feature Extraction"
      ]
    },
    {
      "attachments": {},
      "cell_type": "markdown",
      "metadata": {
        "id": "FyrxWwjXQcfV"
      },
      "source": [
        "Split the dataframe to two parts for training (80%) and testing (20%). (5 points)"
      ]
    },
    {
      "cell_type": "code",
      "execution_count": 5,
      "metadata": {
        "colab": {
          "base_uri": "https://localhost:8080/"
        },
        "id": "BXM2X_tJZIJ2",
        "outputId": "057f04ec-e315-4b50-acdc-d39153109eb1"
      },
      "outputs": [
        {
          "name": "stdout",
          "output_type": "stream",
          "text": [
            "train df: \n",
            "            topic                                               text\n",
            "194423     sports  به گزارش ورزش سه شاید خیلی‌ها # # چطور توانسته...\n",
            "127577     sports  به گزارش ورزش سه کارلوس کی‌روش قصد ندارد به مو...\n",
            "3486     politics  علی نادری فعال رسانه‌ای رهبر انقلاب در دیدار #...\n",
            "26185   economics  به گزارش ایسنا # گندم و واقعی بودن و # بودن آن...\n",
            "31260      sports  به گزارش ورزش سه پرسپولیسی‌ها که از هفته گذشته...\n",
            "...           ...                                                ...\n",
            "136905     sports  سرمربی ایتالیایی # می‌گوید که تیمش در دیدار بر...\n",
            "9840    economics  علیرغم پیشنهاد # برای ادامه یارانه شیر به صورت...\n",
            "140492     sports  به گزارش ورزش سه با توجه به توقف چلسی در دیدار...\n",
            "184622   politics  علی مطهری نماینده تهران در مجلس شورای اسلامی گ...\n",
            "91170   economics  نمایندگان مجلس شورای اسلامی در حالی فعالیت خود...\n",
            "\n",
            "[36150 rows x 2 columns]\n",
            "test_df: \n",
            "           topic                                               text\n",
            "176111  cultural  این روزها اهالی تجسمی به دلیل فروش بالای یکی ا...\n",
            "121979  cultural  حجت‌الاسلام محمدعلی مهدوی # گفت در مدتی که # ع...\n",
            "114494  cultural  مدیر کل دفتر حمایت و پشتیبانی امور پژوهشی وزار...\n",
            "47840   cultural  نشست رسانه‌ای دهمین جشنواره شعر فجر با حضور مه...\n",
            "106984  cultural  هشتمین # # تهران که قرار بود # اسفند برگزار شو...\n",
            "...          ...                                                ...\n",
            "65963     sports  به گزارش ورزش سه تیم ملی ایران در مقابل فلسطین...\n",
            "123083    sports  اعضای تیم‌های کشتی آزاد و فرنگی جوانان ایران ر...\n",
            "178609    sports  کارشناس مبارزه با دوپینگ با اشاره به این که هی...\n",
            "55770     sports  به گزارش ایسنا و به نقل از فوتبال ایتالیا تا پ...\n",
            "118700    sports  به‌ گزارش ‌ایسنا ‌و ‌به نقل از # روند # اینتر ...\n",
            "\n",
            "[9038 rows x 2 columns]\n"
          ]
        }
      ],
      "source": [
        "train_df = downsampled_df.sample(frac=0.8, random_state=1)\n",
        "test_df = downsampled_df.drop(train_df.index)\n",
        "print(\"train df: \")\n",
        "print(train_df)\n",
        "print(\"test_df: \")\n",
        "print(test_df)"
      ]
    },
    {
      "attachments": {},
      "cell_type": "markdown",
      "metadata": {
        "id": "tSzLXYMhaL3R"
      },
      "source": [
        "In this part, we will extract features from the textual data using a very basic method."
      ]
    },
    {
      "attachments": {},
      "cell_type": "markdown",
      "metadata": {
        "id": "BCejmR4nhABv"
      },
      "source": [
        "Consider the following sentence:\n",
        "```\n",
        "Sometimes a dog can run faster than a cat.\n",
        "```\n",
        "In the above sentence, the \"tokens\" are:\n",
        "\n",
        "```\n",
        "\"sometimes\", \"a\", \"dog\", \"can\", \"run\", \"faster\", \"than\", \"a\", \"cat\"\n",
        "```"
      ]
    },
    {
      "attachments": {},
      "cell_type": "markdown",
      "metadata": {
        "id": "fTnb43swgo8r"
      },
      "source": [
        "Find the tokens of each news article in the \"training dataframe\" by splitting it based on the occurence of the space character (5 points). For instance, the following sentence:\n",
        "```\n",
        "او به میدان رفت\n",
        "```\n",
        "gets converted to these tokens:\n",
        "```\n",
        "[\"او\",\"به\",\"میدان\",\"رفت\"]\n",
        "```"
      ]
    },
    {
      "cell_type": "code",
      "execution_count": 6,
      "metadata": {
        "colab": {
          "base_uri": "https://localhost:8080/",
          "height": 424
        },
        "id": "_dlCAqisb6cT",
        "outputId": "e4eaa1af-79e4-4327-a9bc-d6880e2ba90b"
      },
      "outputs": [
        {
          "data": {
            "text/html": [
              "<div>\n",
              "<style scoped>\n",
              "    .dataframe tbody tr th:only-of-type {\n",
              "        vertical-align: middle;\n",
              "    }\n",
              "\n",
              "    .dataframe tbody tr th {\n",
              "        vertical-align: top;\n",
              "    }\n",
              "\n",
              "    .dataframe thead th {\n",
              "        text-align: right;\n",
              "    }\n",
              "</style>\n",
              "<table border=\"1\" class=\"dataframe\">\n",
              "  <thead>\n",
              "    <tr style=\"text-align: right;\">\n",
              "      <th></th>\n",
              "      <th>topic</th>\n",
              "      <th>text</th>\n",
              "      <th>tokens</th>\n",
              "    </tr>\n",
              "  </thead>\n",
              "  <tbody>\n",
              "    <tr>\n",
              "      <th>194423</th>\n",
              "      <td>sports</td>\n",
              "      <td>به گزارش ورزش سه شاید خیلی‌ها # # چطور توانسته...</td>\n",
              "      <td>[به, گزارش, ورزش, سه, شاید, خیلی‌ها, #, #, چطو...</td>\n",
              "    </tr>\n",
              "    <tr>\n",
              "      <th>127577</th>\n",
              "      <td>sports</td>\n",
              "      <td>به گزارش ورزش سه کارلوس کی‌روش قصد ندارد به مو...</td>\n",
              "      <td>[به, گزارش, ورزش, سه, کارلوس, کی‌روش, قصد, ندا...</td>\n",
              "    </tr>\n",
              "    <tr>\n",
              "      <th>3486</th>\n",
              "      <td>politics</td>\n",
              "      <td>علی نادری فعال رسانه‌ای رهبر انقلاب در دیدار #...</td>\n",
              "      <td>[علی, نادری, فعال, رسانه‌ای, رهبر, انقلاب, در,...</td>\n",
              "    </tr>\n",
              "    <tr>\n",
              "      <th>26185</th>\n",
              "      <td>economics</td>\n",
              "      <td>به گزارش ایسنا # گندم و واقعی بودن و # بودن آن...</td>\n",
              "      <td>[به, گزارش, ایسنا, #, گندم, و, واقعی, بودن, و,...</td>\n",
              "    </tr>\n",
              "    <tr>\n",
              "      <th>31260</th>\n",
              "      <td>sports</td>\n",
              "      <td>به گزارش ورزش سه پرسپولیسی‌ها که از هفته گذشته...</td>\n",
              "      <td>[به, گزارش, ورزش, سه, پرسپولیسی‌ها, که, از, هف...</td>\n",
              "    </tr>\n",
              "    <tr>\n",
              "      <th>...</th>\n",
              "      <td>...</td>\n",
              "      <td>...</td>\n",
              "      <td>...</td>\n",
              "    </tr>\n",
              "    <tr>\n",
              "      <th>136905</th>\n",
              "      <td>sports</td>\n",
              "      <td>سرمربی ایتالیایی # می‌گوید که تیمش در دیدار بر...</td>\n",
              "      <td>[سرمربی, ایتالیایی, #, می‌گوید, که, تیمش, در, ...</td>\n",
              "    </tr>\n",
              "    <tr>\n",
              "      <th>9840</th>\n",
              "      <td>economics</td>\n",
              "      <td>علیرغم پیشنهاد # برای ادامه یارانه شیر به صورت...</td>\n",
              "      <td>[علیرغم, پیشنهاد, #, برای, ادامه, یارانه, شیر,...</td>\n",
              "    </tr>\n",
              "    <tr>\n",
              "      <th>140492</th>\n",
              "      <td>sports</td>\n",
              "      <td>به گزارش ورزش سه با توجه به توقف چلسی در دیدار...</td>\n",
              "      <td>[به, گزارش, ورزش, سه, با, توجه, به, توقف, چلسی...</td>\n",
              "    </tr>\n",
              "    <tr>\n",
              "      <th>184622</th>\n",
              "      <td>politics</td>\n",
              "      <td>علی مطهری نماینده تهران در مجلس شورای اسلامی گ...</td>\n",
              "      <td>[علی, مطهری, نماینده, تهران, در, مجلس, شورای, ...</td>\n",
              "    </tr>\n",
              "    <tr>\n",
              "      <th>91170</th>\n",
              "      <td>economics</td>\n",
              "      <td>نمایندگان مجلس شورای اسلامی در حالی فعالیت خود...</td>\n",
              "      <td>[نمایندگان, مجلس, شورای, اسلامی, در, حالی, فعا...</td>\n",
              "    </tr>\n",
              "  </tbody>\n",
              "</table>\n",
              "<p>36150 rows × 3 columns</p>\n",
              "</div>"
            ],
            "text/plain": [
              "            topic                                               text   \n",
              "194423     sports  به گزارش ورزش سه شاید خیلی‌ها # # چطور توانسته...  \\\n",
              "127577     sports  به گزارش ورزش سه کارلوس کی‌روش قصد ندارد به مو...   \n",
              "3486     politics  علی نادری فعال رسانه‌ای رهبر انقلاب در دیدار #...   \n",
              "26185   economics  به گزارش ایسنا # گندم و واقعی بودن و # بودن آن...   \n",
              "31260      sports  به گزارش ورزش سه پرسپولیسی‌ها که از هفته گذشته...   \n",
              "...           ...                                                ...   \n",
              "136905     sports  سرمربی ایتالیایی # می‌گوید که تیمش در دیدار بر...   \n",
              "9840    economics  علیرغم پیشنهاد # برای ادامه یارانه شیر به صورت...   \n",
              "140492     sports  به گزارش ورزش سه با توجه به توقف چلسی در دیدار...   \n",
              "184622   politics  علی مطهری نماینده تهران در مجلس شورای اسلامی گ...   \n",
              "91170   economics  نمایندگان مجلس شورای اسلامی در حالی فعالیت خود...   \n",
              "\n",
              "                                                   tokens  \n",
              "194423  [به, گزارش, ورزش, سه, شاید, خیلی‌ها, #, #, چطو...  \n",
              "127577  [به, گزارش, ورزش, سه, کارلوس, کی‌روش, قصد, ندا...  \n",
              "3486    [علی, نادری, فعال, رسانه‌ای, رهبر, انقلاب, در,...  \n",
              "26185   [به, گزارش, ایسنا, #, گندم, و, واقعی, بودن, و,...  \n",
              "31260   [به, گزارش, ورزش, سه, پرسپولیسی‌ها, که, از, هف...  \n",
              "...                                                   ...  \n",
              "136905  [سرمربی, ایتالیایی, #, می‌گوید, که, تیمش, در, ...  \n",
              "9840    [علیرغم, پیشنهاد, #, برای, ادامه, یارانه, شیر,...  \n",
              "140492  [به, گزارش, ورزش, سه, با, توجه, به, توقف, چلسی...  \n",
              "184622  [علی, مطهری, نماینده, تهران, در, مجلس, شورای, ...  \n",
              "91170   [نمایندگان, مجلس, شورای, اسلامی, در, حالی, فعا...  \n",
              "\n",
              "[36150 rows x 3 columns]"
            ]
          },
          "execution_count": 6,
          "metadata": {},
          "output_type": "execute_result"
        }
      ],
      "source": [
        "train_df['tokens'] = train_df['text'].str.strip().str.split(' ')\n",
        "train_df"
      ]
    },
    {
      "attachments": {},
      "cell_type": "markdown",
      "metadata": {
        "id": "eD-UebxhiUyd"
      },
      "source": [
        "Count the tokens and list the top 5 frequent ones (5 points)"
      ]
    },
    {
      "cell_type": "code",
      "execution_count": 7,
      "metadata": {
        "colab": {
          "base_uri": "https://localhost:8080/",
          "height": 206
        },
        "id": "rg-aJqkSiEJb",
        "outputId": "b9ee0602-c4b8-463a-ef84-887716944c00"
      },
      "outputs": [
        {
          "data": {
            "text/html": [
              "<div>\n",
              "<style scoped>\n",
              "    .dataframe tbody tr th:only-of-type {\n",
              "        vertical-align: middle;\n",
              "    }\n",
              "\n",
              "    .dataframe tbody tr th {\n",
              "        vertical-align: top;\n",
              "    }\n",
              "\n",
              "    .dataframe thead th {\n",
              "        text-align: right;\n",
              "    }\n",
              "</style>\n",
              "<table border=\"1\" class=\"dataframe\">\n",
              "  <thead>\n",
              "    <tr style=\"text-align: right;\">\n",
              "      <th></th>\n",
              "      <th>token</th>\n",
              "      <th>frequency</th>\n",
              "    </tr>\n",
              "  </thead>\n",
              "  <tbody>\n",
              "    <tr>\n",
              "      <th>0</th>\n",
              "      <td>#</td>\n",
              "      <td>1616849</td>\n",
              "    </tr>\n",
              "    <tr>\n",
              "      <th>1</th>\n",
              "      <td>و</td>\n",
              "      <td>873470</td>\n",
              "    </tr>\n",
              "    <tr>\n",
              "      <th>2</th>\n",
              "      <td>در</td>\n",
              "      <td>741159</td>\n",
              "    </tr>\n",
              "    <tr>\n",
              "      <th>3</th>\n",
              "      <td>\\n</td>\n",
              "      <td>586159</td>\n",
              "    </tr>\n",
              "    <tr>\n",
              "      <th>4</th>\n",
              "      <td>به</td>\n",
              "      <td>579760</td>\n",
              "    </tr>\n",
              "  </tbody>\n",
              "</table>\n",
              "</div>"
            ],
            "text/plain": [
              "  token  frequency\n",
              "0     #    1616849\n",
              "1     و     873470\n",
              "2    در     741159\n",
              "3    \\n     586159\n",
              "4    به     579760"
            ]
          },
          "execution_count": 7,
          "metadata": {},
          "output_type": "execute_result"
        }
      ],
      "source": [
        "train_df_exploded = train_df.explode('tokens')\n",
        "top_5 = train_df_exploded['tokens'].value_counts().nlargest(5)\n",
        "top_5_df = pd.DataFrame({'token': top_5.index, 'frequency': top_5.values})\n",
        "top_5_df"
      ]
    },
    {
      "attachments": {},
      "cell_type": "markdown",
      "metadata": {
        "id": "dJyE1s6Wi0ZH"
      },
      "source": [
        "Consider the following sentence:\n",
        "```\n",
        "تیم فوتبال بارسلونا امشب با بایرن مونیخ دیدار می‌کند.\n",
        "```\n",
        "In the above sentence, we do not need the word `با` to determine that the topic is \"sports\". This word doesn't have any impact on the category this sentence belongs to. \n",
        "This word and similar ones are called \"stopwords\". A list of stopwords for the Persian language can be found in this text file:\n",
        "https://github.com/ziaa/Persian-stopwords-collection/raw/master/Stopwords/Savoy/persianST.txt\n",
        "\n",
        "Use it to remove all tokens that are actually stopwords.\n",
        "Also, remove the `#` token. (10 points)"
      ]
    },
    {
      "cell_type": "code",
      "execution_count": null,
      "metadata": {
        "colab": {
          "base_uri": "https://localhost:8080/"
        },
        "id": "6xV_zvIvjtH1",
        "outputId": "09f48e7e-7c7b-4a59-8ec5-1d92cdfba8e0"
      },
      "outputs": [
        {
          "name": "stdout",
          "output_type": "stream",
          "text": [
            "--2023-05-06 18:55:58--  https://github.com/ziaa/Persian-stopwords-collection/raw/master/Stopwords/Savoy/persianST.txt\n",
            "Resolving github.com (github.com)... 192.30.255.113\n",
            "Connecting to github.com (github.com)|192.30.255.113|:443... connected.\n",
            "HTTP request sent, awaiting response... 302 Found\n",
            "Location: https://raw.githubusercontent.com/ziaa/Persian-stopwords-collection/master/Stopwords/Savoy/persianST.txt [following]\n",
            "--2023-05-06 18:55:58--  https://raw.githubusercontent.com/ziaa/Persian-stopwords-collection/master/Stopwords/Savoy/persianST.txt\n",
            "Resolving raw.githubusercontent.com (raw.githubusercontent.com)... 185.199.108.133, 185.199.109.133, 185.199.110.133, ...\n",
            "Connecting to raw.githubusercontent.com (raw.githubusercontent.com)|185.199.108.133|:443... connected.\n",
            "HTTP request sent, awaiting response... 200 OK\n",
            "Length: 2942 (2.9K) [text/plain]\n",
            "Saving to: ‘/content/stopwords.txt’\n",
            "\n",
            "/content/stopwords. 100%[===================>]   2.87K  --.-KB/s    in 0s      \n",
            "\n",
            "2023-05-06 18:55:58 (43.7 MB/s) - ‘/content/stopwords.txt’ saved [2942/2942]\n",
            "\n"
          ]
        }
      ],
      "source": [
        "!wget -O /content/stopwords.txt https://github.com/ziaa/Persian-stopwords-collection/raw/master/Stopwords/Savoy/persianST.txt"
      ]
    },
    {
      "cell_type": "code",
      "execution_count": 8,
      "metadata": {
        "colab": {
          "base_uri": "https://localhost:8080/",
          "height": 424
        },
        "id": "w5TLeugQjxIt",
        "outputId": "fad842f2-23f7-40a8-ea63-3d569d677f50"
      },
      "outputs": [
        {
          "data": {
            "text/html": [
              "<div>\n",
              "<style scoped>\n",
              "    .dataframe tbody tr th:only-of-type {\n",
              "        vertical-align: middle;\n",
              "    }\n",
              "\n",
              "    .dataframe tbody tr th {\n",
              "        vertical-align: top;\n",
              "    }\n",
              "\n",
              "    .dataframe thead th {\n",
              "        text-align: right;\n",
              "    }\n",
              "</style>\n",
              "<table border=\"1\" class=\"dataframe\">\n",
              "  <thead>\n",
              "    <tr style=\"text-align: right;\">\n",
              "      <th></th>\n",
              "      <th>topic</th>\n",
              "      <th>text</th>\n",
              "      <th>tokens</th>\n",
              "    </tr>\n",
              "  </thead>\n",
              "  <tbody>\n",
              "    <tr>\n",
              "      <th>194423</th>\n",
              "      <td>sports</td>\n",
              "      <td>گزارش ورزش سه شاید خیلی‌ها توانسته پله پله راه...</td>\n",
              "      <td>[گزارش, ورزش, سه, شاید, خیلی‌ها, توانسته, پله,...</td>\n",
              "    </tr>\n",
              "    <tr>\n",
              "      <th>127577</th>\n",
              "      <td>sports</td>\n",
              "      <td>گزارش ورزش سه کارلوس کی‌روش قصد موضوع چالش برا...</td>\n",
              "      <td>[گزارش, ورزش, سه, کارلوس, کی‌روش, قصد, موضوع, ...</td>\n",
              "    </tr>\n",
              "    <tr>\n",
              "      <th>3486</th>\n",
              "      <td>politics</td>\n",
              "      <td>علی نادری فعال رسانه‌ای رهبر انقلاب دیدار اعضا...</td>\n",
              "      <td>[علی, نادری, فعال, رسانه‌ای, رهبر, انقلاب, دید...</td>\n",
              "    </tr>\n",
              "    <tr>\n",
              "      <th>26185</th>\n",
              "      <td>economics</td>\n",
              "      <td>گزارش ایسنا گندم واقعی محمدرضا وزیر اسبق جهاد ...</td>\n",
              "      <td>[گزارش, ایسنا, گندم, واقعی, محمدرضا, وزیر, اسب...</td>\n",
              "    </tr>\n",
              "    <tr>\n",
              "      <th>31260</th>\n",
              "      <td>sports</td>\n",
              "      <td>گزارش ورزش سه پرسپولیسی‌ها هفته گذشته اردوی دو...</td>\n",
              "      <td>[گزارش, ورزش, سه, پرسپولیسی‌ها, هفته, گذشته, ا...</td>\n",
              "    </tr>\n",
              "    <tr>\n",
              "      <th>...</th>\n",
              "      <td>...</td>\n",
              "      <td>...</td>\n",
              "      <td>...</td>\n",
              "    </tr>\n",
              "    <tr>\n",
              "      <th>136905</th>\n",
              "      <td>sports</td>\n",
              "      <td>سرمربی ایتالیایی می‌گوید تیمش دیدار برابر رئال...</td>\n",
              "      <td>[سرمربی, ایتالیایی, می‌گوید, تیمش, دیدار, براب...</td>\n",
              "    </tr>\n",
              "    <tr>\n",
              "      <th>9840</th>\n",
              "      <td>economics</td>\n",
              "      <td>علیرغم پیشنهاد برای ادامه یارانه شیر غیر نقدی ...</td>\n",
              "      <td>[علیرغم, پیشنهاد, برای, ادامه, یارانه, شیر, غی...</td>\n",
              "    </tr>\n",
              "    <tr>\n",
              "      <th>140492</th>\n",
              "      <td>sports</td>\n",
              "      <td>گزارش ورزش سه توجه توقف چلسی دیدار عصر برایتون...</td>\n",
              "      <td>[گزارش, ورزش, سه, توجه, توقف, چلسی, دیدار, عصر...</td>\n",
              "    </tr>\n",
              "    <tr>\n",
              "      <th>184622</th>\n",
              "      <td>politics</td>\n",
              "      <td>علی مطهری نماینده تهران مجلس شورای اسلامی سال‌...</td>\n",
              "      <td>[علی, مطهری, نماینده, تهران, مجلس, شورای, اسلا...</td>\n",
              "    </tr>\n",
              "    <tr>\n",
              "      <th>91170</th>\n",
              "      <td>economics</td>\n",
              "      <td>نمایندگان مجلس شورای اسلامی حالی فعالیت سال جد...</td>\n",
              "      <td>[نمایندگان, مجلس, شورای, اسلامی, حالی, فعالیت,...</td>\n",
              "    </tr>\n",
              "  </tbody>\n",
              "</table>\n",
              "<p>36150 rows × 3 columns</p>\n",
              "</div>"
            ],
            "text/plain": [
              "            topic                                               text   \n",
              "194423     sports  گزارش ورزش سه شاید خیلی‌ها توانسته پله پله راه...  \\\n",
              "127577     sports  گزارش ورزش سه کارلوس کی‌روش قصد موضوع چالش برا...   \n",
              "3486     politics  علی نادری فعال رسانه‌ای رهبر انقلاب دیدار اعضا...   \n",
              "26185   economics  گزارش ایسنا گندم واقعی محمدرضا وزیر اسبق جهاد ...   \n",
              "31260      sports  گزارش ورزش سه پرسپولیسی‌ها هفته گذشته اردوی دو...   \n",
              "...           ...                                                ...   \n",
              "136905     sports  سرمربی ایتالیایی می‌گوید تیمش دیدار برابر رئال...   \n",
              "9840    economics  علیرغم پیشنهاد برای ادامه یارانه شیر غیر نقدی ...   \n",
              "140492     sports  گزارش ورزش سه توجه توقف چلسی دیدار عصر برایتون...   \n",
              "184622   politics  علی مطهری نماینده تهران مجلس شورای اسلامی سال‌...   \n",
              "91170   economics  نمایندگان مجلس شورای اسلامی حالی فعالیت سال جد...   \n",
              "\n",
              "                                                   tokens  \n",
              "194423  [گزارش, ورزش, سه, شاید, خیلی‌ها, توانسته, پله,...  \n",
              "127577  [گزارش, ورزش, سه, کارلوس, کی‌روش, قصد, موضوع, ...  \n",
              "3486    [علی, نادری, فعال, رسانه‌ای, رهبر, انقلاب, دید...  \n",
              "26185   [گزارش, ایسنا, گندم, واقعی, محمدرضا, وزیر, اسب...  \n",
              "31260   [گزارش, ورزش, سه, پرسپولیسی‌ها, هفته, گذشته, ا...  \n",
              "...                                                   ...  \n",
              "136905  [سرمربی, ایتالیایی, می‌گوید, تیمش, دیدار, براب...  \n",
              "9840    [علیرغم, پیشنهاد, برای, ادامه, یارانه, شیر, غی...  \n",
              "140492  [گزارش, ورزش, سه, توجه, توقف, چلسی, دیدار, عصر...  \n",
              "184622  [علی, مطهری, نماینده, تهران, مجلس, شورای, اسلا...  \n",
              "91170   [نمایندگان, مجلس, شورای, اسلامی, حالی, فعالیت,...  \n",
              "\n",
              "[36150 rows x 3 columns]"
            ]
          },
          "execution_count": 8,
          "metadata": {},
          "output_type": "execute_result"
        }
      ],
      "source": [
        "#read stopwords\n",
        "stopwords_file = 'stopwords.txt'\n",
        "with open(stopwords_file) as f:\n",
        "    stopwords = set(f.read().splitlines())\n",
        "stopwords.update(['#', '\\n'])\n",
        "#remove from text\n",
        "train_df['text'] = train_df['text'].apply(lambda x: ' '.join([word for word in x.split() if word not in stopwords]))\n",
        "#remove from tokens\n",
        "train_df['tokens'] = train_df['tokens'].apply(lambda x: [word for word in x if word not in stopwords])\n",
        "train_df"
      ]
    },
    {
      "attachments": {},
      "cell_type": "markdown",
      "metadata": {
        "id": "WH6Lw66Xk-Vb"
      },
      "source": [
        "Make a list of the remaining unique tokens (5 points)"
      ]
    },
    {
      "cell_type": "code",
      "execution_count": 9,
      "metadata": {
        "colab": {
          "base_uri": "https://localhost:8080/"
        },
        "id": "ASLpUFZgkROF",
        "outputId": "c7b4cbcf-7bc4-426c-f90e-72cbfd84f51e"
      },
      "outputs": [
        {
          "name": "stdout",
          "output_type": "stream",
          "text": [
            "['گزارش', 'ورزش', 'سه', 'شاید', 'خیلی\\u200cها', 'توانسته', 'پله', 'راه\\u200cهای', 'طی', 'کند', 'نهایت', 'باشگاه', 'استقلال', 'برسد', 'حرف\\u200cهای', 'برنامه', 'فوتبال', 'برتر', 'سبب', 'ابعاد', 'تازه\\u200cای', 'زندگی', 'برای', 'مخاطبان', 'آشکار', 'این', 'بازیکن', 'نسبت', 'گذشته', 'محبوبیت', 'بیشتری', 'پیدا', 'تصویر', 'صفحه', 'فارسی', 'اینستاگرام', 'کنفدراسیون', 'آسیا', 'منتشر', 'روزهایی', 'می\\u200cدهد', 'دوران', 'کودکی', 'پیراهن', 'تیم', 'شاهین', 'بوشهر', 'بخشی', 'زمین\\u200cهای', 'سپری', 'کارلوس', 'کی\\u200cروش', 'قصد', 'موضوع', 'چالش', 'برانکو', 'ایوانکوویچ', 'پایان', 'شرایطی', 'شب', 'ملی', 'یمن', 'برتری', 'گله', 'ایران', 'همراه', 'هواداران', 'برد', 'ترجیح', 'متوجه', 'تاثیر', 'قرار', 'گیرد', 'سرمربی', 'انتقاد', 'صحبت\\u200cهای', 'عراق', 'کروات', 'همچنین', 'نقل', 'انتقالات', 'بابت', 'صعود', 'فینال', 'رخ', 'توجه', 'پرسپولیس', 'کرد', 'رابطه', 'اینکه', 'ایرج', 'عرب', 'سرپرست', 'اعلام', 'احترام', 'پاسخی', 'صحبت\\u200cها', 'مدیر', 'روابط', 'عمومی', 'نیز', 'حال', 'حاضر', 'امیدواری', 'حریفان', 'قلب', 'بهترین', 'داریم', 'مطمئنا', 'شرایط', 'دنبال', 'آرامش', 'حفظ', 'موفقیت', 'دست', 'یابند', 'شیرین', 'شاد', 'تصمیم', 'مدیریت', 'آقای', 'واکنشی', 'نخواهیم', 'همانطور', 'گفتم', 'همگی', 'اولویت', 'صورتی', 'نیاز', 'بیانیه\\u200cای', 'دفاع', 'خواهیم', 'کنونی', 'دوری', 'حواشی', 'ماست', 'یابد', 'علی', 'نادری', 'فعال', 'رسانه\\u200cای', 'رهبر', 'انقلاب', 'دیدار', 'اعضای', 'خبرگان', 'تاکید', 'کردند', 'نباید', 'کسانی', 'به\\u200cعنوان', 'نیروهای', 'انقلابی', 'کشور', 'شناخته', 'می\\u200cشوند', 'میدان', 'مقاطع', 'حساس', 'افراد', 'وارد', 'برابر', 'حل', 'مشکلات', 'می\\u200cکنند', 'روزها', 'متاسفانه', 'واسطه', 'برخی', 'موضوعات', 'فضایی', 'ایجاد', 'می\\u200cتواند', 'موجب', 'درصدد', 'خارج', 'کردن', 'نگران', 'بارها', 'مطرح', 'کرده\\u200cاند', 'شروع', 'زدن', 'اتهام', 'طیف', 'دیگری', 'کرده', 'ارتباط', 'جلوگیری', 'گسترش', 'فضا', 'یکدیگر', 'معتقدم', 'روش', 'گفت\\u200cوگو', 'زیرا', 'بسیار', 'می\\u200cتوانیم', 'جبهه', 'جریان', 'باشیم', 'عین', 'صراحت', 'کنیم', 'شاهد', 'چنین', 'نیستیم', 'جهت', 'به\\u200cدست', 'آوردن', 'نتیجه', 'سیاسی', 'انتقادی', 'تبدیل', 'یار', 'کشی', 'حالی', 'می\\u200cتوان', 'فردی', 'نامه\\u200cای', 'نوشته', 'راحتی', 'پاسخ', 'نکرد', 'ایسنا', 'گندم', 'واقعی', 'محمدرضا', 'وزیر', 'اسبق', 'جهاد', 'کشاورزی', 'دولت', 'نهم', 'آمارها', 'دوره', 'درست', 'اواخر', 'هشتم', 'مجری', 'طرح', 'مابقی', 'شمار', 'نمی\\u200cرود', 'چراکه', 'وقتی', 'می\\u200cشود', 'خبرنگاران', 'می\\u200cگویند', 'واردات', 'آغاز', 'خداحافظی', 'اینگونه', 'هیچ\\u200cگاه', 'میلیون', 'تن', 'بگویم', 'زمینه', 'بوده\\u200cاند', 'گردن', 'مقصر', 'وزیران', 'جنگ', 'مناظره', 'مشخص', 'بخش', 'وجود', 'محاکمه', 'کنند', 'حتی', 'می\\u200cتوانند', 'بزنند', 'اظهارات', 'زبان', 'آمار', 'خلاف', 'ادعا', 'ثابت', 'می\\u200cکند', 'علی\\u200cاکبر', 'معاون', 'توسعه', 'بازرگانی', 'صنایع', 'زمانی', 'یکی', 'وزرای', 'عامل', 'کاهش', 'تولید', 'محصولات', 'عنوان', 'زمان', 'مدعی', 'منابع', 'می\\u200cتوانستیم', 'وقوع', 'تولیدات', 'نکند', 'بودیم', 'دوره\\u200cای', 'محصول', 'استراتژیک', 'اساسی', 'افزایش', 'دچار', 'معرفی', 'نیست', 'رسید', 'اصلاحات', 'داشتیم', 'وزارت', 'افزوده', 'کاسته', 'تدریج', 'دادیم', 'ادامه', 'یازدهم', 'سال\\u200cها', 'کم', 'سابقه', 'دلیل', 'روی', 'کار', 'آمدن', 'خرید', 'تضمینی', 'حدود', 'ذخایر', 'باقی', 'بنابراین', 'مسئولان', 'سمت', 'حرکت', 'یافت', 'رسیدیم', 'اعمال', 'ممنوعیت', 'توانستیم', 'کنترل', 'تکذیب', 'خارجی', 'دوازدهم', 'ارتقای', 'پایدار', 'کردیم', 'تکرار', 'مساله', 'رقم', 'محض', 'پایه', 'نگاهی', 'آمارهای', 'موجود', 'میزان', 'نرخ', 'کیلوگرم', 'بی\\u200cسابقه', 'بیش', 'هشت', 'ساله', 'دولت\\u200cهای', 'دهم', 'ثبت', 'رسیده', 'متوسط', 'سال', 'این\\u200cکه', 'میان', 'صدرنشین', 'بیشترین', 'اختصاص', 'یعنی', 'سال\\u200cهای', 'بالغ', 'عجیب', 'دقیقا', 'اوج', 'رکورد', 'سالی', 'اولین', 'صادر', 'نداشت', 'زد', 'کمترین', 'وضعیتی', 'کنار', 'می\\u200cرفت', 'ماندن', 'قیمت', 'کشاورزان', 'فشار', 'می\\u200cکرد', 'تحویل', 'پرداخت', 'باز', 'ادعای', 'اکثر', 'رسمی', 'روحانی', 'می\\u200cداد', 'خالی', 'مرز', 'بحران', 'نان', 'نزدیک', 'نزدیک\\u200cتر', 'می\\u200cشد', 'حالا', 'گذشت', 'عمر', 'می\\u200cداند', 'اشتباهی', 'نداده', 'تهیه', 'تنظیم', 'خبرنگار', 'پرسپولیسی\\u200cها', 'هفته', 'اردوی', 'دوحه', 'پشت', 'سر', 'می\\u200cگذارند', 'تدارکاتی', 'بلژیک', 'گرفتند', 'موفق', 'شکست', 'حریف', 'گل', 'محمد', 'امین', 'اسدی', 'شاگردان', 'دومین', 'قطر', 'نظر', 'گرفته\\u200cاند', 'هماهنگی', 'لازم', 'دی', 'اواسط', 'فصل', 'رامین', 'مدافع', 'خدمت', 'اکنون', 'جام', 'ملت\\u200cهای', 'حضور', 'رده\\u200cبندی', 'سنی', 'فیلم\\u200cهای', 'سینمایی', 'راهی', 'اکران', 'جدیدی', 'شکل', 'قانونی', 'فیلم\\u200cها', 'بسیاری', 'هفته\\u200cهای', 'اخیر', 'واکنش\\u200cهای', 'متفاوتی', 'داده\\u200cاند', 'حسین', 'انتظامی', 'رئیس', 'سازمان', 'هیئت', 'تعیین', 'درجه', 'شده\\u200cاند', 'تعداد', 'جلساتی', 'برگزار', 'طبق', 'پیش\\u200cبینی', 'جلسات', 'آیین\\u200cنامه', 'داخلی', 'حد', 'احتمالی', 'بعضی', 'اعضا', 'ندهد', 'فیلم\\u200cهایی', 'محدودیت', 'اجرای', 'باید', 'بحث', 'انجام', 'اشاره', 'چگونگی', 'اطلاع\\u200cرسانی', 'منحصر', 'درج', 'فیلم', 'اقلام', 'تبلیغاتی', 'فروش', 'ذکر', 'مسئولیت', 'امر', 'بزرگسالان', 'مسائل', 'برویم', 'شیوه', 'اسم', 'نمی\\u200cتوان', 'گذاشت', 'کاملا', 'جنبه', 'نوع', 'نظام', 'نظارتی', 'جدید', 'همان\\u200cطور', 'تصریح', 'سوی', 'دارای', 'تشخیص', 'تهیه\\u200cکننده', 'انتخاب', 'بخواهد', 'پخش', 'خیر', 'واکنش', 'نکته', 'ارشاد', 'محمدی', 'صحبت', 'اجتماعی', 'فرهنگی', 'جامعه', 'ایرانی', 'به\\u200cشدت', 'ضروری', 'دنیا', 'خودشان', 'خودمان', 'نکته\\u200cای', 'حائز', 'اهمیت', 'گروهی', 'تخصص', 'علمی', 'دانشگاهی', 'انتخابی', 'می\\u200cزنند', 'محدود', 'نفر', 'حوزه', 'بین', 'کودک', 'نوجوان', 'امور', 'خانوادگی', 'حضورش', 'شورای', 'پروانه', 'نمایش', 'بازبینی', 'گروه', 'پایین', 'فیلمی', 'به\\u200cنوعی', 'معتقد', 'درستی', 'دیدن', 'رده', 'خاصی', 'نگرفته', 'مهمی', 'اتفاق', 'خانواده\\u200cها', 'نمی\\u200cکنند', 'می\\u200cروند', 'کودکان', 'آسیب', 'می\\u200cزند', 'خوب', 'علاوه', 'مناسب', 'رعایت', 'نقش', 'داریوش', 'خوبی', 'سینما', 'توصیف', 'جلب', 'اثرات', 'جلوی', 'ممکن', 'بگیرد', 'متشکل', 'افرادی', 'تشکیل', 'نظرات', 'بدهند', 'بتوانند', 'صاحب', 'کارشان', 'نباشد', 'کشورها', 'اجرائی', 'فرهنگ', 'گروه\\u200cهای', 'خاص', 'روال', 'منطقی', 'روشنی', 'موضوعی', 'امری', 'نمی\\u200cرسد', 'روز', 'دیده', 'قطعا', 'درنهایت', 'مثبتی', 'سینمای', 'می\\u200cرسد', 'روشن', 'فاقد', 'مناسبی', 'نوجوانان', 'سهم', 'آن\\u200cقدر', 'امیدوار', 'دست\\u200cکم', 'بتواند', 'ساخت', 'رایج', 'پررنگ', 'لحاظ', 'کامل', 'پیرامون', 'کافی', 'آماده\\u200cسازی', 'زمینه\\u200cهای', 'رسیدن', 'هدف', 'اسلامی', 'ریزی', 'عملیاتی', 'شعار', 'خبر', 'نشست', 'دولتمردان', 'اصحاب', 'تحولات', 'اقتصادی', 'سلامت', 'فروردین', 'ماه', 'ایرنا', 'صالحی', 'امیری', 'دیروز', 'جلسه', 'هیات', 'جمع', 'افزود', 'توان', 'ظرفیت', 'جامع', 'راستای', 'گام\\u200cهای', 'جدی', 'بردارد', 'سازی', 'گفتمان', 'اقتصاد', 'مقاومتی', 'قدم', 'هایی', 'حوزه\\u200cهای', 'کتاب', 'هنر', 'بتوانیم', 'تحقق', 'موثری', 'اضافه', 'می\\u200cکنیم', 'خصوص', 'عزم', 'بزرگ', 'اشتغال', 'گام', 'همکاری', 'نهاد', 'تلاش', 'وی', 'نوروزی', 'اظهار', 'میلیارد', 'تومان', 'ایام', 'نوروز', 'مجموع', 'گیری', 'اردیبهشت', 'جشنواره', 'المللی', 'فجر', 'شرکت', 'گزارش\\u200cهای', 'مرتبط', 'روزهای', 'آینده', 'بزرگی', 'تهران', 'منطقه', 'برگزاری', 'نمایشگاه', 'شهر', 'آفتاب', 'مجوز', 'تمرینات', 'بارسلونا', 'بازیکنان', 'صبح', 'کمپ', 'اختیار', 'پزشکی', 'ساعت', 'تک', 'غیر', 'مصدوم', 'تست', 'کرونا', 'نتایج', 'دقیقی', 'بازگشت', 'هرچند', 'فردا', 'انفرادی', 'تمرین', 'مشغول', 'جالب', 'لیونل', 'مسی', 'کاپیتان', 'بارسا', 'تجهیزات', 'بهداشتی', 'لوئیس', 'سوارز', 'همزمان', 'ماشین', 'عکاس', 'سفید', 'چپ', 'چشم', 'می\\u200cخورد', 'تصاویر', 'مربوط', 'چنانچه', 'عکس', 'زیر', 'بسته', 'منصور', 'نشستی', 'خبری', 'شرکت\\u200cهای', 'برزیلی', 'صنعت', 'خودرو', 'خودروسازی', 'دستگاه', 'جاری', 'کشورهای', 'همسایه', 'بازار', 'فکر', 'صاحبان', 'برند', 'فعالان', 'فراهم', 'رییس', 'نوسازی', 'قطعه', 'برزیل', 'خاطرنشان', 'بدانیم', 'بالاست', 'مذاکرات', 'فرصت\\u200cهای', 'مشارکت', 'راستا', 'قرارداد', 'مدنظر', 'خودروهای', 'کیفیت', 'بالاتر', 'جمعیت', 'جوان', 'رشد', 'یادآور', 'نفری', 'بازارهای', 'کمک', 'خصوصی', 'کلان', 'شرکت\\u200cها', 'معدن', 'تجارت', 'پایانی', 'معادل', 'دلار', 'داخل', 'قطعات', 'مواد', 'علیرضا', 'بیرانوند', 'شدت', 'علیه', 'رسانه', 'توضیح', 'بازی', 'آخرین', 'تبریز', 'اتفاقات', 'عجیبی', 'محروم', 'اینطور', 'بد', 'افتاد', 'تبریک', 'وقت', 'پنالتی', 'سخت\\u200cتر', 'خدا', 'شکر', 'وحید', 'پیروزی', 'کسب', 'تقدیم', 'اینجا', 'می\\u200cافتد', 'دارید', 'کردم', 'لذت', 'ببریم', 'خیلی', 'گرم', 'زدند', 'بدی', 'کمیته', 'انضباطی', 'تیمی', 'می\\u200cخواهد', 'جریمه', 'تیم\\u200cها', 'نکنید', 'تراکتور', 'مالک', 'دولتی', 'نمی\\u200cشد', 'حرفی', 'می\\u200cخواستم', 'حاشیه', 'هوادار', 'آسیایی', 'نمی\\u200cدهند', 'نمی\\u200cتوانم', 'گفتند', 'لحظه', 'تبریزی', 'پرسید', 'مواجه', 'گلر', 'استادیوم', 'آزادی', 'صحنه', 'شکلی', 'اولین\\u200cبار', 'جایی', 'تشویق', 'می\\u200cدهند', 'دقیقه', 'کنید', 'ذوب\\u200cآهن', 'پاس', 'همدان', 'لیگ', 'ورزشگاه', 'اصفهان', 'برنده', 'برگشت', 'پرواز', 'هواپیمای', 'اختصاصی', 'ورزشی', 'سایت', 'دراین\\u200cباره', 'منعقد', 'اقدام', 'ارایه', 'ویژه', 'ورزشکاران', 'هواپیما', 'رنگ', 'قرمز', 'درآمده', 'ویژه\\u200cای', 'مسافران', 'فارس', 'مسابقات', 'کره', 'جنوبی', 'یونان', 'روسیه', 'ترکیه', 'آلمان', 'تایلند', 'مکزیک', 'اوکراین', 'اندونزی', 'ورزشکار', 'بانوان', 'آقایان', 'مشترک', 'پیر', 'مدال', 'طلا', 'نقره', 'برنز', 'جایگاه', 'تیم\\u200cهای', 'چهارم', 'نفرات', 'ذیل', 'مریم', 'زهرا', 'ابراهیمی', 'بالای', 'فاطمه', 'محمود', 'اکبری', 'سکوی', 'مرتضی', 'رضا', 'رقابتها', 'غلامرضا', 'عزیزی', 'انجمن', 'محسن', 'سلطانی', 'دبیر', 'مهدی', 'هدایت', 'برعهده', 'گفت\\u200cوگوی', 'تلفنی', 'اوباما', 'عربستان', 'درمورد', 'توافق', 'ژنو', 'شرق', 'برخلاف', 'مقطعی', 'رییس\\u200cجمهوری', 'آمریکا', 'شخصا', 'جزییات', 'رویترز', 'گذاشته\\u200cاند', 'پیشرفت', 'مشورت', 'هسته\\u200cای', 'اولیه', 'حذف', 'تمامی', 'به\\u200cویژه', 'خاورمیانه', 'خلیج\\u200cفارس', 'منجر', 'سوریه', 'راه\\u200cحل', 'نظامی', 'عصر', 'چهارشنبه', 'بشار', 'درخصوص', 'امنیت', 'منطقه\\u200cای', 'حسن', 'رییس\\u200cجمهور', 'ضرورت', 'استقرار', 'ثبات', 'صلح', 'دوست', 'اهداف', 'اساسا', 'تروریسم', 'نه\\u200cتنها', 'کل', 'تلقی', 'زمستان', 'نامناسب', 'امنیتی', 'بهتری', 'تسلیت', 'شهادت', 'کشورمان', 'سفارت', 'حقوق', 'حمایت\\u200cهای', 'برقراری', 'تشکر', 'تاسیس', 'اتاق', 'کمتر', 'ابوالفضل', 'عضو', 'واشنگتن', 'راه\\u200cاندازی', 'عرض', 'قبلا', 'مجدد', 'فعالیت', 'آمادگی', 'خط', 'مستقیم', 'مسیر', 'جزیره', 'کیش', 'نیویورک', 'نخست\\u200cوزیر', 'سفر', 'محل', 'استقبال', 'فرودگاه', 'بیان', 'اصلی', 'خاطر', 'دستیابی', 'به\\u200cدنبال', 'هستیم', 'مواضع', 'مشترکی', 'مقام', 'معظم', 'رهبری', 'ایشان', 'مطمئن', 'پرونده', 'ملت', 'هرچه', 'زودتر', 'محور', 'مقاومت', 'جشن', 'می\\u200cگیریم', 'امارات', 'میهمان', 'ظریف', 'مناسبات', 'دوجانبه', 'محمدجواد', 'افغانستان', 'برادر', 'زیادی', 'می\\u200cدانیم', 'قالب', 'می\\u200cبینیم', 'سطح', 'نمی\\u200cکنیم', 'می\\u200cخواهیم', 'شریک', 'تلاش\\u200cهای', 'تقدیر', 'مثبت', 'امیدواریم', 'رئیس\\u200cجمهوری', 'مصاحبه\\u200cای', 'دوشنبه', 'بهمن', 'روزنامه', 'جهانگیری', 'مصاحبه', 'روند', 'اعتراضات', 'انتخابات', 'ریاست\\u200cجمهوری', 'اتهامات', 'پایگاه', 'می\\u200cآید', 'دستاورد', 'اصلاح\\u200cطلبان', 'مشکلاتی', 'زیاد', 'نمی\\u200cکند', 'مطالبات', 'می\\u200cخواهند', 'موقعیت', 'رفاه', 'دهیم', 'جدی\\u200cتر', 'سعی', 'طریق', 'پیگیری', 'الان', 'چالش\\u200cهای', 'کلاسیک', 'جمهوری', 'قابلیت', 'تطبیق', 'مدرن', 'فرق', 'جنگی', 'گوشت', 'خون', 'سد', 'فیزیکی', 'دشمن', 'رسانه\\u200cهای', 'مرکز', 'تحقیقات', 'تقریبا', 'نیمی', 'اعتقاد', 'حجاب', 'اجباری', 'ساختار', 'سنتی', 'شناخت', 'می\\u200cدانند', 'قدرت', 'حتما', 'بخواهند', 'نحوی', 'تامین', 'اکثریت', 'معلوم', 'نظرسنجی', 'درصد', 'معتقدند', 'می\\u200cکنم', 'می\\u200cرسند', 'عادی', 'می\\u200cبینم', 'داده\\u200cایم', 'امکان', 'دوباره', 'رای', 'بدهیم', 'بعدی', 'بدهد', 'مجلس', 'اصولگرایان', 'خواهید', 'دید', 'می\\u200cآیند', 'بیشتر', 'همراهی', 'فضای', 'مجازی', 'خودش', 'واقعیت', 'نمود', 'قضیه', 'شهری', 'می\\u200cگفتند', 'اساس', 'اطلاعاتی', 'دسترسی', 'شهرستان', 'مثلا', 'نهایتا', 'می\\u200cدادند', 'انگار', 'نوعی', 'سازماندهی', 'مسئله', 'به\\u200cهمین\\u200cدلیل', 'آمریکایی\\u200cها', 'بردند', 'خواستند', 'بگویند', 'اتفاقاتی', 'مقایسه', 'اصلا', 'اصولگرا', 'اصلاح\\u200cطلب', 'حفاظت', 'دغدغه', 'اصلاح\\u200cطلبی', 'ندارم', 'حدی', 'نگرانی', 'بروند', 'اصولگرایی', 'آنکه', 'رویکرد', 'حاکمیت', 'باور', 'حس', 'وضع', 'دیدم', 'سوال', 'طرف', 'قضاوت', 'می\\u200cبیند', 'به\\u200cدلیل', 'مخالفان', 'دامن', 'نکردند', 'بالاخره', 'برمی\\u200cگردد', 'بلافاصله', 'اعتراض', 'مشهد', 'سخنرانی', 'می\\u200cکردم', 'جمله', 'اشتباه', 'می\\u200cکنید', 'کردید', 'خودتان', 'می\\u200cرود', 'این\\u200cطور', 'خیابان', 'تکلیف', 'بشود', 'بگذاریم', 'مرحله', '\\u200c', 'درون', 'مخالف', 'سرمایه\\u200cگذاری', 'سپاه', 'اولا', 'سیاست', 'کلی', 'مسئول', 'مواردی', 'دارم', 'جذب', 'سرمایه', 'قراردادهای', 'نفت', 'تغییر', 'قراردادها', 'به\\u200cهرحال', 'کشوری', 'پول', 'برداشت', 'بهره\\u200cبرداری', 'بشکه', 'نفتی', 'حرف', 'نویی', 'می\\u200cکردند', 'مخالفت', 'عده', 'طرح\\u200cهای', 'نو', 'ستاد', 'تصمیم\\u200cگیری', 'رئیس\\u200cجمهور', 'جلسه\\u200cای', 'بیایند', 'اصلاح', 'دیگران', 'دیدند', 'تایید', 'تاریخ', 'مبنای', 'اینها', 'پروژه\\u200cهای', 'نهایی', 'کارش', 'شرکتی', 'بگوییم', 'نیاید', 'بدهید', 'واقع', 'رقابت', 'دستوری', 'کاری', 'فلان', 'نکرده', 'پروژه\\u200cها', 'واگذار', 'کرده\\u200cایم', 'عمل', 'غرب', 'قزوین', 'رفتم', 'آخوندی', 'ایستگاه', 'قم', 'تکمیل', 'پروژه', 'نمی\\u200cتوانیم', 'نکنیم', 'راس', 'حکومت', 'خامنه\\u200cای', 'بحران\\u200cهای', 'خمینی', 'هستید', 'آیت\\u200cالله', 'به\\u200cگونه\\u200cای', 'نداریم', 'امام', 'ره', 'نرسیده', 'مشکلی', 'گاهی', 'تند', 'مهم', 'بحرانی', 'بازنگری', 'قانون', 'دستور', 'صحبتی', 'قوا', 'اجرا', 'نحوه', 'ارتباطی', 'قوه', 'بعضا', 'همدیگر', 'مداخله', 'دخالت', 'بگوید', 'بنزین', 'فرایند', 'طولانی', 'پل', 'شدید', 'درگذشت', 'هاشمی', 'منتقل', 'خاتمی', 'روبه\\u200cرو', 'تعریف', 'بهتر', 'به\\u200cطور', 'ان\\u200cشاءالله', 'شایعه', 'مشکل', 'خراب', 'کمی', 'مقداری', 'دولت\\u200cها', 'کاندیدا', 'کنم', 'فساد', 'نقشی', 'یک\\u200cبار', 'منتظر', 'قضائیه', 'خواهم', 'ماند', 'عدم', 'قضائی', 'مبارزه', 'هستم', 'احتمال', 'رانت', 'به\\u200cخاطر', 'صفر', '\\u200cدر', 'احمدی\\u200cنژاد', 'حمله', 'متهم', 'نمی\\u200cشود', 'برخورد', 'جواب', 'نمی\\u200cدانم', 'خودم', 'اطمینان', 'برگ', 'کاغذ', 'دادم', 'نمی\\u200cتوانند', 'بگذارند', 'طرفدار', 'دستگیری', 'نیستم', 'رسیدگی', 'مقامات', 'پیچیده', 'جان', 'حمایت', 'مسوول', 'موظف', 'چرخه', 'توزیع', 'سریع', 'مصرف\\u200cکننده', 'حاصل', 'بانک', 'مرکزی', 'دارایی', 'وضعیت', 'ماهه', 'اقدامات', 'پولی', 'ارزی', 'تجاری', 'باقیمانده', 'گذر', 'اقشار', 'ساز', 'کارهای', 'اتخاذ', 'تدابیر', 'کالاهای', 'مقابله', 'عمرانی', 'سهام', 'مازاد', 'اوراق', 'نقدینگی', 'تورم', 'برشمرد', 'برنامه\\u200cهای', 'ارز', 'کالا', 'گرانی', 'متناسب', 'درآمدی', 'صادرات', 'نیازهای', 'تولیدی', 'وارداتی', 'تجارب', 'کالایی', 'کریمی', 'اسامی', 'نامزدهای', 'فدراسیون', 'حالیکه', 'سالن', 'حاضران', 'ترک', 'ثانیه', 'گفتگو', 'هایش', 'آرزوی', 'خادم', 'امیدوارم', 'طبیعتا', 'مهیا', 'بهانه', 'آمدم', 'وگرنه', 'خوشحالم', 'چیزهایی', 'شدم', 'جهان', 'انتقال', 'مجمع', 'دوستان', 'نکنند', 'سایر', 'کاندیداها', 'پاک', 'می\\u200cماند', 'بودم', 'داشتم', 'راحت', 'مهندسی', 'مهندس', 'تاخیر', 'عزیز', 'نیازی', 'راهکار', 'فقر', 'تبعیض', 'عدالت', 'ابراهیم', 'رئیسی', 'سخنانی', 'آیین', 'شغل', 'همت', 'اجرایی', 'فرمان', 'ارزشمند', 'دانش\\u200cبنیان', 'برداشته', 'ریاست', 'هنرهای', 'ثروت', 'کارآمد', 'گرد', 'چهره', 'مناطق', 'بخش\\u200cها', 'رونق', 'جهش', 'نهادها', 'سازمان\\u200cها', 'مسلح', 'توانمندی', 'قوی', 'ایستادگی', 'جلوه', 'یاد', 'سعید', 'مربی', 'گهر', 'سیرجان', 'توجهی', 'پرداخته', 'تیمش', 'داوری', 'خورده', 'کارشناسان', 'امتیاز', 'ضرر', 'داوران', 'معمولا', 'سود', 'اشتباهات', 'باعث', 'خشونت', 'بیستم', 'ارائه', 'دریافت', 'کارت', 'زرد', 'میانگین', 'خطای', 'رتبه', 'خطا', 'سپاهان', 'ماجرای', 'کشیده', 'خصوصی\\u200cسازی', 'می\\u200cگذرد', 'مال', 'مانده', 'واگذاری', 'پیش\\u200cرو', 'دهه', 'اردیبهشت\\u200cماه', 'مزایده', 'مبلغی', 'نگاه', 'بدانند', 'کلیدی', 'سیاست\\u200cهای', 'ایفا', 'نشوند', 'بیرون', 'مشتری', 'ماجرا', 'لغو', 'خریداری', 'نرسید', 'بخورد', 'متفاوت', 'مشتریان', 'نقدی', 'هیچ\\u200cکدام', 'نداشتند', 'تسهیل', 'آب', 'تمایل', 'جعفر', 'مشاور', 'خریداران', 'حساسیت', 'بازپرداخت', 'اقساط', 'قائل', 'تسهیلات', 'دقیق', 'پرداختی', 'معامله', 'می\\u200cگوید', 'مدت', 'قطع', 'تغییرات', 'نفع', 'دور', 'معروف', 'خریدار', 'هیات\\u200cمدیره', 'مراجعه', 'قطعی', 'کد', 'درحال\\u200cحاضر', 'مقرر', 'مالی', 'می\\u200cیابد', 'دفتر', 'نشر', 'آثار', 'روایت', 'پژوهش', 'پژوهشگران', 'فقیه', 'تیرماه', 'فرهنگسرای', 'اندیشه', 'ایمان', 'مراسم', 'مجموعه', 'موسسه', 'معاصر', 'تدوین', 'عمده', 'قلم', 'ویژگی\\u200cهای', 'انتشار', 'خاطرات', 'بحث\\u200cهای', 'نخستین', 'نویسنده', 'نشود', 'خواندن', 'سوالات', 'رویداد', 'منتظری', 'حضرت', 'تبیین', 'جایگاهی', 'رهبران', 'نداشتیم', 'رو', 'ولایت', 'بشر', 'تاکنون', 'مهم\\u200cترین', 'آن\\u200cها', 'ابتدا', 'مهرماه', 'سران', 'حاج', 'احمد', 'آقا', 'صلاحیت', 'شایسته', 'توصیه', 'ریشه', 'طول', 'سالیان', 'شخصیت', 'ویژگی', 'گوناگون', 'متن', 'جلد', 'جمعی', 'ابتلا', 'آمدند', 'بگذارد', 'حجت\\u200cالاسلام', 'اسناد', 'اطلاعات', 'آزادسازی', 'بهره', 'دقت', 'مطالب', 'مناسبت', 'دموکراسی', 'تحمیلی', 'تعطیل', 'نشد', 'جمهور', 'ونزوئلا', 'دیداری', 'همیشه', 'می\\u200cتوانید', 'شوید', 'حوادث', 'رسیدند', 'عربی', 'مبتنی', 'سخن', 'می\\u200cگوییم', 'صحیح', 'وظیفه', 'حیاتی', 'رصد', 'فرد', 'پدیده', 'افکار', 'لایحه', 'بودجه', 'بزند', 'جای', 'هستی', 'نرم', 'سرنوشت', 'اگرچه', 'دیر', 'غلط', 'به\\u200cتازگی', 'نشریات', 'نهادهای', 'ارقام', 'طوری', 'گویی', 'کسری', 'قبیل', 'لزوم', 'آید', 'معطوف', 'فلسفه', 'قول', 'درحال', 'مذهبی', 'موازی', 'اعتباری', 'حداقل', 'تحول', 'بعید', 'تخصیص', 'بازهم', 'صندوق\\u200cهای', 'بازنشستگی', 'کمبود', 'واقعا', 'حاکم', 'صندوق\\u200cها', 'پیوسته', 'عده\\u200cای', 'زاویه', 'مذکور', 'کارایی', 'اصل', 'تبلیغ', 'قبول', 'نهادی', 'انبوه', 'حکایت', 'قوانین', 'بازنشسته', 'فشارهای', 'نیروی', 'استراحت', 'خانه', 'بپردازند', 'هزینه', 'بپردازد', 'مطالبه', 'مسلم', 'سالانه', 'دستمزد', 'کارکنان', 'بی\\u200cکاری', 'پنهان', 'دستگاه\\u200cهای', 'کارمندان', 'نیستند', 'وابسته', 'نیازمند', 'شاغل', 'استخدام', 'اخراج', 'خودداری', 'دوش', 'اینجاست', 'نادیده', 'برجسته', 'کوچک', 'برسیم', 'اهتمام', 'بیاید', 'سوق', 'بتوان', 'گفت\\u200cوگویی', 'سامان', 'اجماع', 'آرژانتین', 'آماده', 'ساعات', 'چارچوب', 'رقابتهای', 'مقدماتی', 'جهانی', 'مصاف', 'برود', 'مصدومیت', 'برطرف', 'ناحیه', 'پا', 'جمعه', 'تساوی', 'نیمه', 'ثمر', 'رساند', 'صد', 'چهل', 'جدال', 'مهاجم', 'آرژانتینی', 'گلزنی', 'برگردد', 'قدیمی', 'محسوب', 'نتوانسته', 'دروازه', 'رقابت\\u200cهای', 'کوپا', 'ستاره', 'کشورش', 'باری', 'گلی', 'رسانده', 'نقطه', 'نبوده', 'پانزدهم', 'نوامبر', 'دوستانه', 'هاشمی\\u200cرفسنجانی', 'دلایلی', 'ورود', 'کابینه', 'سازندگی', 'سنگین', 'رها', 'زیرساخت\\u200cها', 'آسیب\\u200cهای', 'عموما', 'مدیریتی', 'می\\u200cشدند', 'فارغ', 'متخصصان', 'بازسازی', 'متعدد', 'صرفا', 'تجربه', 'فنی', 'خوشبختانه', 'بدنه', 'بازی\\u200cهای', 'معمول', 'سرعت', 'جلو', 'جایگزین', 'الگوی', 'استراتژی', 'بهبود', 'مدل', 'تصویب', 'راست', 'آزاد', 'می\\u200cبرد', 'پیگیر', 'کارشناسی', 'منتقد', 'می\\u200cدانست', 'زود', 'پیشرفته', 'نخبگان', 'ایرانیان', 'قشر', 'آنهایی', 'شک', 'سنگ', 'عباسی', 'واژه', 'ارشد', 'میانی', 'لذا', 'کالای', 'همدلی', 'تولیدکنندگان', 'مصرف', 'کنندگان', 'کانون', 'عالی', 'انجمن\\u200cهای', 'صنفی', 'کارگران', 'شخص', 'تولیدکننده', 'کننده', 'معنای', 'مسایل', 'ضعیف', 'جنس', 'چینی', 'می\\u200cآورند', 'سلیقه', 'عرضه', 'جذاب', 'شناسایی', 'بنگاه\\u200cها', 'اراده', 'تقویت', 'پشتیبانی', 'به\\u200c', 'کارگر', 'تعطیلی', 'ریزش', 'بیکاری', 'مستلزم', 'سایه', 'بندی', 'حمید', 'حج', 'ظهر', 'شهریور', 'سرانجام', 'عزت', 'زائران', 'رساندن', 'سخت', 'اعزام', 'نوسانات', 'عملیات', 'مذاکره', 'امضای', 'منوط', 'تفاوت', 'اسفندماه', 'قیمت\\u200cها', 'محاسبه', 'ببینیم', 'زیارت', 'شهید', 'فاجعه', 'خانواده\\u200cهای', 'شهدای', 'آزمایش', 'ابتدای', 'محرم', 'تعطیلات', 'موکول', 'خانواده', 'شهدا', 'دومی', 'خاک', 'سپرده', 'پرونده\\u200cهای', 'اربعین', 'اختلافات', 'سامانه', 'نیما', 'گرفتن', 'قیمتی', 'طراحی', 'سیستم', 'محاسبات', 'زودی', 'سفرهای', 'مدتی', 'فرصتی', 'اعتماد', 'برقرار', 'رحیمی', 'مدیرعامل', 'خوزستان', 'گلایه', 'مدیره', 'چندی', 'اهل', 'کرواسی', 'مس', 'کرمان', 'رفسنجان', 'استقلالی\\u200cها', 'عهده', 'محقق', 'ناراحتی', 'گفتنی', 'سقوط', 'دسته', 'رقابت\\u200cها', 'بهرام', 'قاسمی', 'سخنگوی', 'خارجه', 'عمدتا', 'تحت\\u200cتاثیر', 'آستانه', 'اجلاس', 'تثبیت', 'ارسال', 'کمک\\u200cهای', 'بحرین', 'دائمی', 'اتحادیه', 'پوشش', 'سعودی', 'انتصاب', 'سفیر', 'بغداد', 'تصور', 'رژیم', 'صهیونیستی', 'دوستی', 'علاقه', 'سخنان', 'ارزش', 'کویت', 'پیامی', 'خلیج', 'صبر', 'فرانسه', 'به\\u200cزودی', 'مبنی', 'آمریکایی', 'نفوذ', 'اقداماتی', 'خواب', 'خیال', 'کهن', 'تاریخی', 'سوئیس', 'حافظ', 'منافع', 'محورهای', 'ثالث', 'کانادا', 'ملل', 'به\\u200cخوبی', 'حقوقی', 'رفع', 'دریایی', 'وظایف', 'همکاری\\u200cهای', 'مشخصی', 'چندان', 'متعهد', 'پیگیری\\u200cهای', 'آرزو', 'گرفتار', 'خانه\\u200cهای', 'دادگستری', 'تنهایی', 'شرح', 'اختیارات', 'همیشگی', 'صندلی', 'بقیه', 'تفاوتی', 'ردیف', 'محترم', 'وزرا', 'فرزند', 'مهر', 'می\\u200cگیرد', 'لوایح', 'اعتبارات', 'رسما', 'هیچ\\u200cیک', 'تشکیلات', 'سازمانی', 'ساختمان', 'قسمت', 'اعتبار', 'نمی\\u200cتواند', 'امکانات', 'معاونت', 'همین\\u200cطور', 'نحو', 'وزارتخانه', 'باب', 'آرام', 'نسبتا', 'خوش', 'نیامده', 'نگهبان', 'رضایت', 'مطابق', 'مشمول', 'مفهوم', 'شفاف', 'عملکرد', 'بنده', 'فعلی', 'اداری', 'بدیهی', 'جانب', 'ترتیب', 'عضویت', 'مصوبات', 'ایراد', 'نامه', 'شماره', 'پیشنهاد', 'پست', 'لطمه', 'سریع\\u200cتر', 'تداوم', 'تحمیل', 'ارتقا', 'توکلی', 'مصلحت', 'تهدید', 'سختی', 'شیوع', 'خطر', 'تخریب', 'به\\u200cجای', 'ساختمانی', 'بلند', 'علم', 'کاخ', 'گلستان', 'سالم', 'میراث', 'مدیرکل', 'گردشگری', 'صدور', 'ایلنا', 'درحالی', 'کارخانه', 'سیمان', 'ری', 'فهرست', 'سال\\u200cهاست', 'بنای', 'فراوان', 'اخبار', 'داغ', 'گوشه', 'گوش', 'استان', 'اثر', 'شاه', 'درهای', 'شمالی', 'شرقی', 'پلیس', 'آگاهی', 'وحدت', 'آثاری', 'سریال', 'پایتخت', 'انبار', 'معمولی', 'فیلمبرداری', 'محوطه', 'مانع', 'شویم', 'صیانت', 'حریم', 'عرصه', 'بگیریم', 'احیا', 'مرمت', 'متولی', 'محلی', 'موزه', 'بودجه\\u200cای', 'بنا', 'کارها', 'مثال', 'ضوابط', 'شکایت', 'فراموش', 'محدوده', 'گیر', 'دار', 'اداره', 'ظرف', 'حکم', 'قضایی', 'توقف', 'شایعاتی', 'شنیده', 'تعویض', 'فیفا', 'قبلی', 'علوم', 'فناوری', 'بررسی', 'علت', 'دانشجویان', 'دانشگاه', 'یزد', 'دکتر', 'فرهادی', 'افتتاحیه', 'دستاوردهای', 'پارک', 'دانشجو', 'دانشگاه\\u200cهای', 'تحصیل', 'شیراز', 'آلودگی', 'غذایی', 'سردار', 'نماینده', 'روانی', 'منظور', 'بچه\\u200cهای', 'الهی', 'بچه\\u200cها', 'لباس', 'پای', 'تجاوز', 'اجازه', 'ندادند', 'بماند', 'معیشتی', 'نقاط', 'فرمانده', 'رضایی', 'دانشجوی', 'برادران', 'حساب', 'ببینید', 'ترس', 'بگیرند', 'بسیج', 'ارتش', 'حزب', 'عالم', 'ربیعی', 'تعاون', 'استمرار', 'احساس', 'امید', 'برنامه\\u200cها', 'تدبیر', 'خسته', 'درآمد', 'نصیب', 'همگان', 'مد', 'کیفی', 'نظریه', 'مدنی', 'ظرفیت\\u200cهای', 'مردمی', 'کف', 'بهره\\u200cمند', 'درک', 'بدترین', 'روبرو', 'نیرو', 'جوانان', 'دل', 'فراگیر', 'درصدی', 'مشاغل', 'تقاضا', 'شغلی', 'جواد', 'سلام', 'تلخ', 'آن\\u200cطور', 'سید', 'زنده', 'شبکه', 'سیما', 'کارنامه', 'بازیگری', 'کارهایی', 'این\\u200cگونه', 'کارگردان', 'قصه', 'داستان', 'ناشی', 'بزنیم', 'کارگردانی', 'دلایل', 'بازیگر', 'مدیران', 'گرفتم', 'بتوانم', 'باشم', 'امشب', 'الی', 'تماشا', 'پشتوانه', 'تکنولوژی', 'جایزه', 'بین\\u200cالمللی', 'توانستند', 'واحد', 'صادرکننده', 'صادراتی', 'شاخص', 'برگزیدگان', 'هفتم', 'شوم', 'تندیس', 'فروشی', 'هم\\u200cاکنون', 'عناوین', 'دعوت', 'ازای', 'اهدا', 'سوالی', 'برنامه\\u200cای', 'فرش', 'بزرگترین', 'مشابه', 'سبک', 'هنری', 'امضا', 'دختر', 'روستایی', 'گره', 'جغرافیایی', 'نمایشگاه\\u200cهای', 'گرفته\\u200cایم', 'پرسش', 'محدودیت\\u200cهای', 'چقدر', 'موثر', 'نکردیم', 'متعلق', 'مرغ', 'فرنگی', 'طبقه', 'اس', 'کالاها', 'می\\u200cشویم', 'صنعتی', 'مهلت', 'دبیرخانه', 'تمدید', 'موقع', 'طرح\\u200cها', 'متقاضیان', 'اتمام', 'مستندات', 'فعالیت\\u200cهای', 'شهرهای', 'متقاضی', 'فراخوان', 'روزه', 'تقاضای', 'داشته\\u200cاند', 'کارشناس', 'باشید', 'سند', 'چین', 'ناراحت', 'تفاهم\\u200cنامه', 'راهبردی', 'می\\u200cبرند', 'انرژی', 'ایرانی\\u200cها', 'تسلط', 'اروپا', 'مجددا', 'اروپایی\\u200cها', 'رسانه\\u200cها', 'سیل', 'اروپایی', 'انعقاد', 'هتل', 'اقامت', 'مجبور', 'جلوتر', 'اینترنت', 'آورند', 'دستورالعمل', 'ترامپ', 'هجوم', 'انتخاباتی', 'شدیدی', 'توافقی', 'راضی', 'بند', 'تحریم\\u200cهای', 'تحریم', 'استاندارد', 'چینی\\u200cها', 'خوشحال', 'برجام', 'چوب', 'نباشند', 'تحریم\\u200cها', 'تعلیق', 'تعویق', 'کشید', 'دیدیم', 'اصرار', 'پایبند', 'بمانند', 'رفتند', 'کوتاه', 'عملا', 'تضمین', 'آتی', 'نخواهند', 'تجدید', 'شهرداری', 'منشا', 'دین', 'محیط', 'مطلع', 'بگیرید', 'درمان', 'صدها', 'صرف', 'دانش', 'سومین', 'نفس', 'چهارمین', 'فرصت', 'یادگار', 'بدانید', 'ذوب', 'آهن', 'بیماری', 'پیشین', 'ان', 'نامی', 'گزینه\\u200cهای', 'گزینه', 'نگیرد', 'قدرتمند', 'قهرمانی', 'سهمیه', 'هفدهم', 'نایب', 'قهرمان', 'شدیم', 'اختلاف', 'می\\u200cگرفت', 'فصلی', 'ضربه', 'نظری', 'پتانسیل', 'بالایی', 'جدایی', 'اسماعیلی', 'فر', 'پیوست', 'غیرقانونی', 'می\\u200cتوانست', 'فسخ', 'احسان', 'اخلاقی', 'یکشنبه', 'پور', 'قراردادی', 'باشگاه\\u200cهای', 'تصمیمی', 'احساسی', 'شایعات', 'می\\u200cدهم', 'احساسات', 'مراسمی', 'نمایندگان', 'تشکل', 'دانشجویی', 'شوراهای', 'خطاب', 'انتظار', 'وعده\\u200cهای', 'ناامید', 'حمیدرضا', 'پیش\\u200cروی', 'کلید', 'ظاهرا', 'شکسته', 'برعکس', 'جو', 'دانشگاه\\u200cها', 'بودید', 'گرامی', 'ایمنی', 'بخش\\u200cهای', 'توضیحات', 'باقی\\u200cمانده', 'اظهارنظر', 'می\\u200cشوم', 'جزء', 'افتخارات', 'نقد', 'اقوام', 'دختران', 'می\\u200cگذارد', 'صریح', 'انتقادات', 'شامل', 'گروه\\u200cها', 'خوانده', 'بگویید', 'نمایندگی', 'یاری', 'آذر', 'موارد', 'یافته', 'به\\u200cطوری\\u200cکه', 'معلم', 'معضلات', 'معضل', 'اخیرا', 'افتاده', 'استادان', 'شنیدن', 'مفید', 'به\\u200cجز', 'گفتیم', 'عصبانی', 'سلاح', 'تعهدات', 'اقدامی', 'مقدس', 'مزایای', 'پیامبر', 'ص', 'بست', 'ایستاد', 'پیمان', 'متکی', 'نقشه', '\\u200cبه', 'حامل\\u200cهای', 'می\\u200cکردیم', 'گاز', 'ناچار', 'شده\\u200cایم', 'درحالی\\u200cکه', 'زیست', 'بهای', 'روزانه', 'لیتر', 'آخر', 'گونه\\u200cای', 'تماس', 'زده', 'اسرائیل', 'بزرگ\\u200cترین', 'دشمنان', 'بدتر', 'هیچ\\u200cکس', 'نتوانستند', 'منطق', 'بخواهیم', 'اصول', 'اتکا', 'آسان', 'امکان\\u200cپذیر', 'می\\u200cگویم', 'گرفتیم', 'اخلاق', 'گرچه', 'آدم', 'شیاطین', 'ماه\\u200cهای', 'سوءاستفاده', 'طبیعی', 'معیار', 'احراز', 'مقدار', 'علاقه\\u200cمند', 'خداوند', 'نگه', 'به\\u200cراحتی', 'افتتاح', 'خرد', 'جناح', 'احزاب', 'ضعف', 'آدم\\u200cها', 'نقص', 'خب', 'تبادل', 'اسلام', 'رفتار', 'عبدالله', 'تبعات', 'فوت', 'خسارت', 'وزنه', 'موسوم', 'سویی', 'بعدها', 'تمرکز', 'ششم', 'نزدیکی', 'حامیان', 'متحمل', 'کوتاه\\u200cمدت', 'غلبه', 'بستگی', 'تشییع', 'پیکر', 'انسجام', 'جایگزینی', 'تدریجی', 'معنا', 'اندازه', 'ظهور', 'جریان\\u200cهای', 'افراطی', 'بین\\u200cالملل', 'فعلا', 'ترور', 'باغ', 'انگلیس', 'حرکات', 'محکوم', 'موفقی', 'دیدگاه', 'بالاتری', 'رقیب', 'پیروز', 'دلیلی', 'اوپک', 'ضد', 'رد', 'می\\u200cدانم', 'پیشبرد', 'توانمند', 'جلیلی', 'روستا', 'لیست', 'ائتلاف', 'منع', 'مفاهیم', 'پرویز', 'محمدباقر', 'قالیباف', 'کاش', 'شخصیتی', 'ساکت', 'لاریجانی', 'فریدون', 'شاخص\\u200cهای', 'ارکان', 'خودروسازان', 'ایران\\u200cخودرو', 'توافقات', 'زنجیره', 'پیوند', 'مباحث', 'لوازم', 'مقوله', 'یکسان', 'پژو', 'جداگانه', 'مالیاتی', 'گمرکی', 'توجیه', 'احداث', 'تعرفه', 'عراقی', 'پذیرفت', 'استانداردهای', 'یورو', 'حجم', 'موتور', 'متعددی', 'مطلوب', 'تدارک', 'ازجمله', 'تحقیق', 'سبد', 'بررسی\\u200cهای', 'لبنان', 'الجزایر', 'تونس', 'دستی', 'غالب', 'آفریقا', 'مذاکراتی', 'آینده\\u200cای', 'برخورداری', 'گسترده', 'صرفه', 'احیای', 'کردستان', 'سطوح', 'متوقف', 'پارس', 'خودروی', 'قزاقستان', 'مراحل', 'اخذ', 'آذربایجان', 'تجهیز', 'خطوط', 'فاز', 'قرقیزستان', 'بلاروس', 'ارمنستان', 'گواهی', 'گمرک', 'سایت\\u200cهای', 'رقابتی', 'تخلف', 'محرومیت', 'می\\u200cخواهم', 'بروم', 'وکیل', 'مصطفی', 'سلیمانی', 'زمستانی', 'تاثیرگذاری', 'دربی', 'لقب', 'دقایق', 'جنجالی', 'خصوصا', 'سرخ\\u200cها', 'فاصله', 'بازیکنی', 'قهرمانان', 'امتیازی', 'گل\\u200cهای', 'جنتی', 'مختلفی', 'نیم', 'شورا', 'پرداختن', 'رویه', 'مصوبه', 'ابلاغ', 'گشایش', 'تصمیمات', 'معافیت', 'ربطی', 'بیمه', 'تکمیلی', 'صندوق', 'نویسندگان', 'اصولا', 'مسجد', 'ع', 'نشاط', 'ارمغان', 'رساندند', 'نوبت', 'می\\u200cتوانستند', 'نزد', 'غیرمستقیم', 'اعم', 'شیعه', 'تعلق', 'می\\u200cآورد', 'کاندیداهای', 'مادر', 'تخصصی', 'تابستان', 'نشدن', 'برق', 'زاده', 'زیرمجموعه', 'رقمی', 'پاداش', 'برآورد', 'سازمان\\u200cهای', 'افق', 'خانگی', 'برنامه\\u200cریزی', 'پارسال', 'کمتری', 'عسگری', 'پژوهشی', 'آموزش', 'باتوجه', 'بستر', 'ایده\\u200cهای', 'اولویت\\u200cهای', 'راهکارهای', 'پژوهش\\u200cهای', 'آموزشی', 'برون', 'نظارت', 'قائم', 'کلیه', 'محققان', 'آبان', 'پیشنهادی', 'تحقیقاتی', 'عباس', 'استاد', 'مقاله', 'تحلیل', 'چاپ', 'مرجع', 'ارزهای', 'تحلیلگران', 'عبور', 'دانسته', 'فردوسی', 'تومانی', 'مصارف', 'فلزات', 'نشانه', 'دارو', 'نمی\\u200cگیرد', 'مصوب', 'هزارو', 'مبادلات', 'علل', 'افت', 'ناگهانی', 'آوردند', 'مقطع', 'پویا', 'همه\\u200cچیز', 'گشت', 'اثرگذار', 'فرستاده', 'عوامل', 'ریال', 'اطلاع', 'متاثر', 'حداکثری', 'صلاح', 'می\\u200cافزاید', 'شوک', 'زیان', 'پذیرفته', 'عبارت', 'شفافیت', 'دلالان', 'صدای', 'منتهی', 'محله', 'پی', 'اونس', 'سکه', 'قدیم', '\\u200cو', 'طلای', 'سنت', 'زیرزمینی', 'می\\u200cرویم', 'محمودی', 'آبی', 'مستند', 'ختم', 'برده', 'تمدن', 'هدفمند', 'ساماندهی', 'غیرمجاز', 'تغذیه', 'آبیاری', 'ویروس', 'حالت', 'لیگ\\u200cهای', 'باشگاه\\u200cها', 'تلویزیون', 'انگلستان', 'محبوب', 'روان', 'کمیسیون', 'بابک', 'زنجانی', 'نمی\\u200cدانند', 'انداخته', 'انصاری', 'اشخاص', 'زنگنه', 'مرد', 'مدام', 'قانع', 'سکوت', 'این\\u200cباره', 'بیژن', 'سه\\u200cشنبه', 'ب', 'فرستاد', 'نادر', 'تازگی', 'بورس', 'نوسان', 'مرور', 'هرگونه', 'بازه', 'اغلب', 'کانال', 'نزولی', 'عدد', 'تاثیرگذار', 'سهامداران', 'خروج', 'عمیق', 'قیمت\\u200cهای', 'رسیده\\u200cاند', 'هفته\\u200cای', 'نسبی', 'علاقه\\u200cای', 'مشاهده', 'هماهنگ', 'همبستگی', 'هوشمند', 'تعادل', 'چشم\\u200cانداز', 'بلندمدت', 'سرمایه\\u200cگذاران', 'انتظارات', 'تورمی', 'کلمه', 'سرمایه\\u200cگذار', 'معاملات', 'تعدادی', 'نمادهای', 'برابری', 'پروسه', 'رشدی', 'ارزشمندی', 'ملاک', 'چندانی', 'ابزارهای', 'تخلیه', 'هیجان', 'بازارها', 'ندهند', 'نشان\\u200cدهنده', 'صعودی', 'معاملاتی', 'واحدی', 'الزام', 'فرابورس', 'خزانه', 'بورسی', 'بانکی', 'حمایتی', 'بانک\\u200cها', 'حسابرسی', 'انتهای', 'نرخ\\u200cهای', 'احتمالا', 'بازگرداندن', 'حقیقی', 'کارگزاران', 'گردش', 'اندازی', 'مسکن', 'دارایی\\u200cهای', 'مجامع', 'ابهام', 'بینی', 'مراتب', 'بهزاد', 'گو', 'مرداد', 'دنیای', 'یکپارچه', 'بنیادی', 'مهمترین', 'ماهانه', 'گذاری', 'رونمایی', 'گزارش\\u200cها', 'سرمایه\\u200cهای', 'رفتارهای', 'پرهیز', 'می\\u200cگردد', 'فرزاد', 'برساند', 'متولیان', 'ضریب', 'یکباره', 'حرفه\\u200cای', 'مشاوران', 'معتقدیم', 'مستقیما', 'الزامات', 'پتروشیمی', 'دارویی', 'گاه', 'فراز', 'ارزیابی', 'کارگزاری', 'اقبال', 'حملات', 'تروریستی', 'تفکر', 'می\\u200cگیرند', 'موشکی', 'مرزهای', 'مستقر', 'مسکو', 'دستیار', 'دفاعی', 'سپتامبر', 'آوریل', 'حکمی', 'سازنده', 'لندن', 'بریتانیا', 'دیپلماتیک', 'دقایقی', 'حذفی', 'برترین', 'تعامل', 'مواقع', 'تعاملات', 'بهشتی', 'ماهیت', 'ارزش\\u200cهای', 'گرایش', 'دینی', 'هویت', 'مرگ', 'محوری', 'تردید', 'برپا', 'تامل', 'تعبیر', 'چنان', 'ساده', 'منظر', 'طرفین', 'مساوی', 'تقسیم', 'فرمول', 'ایالات', 'متحده', 'گونه', 'اشکال', 'نگرش', 'طرف\\u200cهای', 'خاتمه', 'درواقع', 'می\\u200cدانستند', 'عرصه\\u200cهای', 'نمی\\u200cدهد', 'ضبط', 'دوره\\u200cهای', 'مبانی', 'مستمر', 'حقیقت', 'ناظر', 'طبعا', 'برآورده', 'تمایلی', 'عناصر', 'توقع', 'وزن', 'بداند', 'اقتدار', 'نمونه', 'طرفداران', 'سیزدهم', 'چاره\\u200cای', 'مسیری', 'فراکسیون', 'تشریح', 'تبلیغات', 'شهروندان', 'کاندیدای', 'مسائلی', 'موسیقی', 'عوض', 'حداکثر', 'توانایی', 'ببرد', 'نداد', 'اوقات', 'وقفه', 'میز', 'بنابر', 'زنان', 'نظرم', 'آرش', 'ابتدایی', 'هافبک', 'فرشید', 'باقری', 'زمین', 'وینگر', 'تهاجمی', 'مبلغ', 'واریز', 'مبالغ', 'تخفیف', 'گرجستان', 'پیوستن', 'نکردن', 'موضع', 'خبرگزاری', 'شوروی', 'نتیجه\\u200cای', 'مستقل', 'رسمیت', 'موافقت', 'ناکامی', 'مارس', 'حجت', 'حسینی', 'اسکان', 'نجف', 'مکان', 'سی', 'رسانی', 'راننده', 'جزئیات', 'وصول', 'درخواست', 'انگیزه', 'ماندگار', 'میشود', 'اعزامی', 'پارلمان', 'فتح', 'خراسان', 'گردشگران', 'بالاترین', 'گردشگر', 'ملاحظه', 'پوند', 'قادر', 'بازدید', 'آمریکای', 'ژوئن', 'اعتراف', 'محکم', 'اثبات', 'مدارک', 'میزبان', 'طرفی', 'هواپیمایی', 'اسپانسر', 'دیدارهای', 'اتریش', 'گمان', 'مدرک', 'اتفاقی', 'بیفتد', 'مجازات', 'ببیند', 'قبال', 'صدر', 'معدود', 'قریب', 'عارف', 'باهنر', 'چهره\\u200cهای', 'گفته\\u200cاند', 'فراتر', 'یزدی', 'نماز', 'عوارض', 'ملحق', 'هدیه', 'دامنه', 'توانست', 'مصالح', 'فریاد', 'مقدمات', 'عقل', 'مدت\\u200cها', 'ابراز', 'رئال', 'مادرید', 'ترکیب', 'ببینم', 'نمی\\u200cکنم', 'تحمل', 'ال', 'پیاپی', 'توقیف', 'شبکه\\u200cهای', 'شبیه', 'کاربران', 'دیدگاه\\u200cهای', 'پرداختند', 'عبارتی', 'می\\u200cدهیم', 'بیمه\\u200cای', 'مقررات', 'خروجی', 'مالیات', 'کنون', 'غیرنفتی', 'آنالیز', 'ورودی', 'ناشران', 'بهادار', 'تسویه', 'وجوه', 'شهریورماه', 'سنا', 'مطلب', 'زن', 'فرآیند', 'نماد', 'صادقی', 'رکود', 'نوید', 'انداز', 'فرار', 'فروشندگان', 'تزریق', 'لهستان', 'تاجیکستان', 'عاملی', 'پاریس', 'ترسیم', 'بدین', 'تسریع', 'جبران', 'کوتاهی', 'هواپیماهای', 'گسترده\\u200cای', 'کمکی', 'تلاشی', 'رایزنی', 'حوزه\\u200cها', 'نادرست', 'خطرناک', 'ماموریت', 'تور', 'هوایی', 'انگلیسی', 'ژاپن', 'هند', 'مقصد', 'ایتالیا', 'مراکش', 'ترکیبی', 'پروازهای', 'قطار', 'وسیله', 'هزینه\\u200cهای', 'آسمان', 'غیردولتی', 'نداشته\\u200cاند', 'دیپلماسی', 'تاکتیکی', 'ذهن', 'می\\u200cرساند', 'بوده\\u200cایم', 'قاطع', 'وجه', 'قاعده', 'اصطلاح', 'قلمداد', 'دونالد', 'تضعیف', 'متحد', 'دبیرکل', 'گزارشی', 'تاسیسات', 'دادستان', 'آژانس', 'اتمی', 'به\\u200cصورت', 'غیرقابل', 'تاثیرات', 'نکات', 'یافتند', 'علی\\u200cرغم', 'ضربات', 'سراغ', 'مسیرهای', 'فراوانی', 'نابودی', 'نقض', 'روح', 'روندی', 'هیچ\\u200cگونه', 'نگارش', 'حاکی', 'عملی', 'جلال', 'اختتامیه', 'ادبی', 'آل', 'کتابخانه', 'خاطره', 'آشنایی', 'مرحوم', 'نهضت', 'ساکن', 'تربیت', 'مطالعه', 'مقالات', 'طالقانی', 'ملاقات', 'یافتن', 'سخنانش', 'انتشارات', 'مقدمه', 'اندک', 'کتاب\\u200cها', 'مسئولین', 'عنایت', 'اتحاد', 'علنی', 'مسوولان', 'معیشت', 'دیوار', 'آنهاست', 'برکنار', 'درگیر', 'شخصی', 'مسلمان', 'مملکت', 'مراجع', 'استعفا', 'بدهم', 'میزبانی', 'بیاوریم', 'موفقیت\\u200cهای', 'برسانیم', 'برایش', 'نتواند', 'دهید', 'فروخته', 'لیبی', 'شرکت\\u200cهایی', 'مخصوص', 'سیستم\\u200cهای', 'ارزان', 'جدیت', 'دلاری', 'صادرکنندگان', 'استخراج', 'وابستگی', 'درآمدهای', 'منهای', 'افزایشی', 'محمدعلی', 'کشورهایی', 'گذاشتند', 'توسعه\\u200cای', 'نوشت', 'آن\\u200cکه', 'آگاه', 'میلادی', 'ریاض', 'سیاست\\u200cگذاری', 'استانی', 'بی\\u200cتوجهی', 'معرض', 'استان\\u200cها', 'بافت', 'رفته\\u200cاند', 'اسفند', 'نجفی', 'مجموعه\\u200cهای', 'دستگاه\\u200cها', 'سو', 'کاربری', 'ملک', 'بنیاد', 'املاک', 'درباره\\u200cی', 'برسانند', 'مالکیت', 'قدری', 'یکسری', 'هم\\u200cچنین', 'نشده\\u200cاند', 'نگهداری', 'همایش', 'هزینه\\u200cها', 'پیشکسوتان', 'خواسته\\u200cهای', 'پنجم', 'عمده\\u200cای', 'نمونه\\u200cهای', 'برسند', 'حمل', 'بخش\\u200cهایی', 'آشنا', 'خواسته', 'الکترونیک', 'اموال', 'پژوهشگاه', 'منبع', 'جمع\\u200cبندی', 'بهره\\u200cگیری', 'شفاف\\u200cسازی', 'به\\u200cخصوص', 'بدل', 'خواهان', 'شنبه', 'رنج', 'شکاف', 'موانع', 'اراک', 'شیوه\\u200cهای', 'اصولی', 'بهینه', 'روش\\u200cهای', 'نوین', 'تعاونی\\u200cهای', 'ترغیب', 'کشت', 'اصلی\\u200cترین', 'پایداری', 'منفی', 'معنی', 'الکترونیکی', 'ملت\\u200cها', 'بزرگداشت', 'قدردانی', 'تغییری', 'کریم', 'بنزما', 'فرانسوی', 'درخشان', 'الدین', 'زیدان', 'اسپانیایی', 'عملکردی', 'العاده', 'واضح', 'مطلق', 'مارک', 'ویلموتس', 'استارت', 'نشانی', 'مربیگری', 'رفتن', 'عظیم', 'موقعیت\\u200cهای', 'سری', 'کری', 'مربیان', 'پیاده', 'این\\u200cها', 'کلمبیا', 'عشق', 'قلبی', 'بویژه', 'چشمگیر', 'براین', 'عمان', 'چشمگیری', 'طرحی', 'معتبر', 'زلاتان', 'سن', 'سالگی', 'میلان', 'ظاهر', 'صدرنشینی', 'آ', 'باشگاهی', 'کومان', 'آژاکس', 'تمجید', 'درخشش', 'تعجب', 'کرده\\u200cام', 'توانایی\\u200cهای', 'مهاجمان', 'برایم', 'داشته\\u200cایم', 'معادن', 'ناخالص', 'عقیده', 'معدنی', 'جزو', 'شعر', 'قربانی', 'جشنواره\\u200cهای', 'هنرمندان', 'کارگاه\\u200cهای', 'اساتید', 'اماکن', 'دانشکده', 'ادبیات', 'سالن\\u200cهای', 'سراسری', 'سرویس', 'بیست', 'مطبوعات', 'بازیگران', 'نمایشی', 'به\\u200cوجود', 'آورده\\u200cاند', 'غرفه', 'چای', 'میانه', 'خانم', 'نشریه', 'عکاسی', 'اهالی', 'عکاسان', 'ناگهان', 'صدا', 'اطراف', 'پر', 'صبا', 'جذابیت', 'نبودن', 'مخاطب', 'خبرهای', 'هنرمند', 'اوایل', 'یارانه', 'رایگان', 'مکتوب', 'سرانه', 'قوت', 'جوایز', 'آمده\\u200cاند', 'حرفه', 'موعد', 'رادیو', 'آنلاین', 'برایشان', 'مجله', 'تازه\\u200cترین', 'خام', 'فولاد', 'خواستار', 'ارزشی', 'لیورپول', 'تاتنهام', 'یورگن', 'کلوپ', 'یکم', 'دیوید', 'فوق\\u200cالعاده', 'دیدگی', 'مسابقه', 'اکبر', 'تراکتورسازی', 'سرخپوشان', 'غایب', 'نتوانست', 'غیبت', 'حضوری', 'واحدهای', 'رحمان', 'سوء', 'تاثیری', 'واحدها', 'ملزم', 'سازوکار', 'میلیاردی', 'می\\u200cباشد', 'فقره', 'ازبکستان', 'زمینی', 'شورای\\u200cعالی', 'حکومتی', 'باوجود', 'مخصوصا', 'کشف', 'بازتاب', 'الف', 'روزی', 'اذعان', 'مایه', 'صداوسیما', 'می\\u200cپردازند', 'تفکیک', 'شایستگی', 'تکیه', 'اشغال', 'زیرساخت\\u200cهای', 'شکل\\u200cگیری', 'خلاصه', 'غفلت', 'مواجهه', 'حامی', 'داعش', 'رقبای', 'رقبا', 'میل', 'راجع', 'شمال', 'هریک', 'مصر', 'تفاهم', 'پذیرش', 'قدرت\\u200cهای', 'تنش', 'درونی', 'عید', 'موقت', 'تابستانی', 'مبارک', 'رمضان', 'آوری', 'طبقات', 'غنی', 'غربی', 'هیات\\u200cهای', 'امباپه', 'پاری', 'ژرمن', 'جی', 'بایرن', 'مونیخ', 'عاشق', 'ناصر', 'نمی\\u200cخواهم', 'شانس', 'پیشکسوت', 'خورد', 'آبی\\u200cها', 'شوت', 'شیخ', 'دیاباته', 'بیاورد', 'گفتن', 'زندان', 'حبس', 'دادگاه', 'اعدام', 'بازداشت', 'قضاییه', 'دشواری', 'همکاران', 'رود', 'علیزاده', 'برنج', 'اندکی', 'گیلان', 'مازندران', 'مصرفی', 'گران', 'واردکنندگان', 'ذخیره', 'صمت', 'سفارش', 'پاکستان', 'ممنوع', 'تعاونی', 'کارخانه\\u200cهای', 'کیلویی', 'کشاورز', 'ترخیص', 'هندی', 'میدانی', 'خانوار', 'تحریک', 'اجاره', 'فرسوده', 'مسلما', 'کرمانشاه', 'وام', 'مسکونی', 'مصرف\\u200cکنندگان', 'متری', 'متر', 'کریستیانو', 'رونالدو', 'یوونتوس', 'دشوار', 'تماشای', 'توپ', 'هزینه\\u200cای', 'ژوزه', 'مورینیو', 'درخشانی', 'شادی', 'جدول', 'ایستاده', 'فوتبالی', 'خوشحالی', 'وسط', 'جیب', 'تبصره', 'ریالی', 'سقف', 'روستاها', 'شرکتهای', 'شهرسازی', 'نماید', 'صحت', 'پیمانکاران', 'منتفی', 'فقدان', 'حیث', 'ساختاری', 'هرکدام', 'قاضی', 'اف', 'ای', 'تی', 'ارتباطات', 'کاربردی', 'نمی\\u200cشوند', 'می\\u200cکشد', 'کاربرد', 'پژوهشگر', 'بهداشت', 'انسان', 'وسیع', 'ماده', 'بیمار', 'بیمارستان', 'بلیت', 'اینترنتی', 'طلب', 'نبودند', 'کوچکی', 'موافق', 'غیاب', 'کادر', 'اصناف', 'فکری', 'گذاران', 'مجاز', 'جرم', 'ارجاع', 'دادرسی', 'قید', 'متهمان', 'والیبال', 'بلغارستان', 'تماشاگران', 'ست', 'پرتغال', 'نجات', 'یورویی', 'اسپانیا', 'ژانویه', 'راهبرد', 'معماری', 'حرم', 'مراکز', 'الهام', 'درخت', 'این\\u200c', 'مطلوبی', 'سیر', 'طبیعت', 'قواعد', 'برداری', 'بومی', 'فهم', 'مادی', 'معنوی', 'سبز', 'مراقبت', 'بیرونی', 'قرائت', 'نمی\\u200cداند', 'ببرند', 'پدر', 'دیوان', 'منزل', 'بازرگان', 'قرآن', 'انسانی', 'مردی', 'پهلوی', 'روزگار', 'پیام', 'جناب', 'ترویج', 'علاقه\\u200cمندان', 'همسر', 'فرزندان', 'رشته', 'نبودیم', 'می\\u200cبینید', 'یادم', 'تقابل', 'می\\u200cدانید', 'دی\\u200cماه', 'پزشکان', 'بزرگان', 'عموم', 'شرط', 'مامور', 'شواهد', 'آذری', 'منصوب', 'فرض', 'مرتکب', 'کشته', 'می\\u200cخواستند', 'شخصیت\\u200cهای', 'می\\u200cگفت', 'تحصیلی', 'سیاستی', 'نبودم', 'نمی\\u200cکرد', 'روحانیت', 'مطهری', 'پدرم', 'مصدق', 'آبادان', 'برکناری', 'استعفای', 'نامزد', 'نشدند', 'می\\u200cآمد', 'به\\u200cنظر', 'محمدحسین', 'یحیی', 'آلومینیوم', 'میلاد', 'کمال', 'نیا', 'زوج', 'پیکان', 'هجومی', 'ترابی', 'المپیک', 'اردو', 'سپیدرود', 'رشت', 'اولی', 'طلایی', 'هاست', 'فوتسال', 'غیررسمی', 'کلام', 'قاچاق', 'سنگینی', 'لبنی', 'رستمی', 'پایش', 'مداوم', 'ادارات', 'تخلفات', 'کارگروه', 'بیانیه', 'بعدا', 'هیئت\\u200cرئیسه', 'توضیحاتی', 'عذرخواهی', 'منتشرشده', 'زحمات', 'تجلیل', 'پدید', 'چراغ', 'پیشگیری', 'حدودی', 'پیش\\u200cتر', 'تیر', 'رئیسه', 'تذکر', 'می\\u200cبینند', 'صحن', 'محتوای', 'عبدی', 'می\\u200cخوانید', 'ایده', 'آرای', 'بیاورند', 'شوخی', 'تاسف', 'می\\u200cخواهید', 'عادلانه', 'ده\\u200cها', 'بانکها', 'عقد', 'رضوی', 'نصب', 'خانوارهای', 'مجید', 'نساجی', 'مسجدسلیمان', 'کادرفنی', 'تیمم', 'بزنم', 'پذیر', 'داور', 'روحیه', 'مهران', 'نژاد', 'پلی', 'نیمار', 'اسپورت', 'قدر', 'شفیعی', 'شریعتی', 'تئاتر', 'پردیس', 'موسسات', 'اتفاقا', 'دایره', 'گذار', 'فضاهای', 'خدماتی', 'مشهور', 'مصداق', 'مدارس', 'اعطای', 'همگانی', 'استان\\u200cهای', 'تلویزیونی', 'صحنه\\u200cهای', 'آدم\\u200cهای', 'متخصص', 'اسطوره', 'فوتبالیست', 'تفسیر', 'می\\u200cپردازد', 'جالبی', 'مارادونا', 'اوضاع', 'حساب\\u200cهای', 'بانک\\u200cهای', 'شهرک', 'یزدانی', 'جاده', 'هکتار', 'نکرده\\u200cاند', 'مسابقه\\u200cهای', 'بوکس', 'کناره\\u200cگیری', 'احمدی', 'ذهنی', 'باخت', 'ا', 'ورزش\\u200cهای', 'مجتبی', 'مربوطه', 'بازرسی', 'نوآوری', 'مجوزهای', 'راهنمایی', 'مشاوره', 'تحصیلات', 'تدریس', 'حسب', 'حراج', 'انواع', 'تیراندازی', 'شعبه', 'احکام', 'آرا', 'هندبال', 'کماکان', 'تنوع', 'رشته\\u200cهای', 'برلین', 'آتش', 'خودروها', 'متوالی', 'هزاران', 'زیبا', 'سالگرد', 'بیل', 'کنفرانس', 'رنکینگ', 'محوریت', 'بیماران', 'کارآفرینی', 'پژوهشکده', 'استاندار', 'کارفرمایان', 'رسالت', 'فاضلاب', 'یادداشت', 'داستانی', 'کتابخانه\\u200cهای', 'کتابی', 'کتاب\\u200cهای', 'پرورش', 'شریف', 'هشدار', 'دغدغه\\u200cهای', 'نوشتن', 'نسخه', 'هوا', 'محدودیت\\u200cها', 'استرالیا', 'دسامبر', 'اکتبر', 'فوری', 'بنادر', 'متمرکز', 'پنجشنبه', 'درگیری', 'شطرنج', 'ابتکار', 'کشتی', 'کاهشی', 'سیف', 'همتی', 'سپرده\\u200cهای', 'حرکتی', 'تعدیل', 'تابع', 'مهار', 'ریسک', 'پاسخگویی', 'نوبخت', 'میلیونی', 'محیطی', 'احتیاج', 'هم\\u200cزمان', 'حبیب', 'تغییراتی', 'گالری', 'رتبه\\u200cهای', 'مهارت', 'افتخار', 'عزیزان', 'کارگری', 'استعداد', 'بهره\\u200cوری', 'سیدمحمد', 'طباطبایی', 'تردد', 'دسترس', 'انجام\\u200cشده', 'کارت\\u200cهای', 'رویدادهای', 'فعالیت\\u200cها', 'بردن', 'تراز', 'سنجش', 'شناختی', 'مغز', 'فناوری\\u200cهای', 'دکتری', 'بنیان', 'جانبه', 'شهرام', '\\u200cملی', 'رسول', 'می\\u200cرسید', 'ریو', 'نتیجه\\u200c', 'کشتی\\u200cگیر', 'فرو', 'دهنده', 'کرسی', 'فدراسیون\\u200cها', 'تنیس', 'معلولان', 'جاکارتا', 'کلاس', 'سنگاپور', 'بختیاری', 'امیرحسین', 'سرمربیگری', 'طالبان', 'وعده', 'شهرها', 'امن', 'اصغر', 'پالایش', 'تالیف', 'ترجمه', 'عمران', 'تسنیم', 'وین', 'جزئی', 'متقابل', 'تشدید', 'جنوب', 'میادین', 'یادشده', 'استناد', 'دائم', 'صنف', 'سوابق', 'پرتاب', 'نسل', 'بازدهی', 'مردادماه', 'پاییز', 'جابه\\u200cجایی', 'پایین\\u200cتر', 'سازندگان', 'حامد', 'دفاتر', 'مهاجرت', 'خوردن', 'اردوها', 'پوش', 'ساحلی', 'نمی\\u200cخواهد', 'عقب', 'موضوعاتی', 'ششمین', 'دریای', 'نیروگاه', 'حمل\\u200cونقل', 'روس', 'فولادی', 'جامعه\\u200cای', 'قاسم', 'ماشین\\u200cسازی', 'گذاشتیم', 'خرج', 'بازی\\u200cها', 'آوردیم', 'رفتیم', 'مدعیان', 'بازیکنانی', 'روحی', 'کنگره', 'نظم', 'ایفای', 'نبرد', 'اتصال', 'امیر', 'ناشر', 'مطبوعاتی', 'تماشاگر', 'آنجایی', 'اهواز', 'بیانگر', 'دریافتی', 'بهار', 'خردادماه', 'خرداد', 'به\\u200cمنظور', 'اساسنامه', 'جدیدترین', 'مرتضوی', 'میعانات', 'گازی', 'بخشنامه', 'بدهی', 'سودآوری', 'بازنشستگان', 'مترمکعب', 'سوخت', 'کوروش', 'نمایش\\u200cهای', 'منتخب', 'فرانک', 'نشست\\u200cهای', 'اقلیم', 'مهمان', 'نویسندگی', 'برج', 'همسرش', 'گیرند', 'نشسته', 'شتاب', 'مزیت', 'منتقدان', 'روسای', 'صحبت\\u200cهایی', 'هیچ\\u200cوقت', 'گویا', 'دوی', 'حدادی', 'ترمیم', 'داوطلبان', 'آزمون', 'خواند', 'امینی', 'الملل', 'مسعود', 'برپایی', 'مذاکره\\u200cکننده', 'گذاشتن', 'روسی', '\\u200cاست', 'برگزیده', 'مرتبه', 'مبادله', 'می\\u200cخواست', 'صادق', 'فرقی', 'آسیای', 'خزر', 'حرف\\u200cها', 'راحت\\u200cتر', 'یک\\u200cسری', 'حزبی', 'نامزدی', 'قرضی', 'غافل', 'بازنده', 'حلقه', 'سایپا', 'البرز', 'راه\\u200cآهن', 'هوشنگ', 'تاج', 'ملوان', 'قایقرانی', 'درمانی', 'بیماری\\u200cهای', 'خلق', 'باستانی', 'سرزمین', 'حکمت', 'قرن', 'شیر', 'مکرر', 'کرج', 'سال\\u200cجاری', 'کسب\\u200cوکار', 'سطحی', 'بااین\\u200cحال', 'بنگاه\\u200cهای', 'خوراک', 'اردوغان', 'پول\\u200cهای', 'این\\u200cبار', 'بازگردد', 'مقام\\u200cهای', 'عادت', 'اسماعیل', 'حزب\\u200cالله', 'پرده', 'بکشد', 'شعارهای', 'مجموعه\\u200cای', 'غلامی', 'دهه\\u200cهای', 'حیات', 'انسان\\u200cها', 'رویارویی', 'غلامحسین', 'برنامه\\u200cهایی', 'شعب', 'آماری', 'ویتنام', 'انصراف', 'بزرگ\\u200cتر', 'فرهاد', 'شده\\u200c', 'حادثه', 'تجربیات', 'مفاد', 'تسلیم', 'جانشین', 'مدرس', 'نظیر', 'واکسن', 'سمنان', 'دانش\\u200cآموزان', 'مطالعات', 'آموزش\\u200cهای', 'قدس', 'جلالی', 'کارکرد', 'شهروندی', 'قیمت\\u200cگذاری', 'رحمانی', 'تجار', 'بازاریابی', 'شهرستان\\u200cها', 'ثبت\\u200cنام', 'ایتالیایی', 'بستری', 'سیگار', 'شیمیایی', 'ارتقاء', 'زعفران', 'عمق', 'تهیه\\u200cکنندگی', 'نداشتم', 'بگیرم', 'داری', 'اخباری', 'توهین', 'لطف', 'نعمت', 'یادآوری', 'مشکوک', 'سیاه', 'فروشنده', 'ماموران', 'معترض', 'ببینند', 'آکادمی', 'فرشاد', 'نور', 'ترکمنستان', 'جعفری', 'آن\\u200cهم', 'پالایشگاه', 'صف', 'ژاپنی', 'چک', 'امثال', 'مهم\\u200cتر', 'بندر', 'ازدواج', 'تلفیق', 'گیران', 'روابط\\u200cعمومی', 'هیئت\\u200cمدیره', 'یارانه\\u200cها', 'بوندسلیگا', 'آلمانی', 'الکساندر', 'نوری', 'حساس\\u200cترین', 'دورتموند', 'عظیمی', 'بازگشایی', 'پرچم', 'همانند', 'یوسف', 'مبتلا', 'تشکل\\u200cهای', 'تجمع', 'بنگاه', 'کاشان', 'صربستان', 'حیدری', 'تعاونی\\u200cها', 'ادغام', 'چابهار', 'ضمانت', 'مکلف', 'پنجره', 'مرزی', 'مولد', 'ترانزیت', 'امتیازات', 'ساختن', 'ابزاری', 'غیره', 'گل\\u200cگهر', 'دروازه\\u200cبان', 'مهرداد', 'جم', 'بان', 'کالدرون', 'نیمکت', 'نشین', 'داوود', 'هشتمین', 'هفتمین', 'اوت', 'آذرماه', 'شاعر', 'تولد', 'تلفن', 'شعرهای', 'لوح', 'نمره', 'قبولی', 'خودی', 'موج', 'قرنطینه', 'نمایشگاهی', 'اسلحه', 'ملی\\u200cپوشان', 'المپیکی', 'هنگ', 'ملی\\u200cپوش', 'گودرزی', 'رمان', 'می\\u200cزد', 'جنبه\\u200cهای', 'قتل', 'دفع', 'نایب\\u200cرئیس', 'استدلال', 'موسوی', 'بلژیکی', 'رختکن', 'جانبازان', 'استانداری', 'استعدادهای', 'گل\\u200cمحمدی', 'ماهی', 'رحمتی', 'بهنام', 'زیبای', 'ریلی', 'سوئد', 'مسوولیت', 'علامه', 'ارومیه', 'عازم', 'مالزی', 'تعهد', 'امتحان', '\\u200cایسنا', 'ادامه\\u200c', 'جواز', 'ابهامات', 'روانه', 'فرا', 'اردبیل', 'تجربی', 'رده\\u200cهای', 'واجد', 'پوشان', 'می\\u200cتوانم', 'دوچرخه', 'سواری', 'پیست', 'کاپ', 'درد', 'کیلومتر', 'دایی', 'شجاع', 'خلیل', 'سیامک', 'نعمتی', 'علیپور', 'منچستر', 'سیتی', 'اثری', 'نهمین', 'علیرغم', 'ابزار', 'سیاست\\u200cها', 'امروزه', 'جمع\\u200cآوری', 'بامداد', 'تمرینی', 'تیتر', 'سرباز', 'جوانی', 'حین', 'فلسطین', 'نمی\\u200cآید', 'نامزدها', 'نارضایتی', 'هرکسی', 'هرکس', 'بکند', 'بیش\\u200cتر', 'هدفمندی', 'جوامع', 'الله', 'تجسمی', 'مجتمع', 'زلزله', 'سالهای', 'مکانی', 'خرمشهر', 'متنوع', 'عکس\\u200cهای', 'فرم', 'هجدهم', 'قلعه', 'شانزدهم', 'چهاردهم', 'احتساب', 'خالص', 'سرمایه\\u200cای', 'موردی', 'بن', 'مدرسه', 'خویش', 'س', 'قاره', 'گرت', 'مارکا', 'پوگبا', 'بسکتبال', 'لالیگا', 'قراردادش', 'معاونان', 'آنقدر', 'شایان', 'دوپینگ', 'مسافر', 'غذا', 'وسایل', 'می\\u200cنویسد', 'معین', 'بخواهم', 'سرد', 'استیضاح', 'نصف', 'نامش', 'تهرانی', 'استانبول', 'هادی', 'حفاری', 'سینا', 'رجایی', 'منظم', 'ناوگان', 'موقعیتی', 'آرمان', 'درعین\\u200cحال', 'آقایی', 'بچه', 'بهروز', 'درس', 'تو', 'کن', 'کنی', 'نگرفت', 'نکونام', 'قلعه\\u200cنویی', 'سلامتی', 'نیم\\u200cفصل', 'خودروساز', 'همایون', 'شجریان', 'سجادی', 'ترافیک', 'فشرده', 'کمدی', 'زنگ', 'طنز', 'انیمیشن', 'سیاوش', 'بدنی', 'بدهی\\u200cهای', 'ازسوی', 'مگاوات', 'خطی', 'برقی', 'بیت', 'اطلاعیه', 'دیجیتال', 'فرماندهی', 'اردن', 'الاهلی', 'کاروان', 'دوبی', 'فارابی', 'اسکار', 'نکردم', 'آرسنال', 'نتوانستیم', 'بازیکنانم', 'مردان', 'مایل', 'عام', 'صوتی', 'مرادی', 'فتنه', 'یاران', 'مکتب', 'آزادراه', 'استرس', 'تکنیک', 'سویا', 'مدافعان', 'اوست', 'رویای', 'فرآورده\\u200cهای', 'فن', 'سرخیو', 'راموس', 'سرشناس', 'منچستریونایتد', 'کمپانی', 'اینتر', 'یووه', 'سرپرستی', 'آندره', 'یوفا', 'کیهان', 'معوق', 'چمن', 'شجاعی', 'انداخت', 'دهمین', 'رفیعی', 'تالار', 'پروین', 'مظاهری', 'سوت', 'هلند', 'تورنمنت', 'تکواندو', 'پنجمین', 'صورت\\u200cهای', 'اختلال', 'شهریار', 'جیمز', 'پوستر', 'پروتکل\\u200cهای', 'پوشاک', 'مغلوب', 'کیفری', 'دوومیدانی', 'هلندی', 'دریاچه', 'خورشید', 'آب\\u200cهای', 'پرتغالی', 'زحمت', 'کنسرت', 'خواننده', 'در\\u200cحالی\\u200cکه', 'آلبوم', 'رم', 'متولد', 'پسر', 'پدرش', 'پاسداران', 'تیم\\u200cهایی', 'العاده\\u200cای', 'والنسیا', 'پورتو', 'تصویری', 'دانشمندان', 'دستگیر', 'دروغ', 'لوله', 'زندانیان', 'باتجربه', 'رغم', 'کره\\u200cجنوبی', 'آثارش', 'شهردار', 'دوربین', 'توفیق', 'سیستان', 'بلوچستان', 'سوار', 'پیامدهای', 'متصل', 'زنجان', 'اسکوچیچ', 'عادل', 'نقاشی', 'واقعه', 'گلزن', 'نوزدهم', 'رشته\\u200cها', 'نداشتن', 'صالح', 'نخستین\\u200cبار', 'سومی', 'هری', 'کین', 'نفره', 'یونایتد', 'ووشو', 'بدنسازی', 'اهدای', 'افشین', 'لرستان', 'مجیدی', 'خورشیدی', 'اشکان', 'دیشب', 'ر', 'شناور', 'مزد', 'حسابی', 'روغن', 'تماشایی', 'استراماچونی', 'میثم', 'سلیمی', 'زیبایی', 'بدن', 'کرنر', 'ضرب', 'ساری', 'خشک', 'علمیه', 'باد', 'نود', 'عرفان', 'کارگاه', 'شاعران', 'ستایش', 'اراضی', 'اینک', 'افتخاری', 'قضا', 'فرهنگستان', 'سهراب', 'فیلمنامه', 'گرگان', 'کاوه', 'مترجم', 'مقدم', 'دراین', 'شمس', 'غفوری', 'ایلام', 'عیسی', 'جرائم', 'شاگردانش', 'بدست', 'سیمرغ', 'قرعه', 'شور', 'پیشنهادات', 'روستای', 'بررسی\\u200cها', 'ادب', 'انحصار', 'تعقیب', '\\u200cهزار', 'توییتر', 'هوای', 'رفتاری', 'توماس', 'گفت\\u200c', 'جراحی', 'سلیمان', 'جمشید', 'فدراسیون\\u200cهای', 'شنا', 'سجاد', 'طاهری', 'شفر', 'پپ', 'گواردیولا', 'مسلمانان', 'موسی', 'عبارتند', 'می\\u200cسازد', 'دارنده', 'عاشورا', 'وریا', 'ارکستر', 'یازده', 'توکیو', 'هرمزگان', 'ستاره\\u200cهای', 'اعتدال', 'طراح', 'کردی', 'وقایع', 'مبارز', 'امداد', 'منصوریان', 'شهرخودرو', 'جنبش', 'شاخه', 'مدار', 'فوریه', 'شناسی', 'هازارد', 'چلسی', 'فاتح', 'السد', 'النصر', 'ملکی', 'مترو', 'کشتی\\u200cگیران', 'هفته\\u200c', 'کاظمی', 'خسرو', 'اعظم', 'کسر', 'تایپه', 'جهانبخش', 'زنی', 'تیم\\u200c', 'پارالمپیک', 'فروند', 'تختی', 'بندرعباس', 'دریا', 'جنگل', 'داستان\\u200cهای', 'گانه', 'نیمه\\u200cنهایی', 'منچسترسیتی', 'ناکام', 'غدیر', 'سوپر', 'سرخ', 'دیدنی', 'بهترین\\u200cهای', 'پزشک', 'سرطان', 'فیلیپین', 'ارسلان', 'حاتمی', 'شهاب', 'وزنه\\u200cبرداری', 'رانندگی', 'خلاقیت', 'ناپولی', 'اردوهای', 'بهرامی', 'بانوی', 'مخابرات', 'ساکنان', 'کفاشیان', 'کوتینیو', 'اتوبوس', 'سعدی', 'پژمان', 'کوچه', 'اورتون', 'توانستم', 'بانکداری', 'اینچئون', 'کیانوش', 'خانوارها', 'جاده\\u200cای', 'کاراته', 'شهروند', 'سلمان', 'لحظات', 'دام', 'کیارستمی', 'اوزان', 'افزودند', 'مجارستان', 'جام\\u200cجهانی', 'بازیکنانش', 'الدحیل', 'سروش', 'اتلتیکو', 'نوکمپ', 'دیگو', 'گریزمان', 'نوبل', 'مبارکه', 'مرا', 'دانمارک', 'کیلو', 'یونسکو', 'ارتفاع', 'العین', 'ستارگان', 'تیم\\u200cملی', 'جسمانی', 'مهدوی', 'ژیمناستیک', 'الهلال', 'شعری', 'کفش', 'میوه', 'اشعار', 'ورامین', 'پهلوانی', 'بازیهای', 'سولسشر', 'طارمی', 'آنتونیو', 'باران', 'مکعب', 'جودو', 'کونته', 'شهرت', 'شاهنامه', 'اسکی', 'مهرام', 'آواز', 'غزه', 'مولانا', 'سارا', 'کوارتر', 'باستان', 'برایتون']\n",
            "number of unique tokens: 4826\n"
          ]
        }
      ],
      "source": [
        "train_df_exploded = train_df.explode('tokens')\n",
        "unique_tokens = train_df_exploded['tokens'].unique()\n",
        "number_of_unique_tokens = unique_tokens.size\n",
        "print(unique_tokens.tolist())\n",
        "print(\"number of unique tokens: \" + str(number_of_unique_tokens))"
      ]
    },
    {
      "attachments": {},
      "cell_type": "markdown",
      "metadata": {
        "id": "xI9kbGYql-WU"
      },
      "source": [
        "Count the number of the occurences of each token in each document. This way, you can make a numpy array to represent each document. Call this new array `x_train`. (10 points)\n",
        "\n",
        "Example:\n",
        "\n",
        "Unique tokens in all documents: \n",
        "```\n",
        "0: hen\n",
        "1: sometimes\n",
        "2: a\n",
        "3: the\n",
        "4: dog\n",
        "5: runs\n",
        "6: faster\n",
        "7: than\n",
        "8: cat\n",
        "9: bird\n",
        "```\n",
        "\n",
        "Current Document: `sometimes a dog runs faster than a cat`\n",
        "\n",
        "The representation of the document:\n",
        "\n",
        "```\n",
        "[0, 1, 2, 0, 1, 1, 1, 1, 1, 0]\n",
        "```\n",
        "\n",
        "The meaning of this representation:\n",
        "\n",
        "```\n",
        "0: the document doesn't contain \"hen\"\n",
        "1: the document contains 1 \"sometimes\"\n",
        "2: the document contains 2 \"a\"\n",
        "0: the document doesn't contain \"the\"\n",
        "1: the document contains 1 \"dog\"\n",
        "1: the document contains 1 \"runs\"\n",
        "1: the document contains 1 \"faster\"\n",
        "1: the document contains 1 \"than\"\n",
        "1: the document contains 1 \"cat\"\n",
        "0: the document doesn't contain \"bird\"\n",
        "``` "
      ]
    },
    {
      "cell_type": "code",
      "execution_count": 10,
      "metadata": {
        "colab": {
          "base_uri": "https://localhost:8080/"
        },
        "id": "0N4KRUbCSqeu",
        "outputId": "31c1c1ab-49d4-40ac-9624-f92455834626"
      },
      "outputs": [
        {
          "data": {
            "text/plain": [
              "array([[1, 1, 1, ..., 0, 0, 0],\n",
              "       [1, 1, 1, ..., 0, 0, 0],\n",
              "       [0, 0, 0, ..., 0, 0, 0],\n",
              "       ...,\n",
              "       [1, 1, 3, ..., 0, 0, 1],\n",
              "       [0, 0, 3, ..., 0, 0, 0],\n",
              "       [3, 0, 0, ..., 0, 0, 0]])"
            ]
          },
          "execution_count": 10,
          "metadata": {},
          "output_type": "execute_result"
        }
      ],
      "source": [
        "vectorizer = CountVectorizer(vocabulary=unique_tokens)\n",
        "term_doc_matrix = vectorizer.fit_transform(train_df['text'])\n",
        "x_train = term_doc_matrix.toarray()\n",
        "x_train"
      ]
    },
    {
      "cell_type": "code",
      "execution_count": null,
      "metadata": {
        "id": "Ulbf2Eqrpw5v"
      },
      "outputs": [],
      "source": [
        "###Custom solution to this problem adding a new column to the datafram\n",
        "\n",
        "# from collections import Counter\n",
        "\n",
        "# # def count_occurrences(lst):\n",
        "# #     return {i: lst.count(i) for i in lst}\n",
        "\n",
        "# train_df['occ'] = train_df['tokens'].apply(lambda x: dict(Counter(x)))\n",
        "\n",
        "\n",
        "# train_df['x_train'] = train_df['occ'].apply(lambda x: [x.get(token, 0) for token in unique_tokens])\n",
        "# # df = df.drop(['new_col_1', ], axis=1, errors='ignore')\n",
        "# train_df = train_df.drop('occ', axis=1)\n",
        "# train_df"
      ]
    },
    {
      "cell_type": "code",
      "execution_count": null,
      "metadata": {
        "id": "VvMON4kmx7Bd"
      },
      "outputs": [],
      "source": [
        "#Check the sanity of our solution\n",
        "# for token in unique_tokens[:10]:\n",
        "#   print(token)\n",
        "# Counter(train_df.at[165543, 'tokens'])"
      ]
    },
    {
      "attachments": {},
      "cell_type": "markdown",
      "metadata": {
        "id": "NXeW76p2pjnc"
      },
      "source": [
        "Make another numpy array by converting the topics associated with the training news to numbers. For instance, if the topics are: `sports`, `economics`, `politics`, and `cultural`, convert them to `0` to `3`. Call this new array `y_train`. (5 points)"
      ]
    },
    {
      "cell_type": "code",
      "execution_count": 11,
      "metadata": {
        "id": "wV5zeofEF3Nn"
      },
      "outputs": [
        {
          "data": {
            "text/plain": [
              "array([3, 3, 2, ..., 3, 2, 1])"
            ]
          },
          "execution_count": 11,
          "metadata": {},
          "output_type": "execute_result"
        }
      ],
      "source": [
        "encoder = LabelEncoder()\n",
        "y_train = encoder.fit_transform(train_df['topic'])\n",
        "y_train"
      ]
    },
    {
      "cell_type": "code",
      "execution_count": 11,
      "metadata": {
        "colab": {
          "base_uri": "https://localhost:8080/"
        },
        "id": "Em3RphciTGQk",
        "outputId": "8c4b5237-b2ee-493b-bd03-73f3ef6d3655"
      },
      "outputs": [
        {
          "data": {
            "text/plain": [
              "array([3, 3, 2, ..., 3, 2, 1])"
            ]
          },
          "execution_count": 11,
          "metadata": {},
          "output_type": "execute_result"
        }
      ],
      "source": [
        "#Another way with pandas factorize\n",
        "# train_df['y_train'] = pd.factorize(train_df['topic'])[0]\n",
        "# train_df\n",
        "# x_train = train_df['x_train'].values\n",
        "# y_train = train_df['y_train'].values\n",
        "# x_train.size"
      ]
    },
    {
      "attachments": {},
      "cell_type": "markdown",
      "metadata": {
        "id": "lew_jlNPqhPb"
      },
      "source": [
        "Using the unique tokens you found in the training news, represent the testing news as another numpy array called `x_test`. (5 points)\n",
        "\n",
        "Note: Do not forget to remove stopwords and the `#` token."
      ]
    },
    {
      "cell_type": "code",
      "execution_count": 12,
      "metadata": {
        "id": "XojKDf8vlGLU"
      },
      "outputs": [],
      "source": [
        "###preprocess test data\n",
        "#tokenize\n",
        "test_df['tokens'] = test_df['text'].str.strip().str.split(' ')\n",
        "#remove stopwords from text\n",
        "test_df['text'] = test_df['text'].apply(lambda x: ' '.join([word for word in x.split() if word not in stopwords]))\n",
        "#remove stopwords from tokens\n",
        "test_df['tokens'] = test_df['tokens'].apply(lambda x: [word for word in x if word not in stopwords])"
      ]
    },
    {
      "cell_type": "code",
      "execution_count": 13,
      "metadata": {
        "colab": {
          "base_uri": "https://localhost:8080/"
        },
        "id": "RIy2qMABrQcy",
        "outputId": "879b5139-a565-49a8-fbbb-958f7b1c3576"
      },
      "outputs": [
        {
          "data": {
            "text/plain": [
              "array([[0, 0, 0, ..., 0, 0, 0],\n",
              "       [1, 0, 1, ..., 0, 0, 0],\n",
              "       [1, 0, 0, ..., 0, 0, 0],\n",
              "       ...,\n",
              "       [0, 1, 0, ..., 0, 0, 0],\n",
              "       [1, 0, 0, ..., 0, 0, 0],\n",
              "       [1, 0, 0, ..., 0, 0, 0]])"
            ]
          },
          "execution_count": 13,
          "metadata": {},
          "output_type": "execute_result"
        }
      ],
      "source": [
        "vectorizer = CountVectorizer(vocabulary=unique_tokens)\n",
        "term_doc_matrix = vectorizer.fit_transform(test_df['text'])\n",
        "x_test = term_doc_matrix.toarray()\n",
        "x_test"
      ]
    },
    {
      "attachments": {},
      "cell_type": "markdown",
      "metadata": {
        "id": "QWIRhxS_rX7M"
      },
      "source": [
        "Convert the topics associated with the testing news to their equivalent numbers (as before), and save the result as a numpy array called `y_test`. (5 points)"
      ]
    },
    {
      "cell_type": "code",
      "execution_count": null,
      "metadata": {},
      "outputs": [],
      "source": [
        "###generate x_test(custom)\n",
        "# test_df['occ'] = test_df['tokens'].apply(lambda x: dict(Counter(x)))\n",
        "# test_df['x_test'] = test_df['occ'].apply(lambda x: [x.get(token, 0) for token in unique_tokens])\n",
        "# test_df = test_df.drop('occ', axis=1)\n",
        "# test_df\n",
        "\n",
        "#iterate through rows and add x_train\n",
        "# default_list = [0] * number_of_unique_tokens\n",
        "# test_df['x_test'] = pd.Series([list(default_list) for x in range(len(df.index))])\n",
        "# for index, row in test_df.iterrows():\n",
        "#     # row['x_train'] = [0] * number_of_unique_tokens\n",
        "#     token_occurences = dict(Counter(row['tokens']))\n",
        "#     for token, occ in token_occurences.items():\n",
        "#       tokens_idx = mapping_token_to_index[token]\n",
        "#       row['x_test'][tokens_idx] = occ\n",
        "# test_df"
      ]
    },
    {
      "cell_type": "code",
      "execution_count": 14,
      "metadata": {
        "colab": {
          "base_uri": "https://localhost:8080/"
        },
        "id": "T0tXlWRHrWUI",
        "outputId": "c50ed69b-a0b5-4d7a-ec0b-84acbe4f1c70"
      },
      "outputs": [
        {
          "data": {
            "text/plain": [
              "array([0, 0, 0, ..., 3, 3, 3])"
            ]
          },
          "execution_count": 14,
          "metadata": {},
          "output_type": "execute_result"
        }
      ],
      "source": [
        "encoder = LabelEncoder()\n",
        "y_test = encoder.fit_transform(test_df['topic'])\n",
        "y_test"
      ]
    },
    {
      "cell_type": "code",
      "execution_count": 63,
      "metadata": {
        "id": "KlzmdwHnJ4yp"
      },
      "outputs": [],
      "source": [
        "###Turning columns into numpy arrays (in the custom solution)\n",
        "# x_test = test_df['x_test'].values\n",
        "# y_test = test_df['y_test'].values\n",
        "# x_test.size"
      ]
    },
    {
      "attachments": {},
      "cell_type": "markdown",
      "metadata": {
        "id": "LQdf4UuQrvme"
      },
      "source": [
        "# Model Training and Evaluation"
      ]
    },
    {
      "attachments": {},
      "cell_type": "markdown",
      "metadata": {
        "id": "MwkWJbTEsoWy"
      },
      "source": [
        "## Using sklearn (10 points)"
      ]
    },
    {
      "attachments": {},
      "cell_type": "markdown",
      "metadata": {
        "id": "sGcrjKBgr1uL"
      },
      "source": [
        "Train a Multinomial Naive Bayes Model on the training news (`x_train` and `y_train`) using `sklearn`."
      ]
    },
    {
      "cell_type": "code",
      "execution_count": 15,
      "metadata": {
        "colab": {
          "base_uri": "https://localhost:8080/",
          "height": 75
        },
        "id": "yJTD0NB7rW2P",
        "outputId": "ce91661c-9889-4992-8309-8c4170e70b6c"
      },
      "outputs": [
        {
          "data": {
            "text/html": [
              "<style>#sk-container-id-1 {color: black;background-color: white;}#sk-container-id-1 pre{padding: 0;}#sk-container-id-1 div.sk-toggleable {background-color: white;}#sk-container-id-1 label.sk-toggleable__label {cursor: pointer;display: block;width: 100%;margin-bottom: 0;padding: 0.3em;box-sizing: border-box;text-align: center;}#sk-container-id-1 label.sk-toggleable__label-arrow:before {content: \"▸\";float: left;margin-right: 0.25em;color: #696969;}#sk-container-id-1 label.sk-toggleable__label-arrow:hover:before {color: black;}#sk-container-id-1 div.sk-estimator:hover label.sk-toggleable__label-arrow:before {color: black;}#sk-container-id-1 div.sk-toggleable__content {max-height: 0;max-width: 0;overflow: hidden;text-align: left;background-color: #f0f8ff;}#sk-container-id-1 div.sk-toggleable__content pre {margin: 0.2em;color: black;border-radius: 0.25em;background-color: #f0f8ff;}#sk-container-id-1 input.sk-toggleable__control:checked~div.sk-toggleable__content {max-height: 200px;max-width: 100%;overflow: auto;}#sk-container-id-1 input.sk-toggleable__control:checked~label.sk-toggleable__label-arrow:before {content: \"▾\";}#sk-container-id-1 div.sk-estimator input.sk-toggleable__control:checked~label.sk-toggleable__label {background-color: #d4ebff;}#sk-container-id-1 div.sk-label input.sk-toggleable__control:checked~label.sk-toggleable__label {background-color: #d4ebff;}#sk-container-id-1 input.sk-hidden--visually {border: 0;clip: rect(1px 1px 1px 1px);clip: rect(1px, 1px, 1px, 1px);height: 1px;margin: -1px;overflow: hidden;padding: 0;position: absolute;width: 1px;}#sk-container-id-1 div.sk-estimator {font-family: monospace;background-color: #f0f8ff;border: 1px dotted black;border-radius: 0.25em;box-sizing: border-box;margin-bottom: 0.5em;}#sk-container-id-1 div.sk-estimator:hover {background-color: #d4ebff;}#sk-container-id-1 div.sk-parallel-item::after {content: \"\";width: 100%;border-bottom: 1px solid gray;flex-grow: 1;}#sk-container-id-1 div.sk-label:hover label.sk-toggleable__label {background-color: #d4ebff;}#sk-container-id-1 div.sk-serial::before {content: \"\";position: absolute;border-left: 1px solid gray;box-sizing: border-box;top: 0;bottom: 0;left: 50%;z-index: 0;}#sk-container-id-1 div.sk-serial {display: flex;flex-direction: column;align-items: center;background-color: white;padding-right: 0.2em;padding-left: 0.2em;position: relative;}#sk-container-id-1 div.sk-item {position: relative;z-index: 1;}#sk-container-id-1 div.sk-parallel {display: flex;align-items: stretch;justify-content: center;background-color: white;position: relative;}#sk-container-id-1 div.sk-item::before, #sk-container-id-1 div.sk-parallel-item::before {content: \"\";position: absolute;border-left: 1px solid gray;box-sizing: border-box;top: 0;bottom: 0;left: 50%;z-index: -1;}#sk-container-id-1 div.sk-parallel-item {display: flex;flex-direction: column;z-index: 1;position: relative;background-color: white;}#sk-container-id-1 div.sk-parallel-item:first-child::after {align-self: flex-end;width: 50%;}#sk-container-id-1 div.sk-parallel-item:last-child::after {align-self: flex-start;width: 50%;}#sk-container-id-1 div.sk-parallel-item:only-child::after {width: 0;}#sk-container-id-1 div.sk-dashed-wrapped {border: 1px dashed gray;margin: 0 0.4em 0.5em 0.4em;box-sizing: border-box;padding-bottom: 0.4em;background-color: white;}#sk-container-id-1 div.sk-label label {font-family: monospace;font-weight: bold;display: inline-block;line-height: 1.2em;}#sk-container-id-1 div.sk-label-container {text-align: center;}#sk-container-id-1 div.sk-container {/* jupyter's `normalize.less` sets `[hidden] { display: none; }` but bootstrap.min.css set `[hidden] { display: none !important; }` so we also need the `!important` here to be able to override the default hidden behavior on the sphinx rendered scikit-learn.org. See: https://github.com/scikit-learn/scikit-learn/issues/21755 */display: inline-block !important;position: relative;}#sk-container-id-1 div.sk-text-repr-fallback {display: none;}</style><div id=\"sk-container-id-1\" class=\"sk-top-container\"><div class=\"sk-text-repr-fallback\"><pre>MultinomialNB(force_alpha=True)</pre><b>In a Jupyter environment, please rerun this cell to show the HTML representation or trust the notebook. <br />On GitHub, the HTML representation is unable to render, please try loading this page with nbviewer.org.</b></div><div class=\"sk-container\" hidden><div class=\"sk-item\"><div class=\"sk-estimator sk-toggleable\"><input class=\"sk-toggleable__control sk-hidden--visually\" id=\"sk-estimator-id-1\" type=\"checkbox\" checked><label for=\"sk-estimator-id-1\" class=\"sk-toggleable__label sk-toggleable__label-arrow\">MultinomialNB</label><div class=\"sk-toggleable__content\"><pre>MultinomialNB(force_alpha=True)</pre></div></div></div></div></div>"
            ],
            "text/plain": [
              "MultinomialNB(force_alpha=True)"
            ]
          },
          "execution_count": 15,
          "metadata": {},
          "output_type": "execute_result"
        }
      ],
      "source": [
        "clf = MultinomialNB(force_alpha=True)\n",
        "clf.fit(x_train, y_train)"
      ]
    },
    {
      "attachments": {},
      "cell_type": "markdown",
      "metadata": {
        "id": "OeFDzw61sCna"
      },
      "source": [
        "Get the predictions of the model for the testing news (`x_test`)."
      ]
    },
    {
      "cell_type": "code",
      "execution_count": 16,
      "metadata": {
        "colab": {
          "base_uri": "https://localhost:8080/"
        },
        "id": "f0KP-84CsCJX",
        "outputId": "a15842ca-49f4-439f-8654-fc6b25c0945a"
      },
      "outputs": [
        {
          "data": {
            "text/plain": [
              "array([0, 0, 0, ..., 3, 3, 3])"
            ]
          },
          "execution_count": 16,
          "metadata": {},
          "output_type": "execute_result"
        }
      ],
      "source": [
        "sklearn_predictions = clf.predict(x_test)\n",
        "sklearn_predictions"
      ]
    },
    {
      "attachments": {},
      "cell_type": "markdown",
      "metadata": {
        "id": "G1KAXbhJsb5o"
      },
      "source": [
        "Print the classification report containing \"precision\", \"recall\", and \"f1-score\" for each class, and their averages. (you can use `sklearn` for this part)"
      ]
    },
    {
      "cell_type": "code",
      "execution_count": 17,
      "metadata": {
        "colab": {
          "base_uri": "https://localhost:8080/"
        },
        "id": "1fLYOmgMsWns",
        "outputId": "58c376b3-5cdc-4b16-afce-1ccd26677ef7"
      },
      "outputs": [
        {
          "name": "stdout",
          "output_type": "stream",
          "text": [
            "              precision    recall  f1-score   support\n",
            "\n",
            "           0       0.94      0.96      0.95      2246\n",
            "           1       0.91      0.94      0.93      2198\n",
            "           2       0.95      0.91      0.93      2280\n",
            "           3       0.99      0.98      0.99      2314\n",
            "\n",
            "    accuracy                           0.95      9038\n",
            "   macro avg       0.95      0.95      0.95      9038\n",
            "weighted avg       0.95      0.95      0.95      9038\n",
            "\n"
          ]
        }
      ],
      "source": [
        "print(classification_report(y_test, sklearn_predictions))"
      ]
    },
    {
      "attachments": {},
      "cell_type": "markdown",
      "metadata": {
        "id": "dM7sjbu6stRn"
      },
      "source": [
        "## Using your own code (15 points)"
      ]
    },
    {
      "cell_type": "code",
      "execution_count": 84,
      "metadata": {
        "id": "LgTbqyNwsZ5U"
      },
      "outputs": [],
      "source": [
        "#We use gaussian naive bayes\n",
        "import math\n",
        "class Naive_Bayes:\n",
        "    \"\"\"\n",
        "    Fits it on data, then uses predict to get results.\n",
        "    \"\"\"\n",
        "\n",
        "    def __init__(self):\n",
        "        \"\"\"\n",
        "        YOUR CODE (IF NECESSARY)\n",
        "        \"\"\"\n",
        "        self.classes = None\n",
        "        self.number_of_classes = None\n",
        "        self.priors = dict()\n",
        "        self.mean = dict()\n",
        "        self.var = dict()\n",
        "    \n",
        "    def fit(self, X, y):\n",
        "        \"\"\"Fit the training data\n",
        "        Parameters\n",
        "        ----------\n",
        "        x : array-like, shape = [n_samples, n_features]\n",
        "            Training samples\n",
        "        y : array-like, shape = [n_samples, n_target_values]\n",
        "            Target values\n",
        "        Returns\n",
        "        -------\n",
        "        self : object\n",
        "        \"\"\"\n",
        "\n",
        "        #calculate initial values\n",
        "        n_samples, n_features = X.shape\n",
        "        self.classes = np.unique(y)\n",
        "        self.number_of_classes = len(self.classes)\n",
        "        \n",
        "        for c in self.classes:\n",
        "            x_c = X[y == c]\n",
        "            self.priors[c] = x_c.shape[0] / float(n_samples)\n",
        "            self.mean[c] = x_c.mean(axis=0)\n",
        "            self.var[c] = x_c.var(axis=0)\n",
        "        \n",
        "        # self.mean = np.zeros((number_of_classes, n_features), dtype=np.float64)\n",
        "        # self.var = np.zeros((number_of_classes, n_features), dtype=np.float64)\n",
        "        # self.priors = np.zeros(number_of_classes, dtype=np.float64)\n",
        "        \n",
        "        # for idx, clss in enumerate(self.classes):\n",
        "        #   x_only_this_class = X[y == clss]\n",
        "        #   self.priors[idx] = x_only_this_class.shape[0] / float(n_samples)\n",
        "        #   self.var[idx, :] = x_only_this_class.var(axis=0)\n",
        "        #   self.mean[idx, :] = x_only_this_class.mean(axis=0)\n",
        "\n",
        "          \n",
        "        return self\n",
        "    \n",
        "    def normal_pdf(self, c, x):\n",
        "        eps = 1e-3\n",
        "        mean = self.mean[c]\n",
        "        var = self.var[c] + eps\n",
        "        numerator = np.exp(-((x - mean) ** 2) / (2 * var))\n",
        "        denominator = np.sqrt(2 * np.pi * var)\n",
        "        return numerator / denominator\n",
        "\n",
        "\n",
        "    def new_normale_pdf(self, mean, var, x):\n",
        "        eps = 1e-2 # Added in denominator to prevent division by zero\n",
        "        coeff = 1.0 / math.sqrt(2.0 * math.pi * var + eps)\n",
        "        exponent = math.exp(-(math.pow(x - mean, 2) / (2 * var + eps)))\n",
        "        return coeff * exponent\n",
        "\n",
        "    def classify(self, x):\n",
        "      posteriors = []\n",
        "      for c in self.classes:\n",
        "        prior = np.log(self.priors[c])\n",
        "        class_pdfs = np.sum(np.log(self.normal_pdf(c, x)))\n",
        "        posterior = prior + class_pdfs\n",
        "        posteriors.append(posterior)\n",
        "\n",
        "      return self.classes[np.argmax(posteriors)]\n",
        "\n",
        "\n",
        "    def predict(self, X):\n",
        "        \"\"\" Predicts the value after the model has been trained.\n",
        "        Parameters\n",
        "        ----------\n",
        "        x : array-like, shape = [n_samples, n_features]\n",
        "            Test samples\n",
        "        Returns\n",
        "        -------\n",
        "        Predicted value\n",
        "        \"\"\"\n",
        "        y_pred = [self.classify(x) for x in X]\n",
        "        \"\"\"\n",
        "        YOUR CODE\n",
        "        \"\"\"\n",
        "        return y_pred"
      ]
    },
    {
      "attachments": {},
      "cell_type": "markdown",
      "metadata": {
        "id": "ZYpwLACxtlFy"
      },
      "source": [
        "Train your own Multinomial Naive Bayes Model on the training news (`x_train` and `y_train`)."
      ]
    },
    {
      "cell_type": "code",
      "execution_count": 89,
      "metadata": {
        "colab": {
          "base_uri": "https://localhost:8080/"
        },
        "id": "QBnzQoqyIl-q",
        "outputId": "2bcac784-1697-462a-fa04-1acbc72bd243"
      },
      "outputs": [
        {
          "data": {
            "text/plain": [
              "<__main__.Naive_Bayes at 0x30f13fc90>"
            ]
          },
          "execution_count": 89,
          "metadata": {},
          "output_type": "execute_result"
        }
      ],
      "source": [
        "custom_model = Naive_Bayes()\n",
        "custom_model.fit(x_train, y_train)"
      ]
    },
    {
      "cell_type": "code",
      "execution_count": 46,
      "metadata": {},
      "outputs": [
        {
          "name": "stdout",
          "output_type": "stream",
          "text": [
            "<class 'numpy.ndarray'>\n"
          ]
        }
      ],
      "source": [
        "print(type(x_test))"
      ]
    },
    {
      "attachments": {},
      "cell_type": "markdown",
      "metadata": {
        "id": "pPSZVHBCtndS"
      },
      "source": [
        "Get the predictions of your model for the testing news (`x_test`)."
      ]
    },
    {
      "cell_type": "code",
      "execution_count": 90,
      "metadata": {
        "colab": {
          "base_uri": "https://localhost:8080/"
        },
        "id": "T7SMtuR0tskf",
        "outputId": "f2622f90-ffa9-4ed3-8003-dde8615711bf"
      },
      "outputs": [
        {
          "name": "stderr",
          "output_type": "stream",
          "text": [
            "/var/folders/26/r6cl1fqx2zz6066l4b3zd3_80000gn/T/ipykernel_86383/521459570.py:79: RuntimeWarning: divide by zero encountered in log\n",
            "  class_pdfs = np.sum(np.log(self.normal_pdf(c, x)))\n"
          ]
        },
        {
          "data": {
            "text/plain": [
              "[0,\n",
              " 0,\n",
              " 0,\n",
              " 0,\n",
              " 3,\n",
              " 0,\n",
              " 0,\n",
              " 0,\n",
              " 0,\n",
              " 0,\n",
              " 0,\n",
              " 0,\n",
              " 0,\n",
              " 0,\n",
              " 0,\n",
              " 0,\n",
              " 0,\n",
              " 0,\n",
              " 0,\n",
              " 0,\n",
              " 0,\n",
              " 0,\n",
              " 0,\n",
              " 1,\n",
              " 3,\n",
              " 0,\n",
              " 0,\n",
              " 0,\n",
              " 0,\n",
              " 0,\n",
              " 0,\n",
              " 0,\n",
              " 0,\n",
              " 0,\n",
              " 0,\n",
              " 0,\n",
              " 0,\n",
              " 0,\n",
              " 0,\n",
              " 0,\n",
              " 0,\n",
              " 0,\n",
              " 0,\n",
              " 0,\n",
              " 0,\n",
              " 0,\n",
              " 0,\n",
              " 0,\n",
              " 0,\n",
              " 0,\n",
              " 0,\n",
              " 0,\n",
              " 0,\n",
              " 2,\n",
              " 0,\n",
              " 0,\n",
              " 0,\n",
              " 0,\n",
              " 0,\n",
              " 0,\n",
              " 3,\n",
              " 0,\n",
              " 0,\n",
              " 0,\n",
              " 0,\n",
              " 0,\n",
              " 0,\n",
              " 0,\n",
              " 0,\n",
              " 0,\n",
              " 0,\n",
              " 0,\n",
              " 0,\n",
              " 0,\n",
              " 0,\n",
              " 0,\n",
              " 0,\n",
              " 2,\n",
              " 0,\n",
              " 0,\n",
              " 0,\n",
              " 0,\n",
              " 0,\n",
              " 0,\n",
              " 0,\n",
              " 0,\n",
              " 0,\n",
              " 0,\n",
              " 0,\n",
              " 0,\n",
              " 0,\n",
              " 0,\n",
              " 0,\n",
              " 0,\n",
              " 0,\n",
              " 0,\n",
              " 0,\n",
              " 0,\n",
              " 0,\n",
              " 0,\n",
              " 2,\n",
              " 0,\n",
              " 0,\n",
              " 0,\n",
              " 0,\n",
              " 0,\n",
              " 0,\n",
              " 0,\n",
              " 0,\n",
              " 0,\n",
              " 0,\n",
              " 0,\n",
              " 0,\n",
              " 0,\n",
              " 0,\n",
              " 0,\n",
              " 0,\n",
              " 0,\n",
              " 0,\n",
              " 0,\n",
              " 0,\n",
              " 0,\n",
              " 1,\n",
              " 0,\n",
              " 0,\n",
              " 0,\n",
              " 0,\n",
              " 2,\n",
              " 0,\n",
              " 0,\n",
              " 0,\n",
              " 0,\n",
              " 0,\n",
              " 0,\n",
              " 0,\n",
              " 0,\n",
              " 0,\n",
              " 0,\n",
              " 0,\n",
              " 0,\n",
              " 0,\n",
              " 0,\n",
              " 0,\n",
              " 0,\n",
              " 0,\n",
              " 0,\n",
              " 3,\n",
              " 0,\n",
              " 0,\n",
              " 0,\n",
              " 0,\n",
              " 0,\n",
              " 0,\n",
              " 0,\n",
              " 0,\n",
              " 0,\n",
              " 2,\n",
              " 0,\n",
              " 0,\n",
              " 0,\n",
              " 0,\n",
              " 0,\n",
              " 0,\n",
              " 0,\n",
              " 0,\n",
              " 0,\n",
              " 0,\n",
              " 0,\n",
              " 0,\n",
              " 0,\n",
              " 0,\n",
              " 0,\n",
              " 0,\n",
              " 0,\n",
              " 0,\n",
              " 0,\n",
              " 0,\n",
              " 0,\n",
              " 0,\n",
              " 0,\n",
              " 0,\n",
              " 0,\n",
              " 0,\n",
              " 0,\n",
              " 0,\n",
              " 0,\n",
              " 0,\n",
              " 0,\n",
              " 0,\n",
              " 0,\n",
              " 0,\n",
              " 0,\n",
              " 0,\n",
              " 0,\n",
              " 0,\n",
              " 0,\n",
              " 0,\n",
              " 0,\n",
              " 0,\n",
              " 0,\n",
              " 0,\n",
              " 0,\n",
              " 0,\n",
              " 0,\n",
              " 0,\n",
              " 0,\n",
              " 0,\n",
              " 0,\n",
              " 0,\n",
              " 0,\n",
              " 0,\n",
              " 0,\n",
              " 0,\n",
              " 0,\n",
              " 0,\n",
              " 0,\n",
              " 0,\n",
              " 0,\n",
              " 0,\n",
              " 0,\n",
              " 0,\n",
              " 0,\n",
              " 0,\n",
              " 0,\n",
              " 0,\n",
              " 0,\n",
              " 0,\n",
              " 1,\n",
              " 0,\n",
              " 0,\n",
              " 0,\n",
              " 2,\n",
              " 0,\n",
              " 0,\n",
              " 0,\n",
              " 0,\n",
              " 2,\n",
              " 0,\n",
              " 0,\n",
              " 0,\n",
              " 0,\n",
              " 0,\n",
              " 0,\n",
              " 0,\n",
              " 0,\n",
              " 0,\n",
              " 0,\n",
              " 0,\n",
              " 0,\n",
              " 0,\n",
              " 0,\n",
              " 0,\n",
              " 0,\n",
              " 0,\n",
              " 0,\n",
              " 0,\n",
              " 0,\n",
              " 0,\n",
              " 0,\n",
              " 0,\n",
              " 0,\n",
              " 0,\n",
              " 0,\n",
              " 0,\n",
              " 0,\n",
              " 0,\n",
              " 0,\n",
              " 0,\n",
              " 0,\n",
              " 0,\n",
              " 0,\n",
              " 0,\n",
              " 0,\n",
              " 0,\n",
              " 0,\n",
              " 0,\n",
              " 0,\n",
              " 2,\n",
              " 0,\n",
              " 0,\n",
              " 0,\n",
              " 0,\n",
              " 1,\n",
              " 3,\n",
              " 2,\n",
              " 0,\n",
              " 0,\n",
              " 0,\n",
              " 0,\n",
              " 0,\n",
              " 0,\n",
              " 0,\n",
              " 0,\n",
              " 0,\n",
              " 0,\n",
              " 0,\n",
              " 0,\n",
              " 0,\n",
              " 0,\n",
              " 0,\n",
              " 3,\n",
              " 0,\n",
              " 0,\n",
              " 0,\n",
              " 0,\n",
              " 0,\n",
              " 0,\n",
              " 0,\n",
              " 0,\n",
              " 0,\n",
              " 2,\n",
              " 3,\n",
              " 0,\n",
              " 0,\n",
              " 0,\n",
              " 0,\n",
              " 0,\n",
              " 0,\n",
              " 0,\n",
              " 0,\n",
              " 0,\n",
              " 0,\n",
              " 0,\n",
              " 0,\n",
              " 0,\n",
              " 0,\n",
              " 0,\n",
              " 0,\n",
              " 0,\n",
              " 0,\n",
              " 0,\n",
              " 0,\n",
              " 0,\n",
              " 0,\n",
              " 0,\n",
              " 0,\n",
              " 2,\n",
              " 0,\n",
              " 0,\n",
              " 0,\n",
              " 0,\n",
              " 0,\n",
              " 0,\n",
              " 0,\n",
              " 1,\n",
              " 0,\n",
              " 0,\n",
              " 0,\n",
              " 0,\n",
              " 0,\n",
              " 0,\n",
              " 0,\n",
              " 0,\n",
              " 0,\n",
              " 0,\n",
              " 0,\n",
              " 0,\n",
              " 0,\n",
              " 0,\n",
              " 0,\n",
              " 0,\n",
              " 0,\n",
              " 0,\n",
              " 0,\n",
              " 0,\n",
              " 0,\n",
              " 0,\n",
              " 0,\n",
              " 0,\n",
              " 0,\n",
              " 0,\n",
              " 0,\n",
              " 0,\n",
              " 0,\n",
              " 0,\n",
              " 0,\n",
              " 0,\n",
              " 0,\n",
              " 0,\n",
              " 0,\n",
              " 0,\n",
              " 0,\n",
              " 0,\n",
              " 0,\n",
              " 0,\n",
              " 0,\n",
              " 3,\n",
              " 0,\n",
              " 0,\n",
              " 0,\n",
              " 0,\n",
              " 1,\n",
              " 0,\n",
              " 0,\n",
              " 0,\n",
              " 0,\n",
              " 0,\n",
              " 0,\n",
              " 0,\n",
              " 0,\n",
              " 0,\n",
              " 0,\n",
              " 0,\n",
              " 0,\n",
              " 0,\n",
              " 0,\n",
              " 0,\n",
              " 0,\n",
              " 0,\n",
              " 0,\n",
              " 0,\n",
              " 3,\n",
              " 0,\n",
              " 0,\n",
              " 0,\n",
              " 0,\n",
              " 0,\n",
              " 0,\n",
              " 0,\n",
              " 0,\n",
              " 0,\n",
              " 0,\n",
              " 0,\n",
              " 0,\n",
              " 0,\n",
              " 3,\n",
              " 0,\n",
              " 0,\n",
              " 0,\n",
              " 0,\n",
              " 0,\n",
              " 0,\n",
              " 0,\n",
              " 0,\n",
              " 0,\n",
              " 0,\n",
              " 0,\n",
              " 0,\n",
              " 2,\n",
              " 0,\n",
              " 0,\n",
              " 0,\n",
              " 0,\n",
              " 0,\n",
              " 0,\n",
              " 0,\n",
              " 0,\n",
              " 0,\n",
              " 0,\n",
              " 0,\n",
              " 0,\n",
              " 0,\n",
              " 0,\n",
              " 0,\n",
              " 0,\n",
              " 0,\n",
              " 0,\n",
              " 0,\n",
              " 0,\n",
              " 0,\n",
              " 1,\n",
              " 0,\n",
              " 0,\n",
              " 0,\n",
              " 0,\n",
              " 0,\n",
              " 0,\n",
              " 0,\n",
              " 2,\n",
              " 0,\n",
              " 0,\n",
              " 0,\n",
              " 0,\n",
              " 2,\n",
              " 0,\n",
              " 0,\n",
              " 0,\n",
              " 0,\n",
              " 0,\n",
              " 0,\n",
              " 0,\n",
              " 0,\n",
              " 0,\n",
              " 0,\n",
              " 0,\n",
              " 0,\n",
              " 1,\n",
              " 0,\n",
              " 0,\n",
              " 0,\n",
              " 0,\n",
              " 0,\n",
              " 0,\n",
              " 1,\n",
              " 0,\n",
              " 0,\n",
              " 0,\n",
              " 0,\n",
              " 0,\n",
              " 0,\n",
              " 0,\n",
              " 0,\n",
              " 0,\n",
              " 0,\n",
              " 0,\n",
              " 0,\n",
              " 0,\n",
              " 0,\n",
              " 2,\n",
              " 0,\n",
              " 3,\n",
              " 0,\n",
              " 0,\n",
              " 0,\n",
              " 0,\n",
              " 0,\n",
              " 0,\n",
              " 0,\n",
              " 0,\n",
              " 0,\n",
              " 1,\n",
              " 0,\n",
              " 0,\n",
              " 0,\n",
              " 0,\n",
              " 0,\n",
              " 0,\n",
              " 0,\n",
              " 0,\n",
              " 0,\n",
              " 0,\n",
              " 0,\n",
              " 0,\n",
              " 0,\n",
              " 0,\n",
              " 0,\n",
              " 0,\n",
              " 0,\n",
              " 0,\n",
              " 0,\n",
              " 0,\n",
              " 0,\n",
              " 0,\n",
              " 0,\n",
              " 0,\n",
              " 0,\n",
              " 0,\n",
              " 0,\n",
              " 0,\n",
              " 0,\n",
              " 0,\n",
              " 0,\n",
              " 0,\n",
              " 0,\n",
              " 0,\n",
              " 0,\n",
              " 1,\n",
              " 0,\n",
              " 1,\n",
              " 0,\n",
              " 0,\n",
              " 0,\n",
              " 0,\n",
              " 0,\n",
              " 0,\n",
              " 0,\n",
              " 0,\n",
              " 0,\n",
              " 0,\n",
              " 0,\n",
              " 0,\n",
              " 0,\n",
              " 0,\n",
              " 0,\n",
              " 0,\n",
              " 0,\n",
              " 0,\n",
              " 0,\n",
              " 0,\n",
              " 0,\n",
              " 0,\n",
              " 0,\n",
              " 0,\n",
              " 0,\n",
              " 0,\n",
              " 0,\n",
              " 0,\n",
              " 0,\n",
              " 0,\n",
              " 2,\n",
              " 0,\n",
              " 0,\n",
              " 0,\n",
              " 0,\n",
              " 0,\n",
              " 0,\n",
              " 3,\n",
              " 0,\n",
              " 0,\n",
              " 0,\n",
              " 0,\n",
              " 0,\n",
              " 0,\n",
              " 3,\n",
              " 0,\n",
              " 0,\n",
              " 0,\n",
              " 0,\n",
              " 0,\n",
              " 1,\n",
              " 0,\n",
              " 0,\n",
              " 0,\n",
              " 0,\n",
              " 0,\n",
              " 0,\n",
              " 0,\n",
              " 0,\n",
              " 0,\n",
              " 0,\n",
              " 0,\n",
              " 0,\n",
              " 0,\n",
              " 0,\n",
              " 0,\n",
              " 0,\n",
              " 0,\n",
              " 0,\n",
              " 0,\n",
              " 0,\n",
              " 0,\n",
              " 0,\n",
              " 0,\n",
              " 0,\n",
              " 0,\n",
              " 0,\n",
              " 0,\n",
              " 0,\n",
              " 0,\n",
              " 0,\n",
              " 0,\n",
              " 0,\n",
              " 0,\n",
              " 0,\n",
              " 0,\n",
              " 0,\n",
              " 0,\n",
              " 0,\n",
              " 0,\n",
              " 0,\n",
              " 0,\n",
              " 0,\n",
              " 0,\n",
              " 0,\n",
              " 0,\n",
              " 0,\n",
              " 0,\n",
              " 0,\n",
              " 0,\n",
              " 0,\n",
              " 0,\n",
              " 0,\n",
              " 0,\n",
              " 0,\n",
              " 0,\n",
              " 0,\n",
              " 0,\n",
              " 1,\n",
              " 0,\n",
              " 0,\n",
              " 0,\n",
              " 0,\n",
              " 0,\n",
              " 0,\n",
              " 0,\n",
              " 0,\n",
              " 0,\n",
              " 0,\n",
              " 0,\n",
              " 0,\n",
              " 2,\n",
              " 0,\n",
              " 0,\n",
              " 0,\n",
              " 0,\n",
              " 0,\n",
              " 0,\n",
              " 0,\n",
              " 0,\n",
              " 0,\n",
              " 0,\n",
              " 0,\n",
              " 0,\n",
              " 0,\n",
              " 0,\n",
              " 0,\n",
              " 0,\n",
              " 0,\n",
              " 0,\n",
              " 0,\n",
              " 0,\n",
              " 0,\n",
              " 0,\n",
              " 0,\n",
              " 0,\n",
              " 0,\n",
              " 0,\n",
              " 0,\n",
              " 0,\n",
              " 0,\n",
              " 0,\n",
              " 0,\n",
              " 0,\n",
              " 0,\n",
              " 1,\n",
              " 0,\n",
              " 0,\n",
              " 0,\n",
              " 0,\n",
              " 2,\n",
              " 0,\n",
              " 0,\n",
              " 0,\n",
              " 0,\n",
              " 1,\n",
              " 0,\n",
              " 0,\n",
              " 0,\n",
              " 0,\n",
              " 0,\n",
              " 0,\n",
              " 0,\n",
              " 0,\n",
              " 0,\n",
              " 0,\n",
              " 1,\n",
              " 0,\n",
              " 3,\n",
              " 0,\n",
              " 0,\n",
              " 0,\n",
              " 0,\n",
              " 0,\n",
              " 0,\n",
              " 0,\n",
              " 0,\n",
              " 0,\n",
              " 0,\n",
              " 0,\n",
              " 0,\n",
              " 0,\n",
              " 0,\n",
              " 0,\n",
              " 0,\n",
              " 0,\n",
              " 0,\n",
              " 0,\n",
              " 0,\n",
              " 0,\n",
              " 0,\n",
              " 0,\n",
              " 0,\n",
              " 0,\n",
              " 0,\n",
              " 0,\n",
              " 0,\n",
              " 0,\n",
              " 0,\n",
              " 0,\n",
              " 0,\n",
              " 0,\n",
              " 0,\n",
              " 0,\n",
              " 0,\n",
              " 0,\n",
              " 0,\n",
              " 0,\n",
              " 0,\n",
              " 0,\n",
              " 0,\n",
              " 0,\n",
              " 0,\n",
              " 0,\n",
              " 0,\n",
              " 0,\n",
              " 0,\n",
              " 0,\n",
              " 0,\n",
              " 0,\n",
              " 0,\n",
              " 0,\n",
              " 0,\n",
              " 0,\n",
              " 0,\n",
              " 0,\n",
              " 0,\n",
              " 0,\n",
              " 0,\n",
              " 0,\n",
              " 0,\n",
              " 0,\n",
              " 0,\n",
              " 0,\n",
              " 0,\n",
              " 0,\n",
              " 0,\n",
              " 0,\n",
              " 0,\n",
              " 0,\n",
              " 0,\n",
              " 0,\n",
              " 0,\n",
              " 0,\n",
              " 0,\n",
              " 0,\n",
              " 0,\n",
              " 0,\n",
              " 0,\n",
              " 0,\n",
              " 0,\n",
              " 0,\n",
              " 0,\n",
              " 3,\n",
              " 0,\n",
              " 0,\n",
              " 0,\n",
              " 2,\n",
              " 0,\n",
              " 2,\n",
              " 0,\n",
              " 0,\n",
              " 0,\n",
              " 0,\n",
              " 0,\n",
              " 1,\n",
              " 0,\n",
              " 0,\n",
              " 0,\n",
              " 3,\n",
              " 0,\n",
              " 0,\n",
              " 0,\n",
              " 0,\n",
              " 0,\n",
              " 0,\n",
              " 0,\n",
              " 0,\n",
              " 0,\n",
              " 2,\n",
              " 1,\n",
              " 0,\n",
              " 0,\n",
              " 0,\n",
              " 0,\n",
              " 0,\n",
              " 0,\n",
              " 0,\n",
              " 0,\n",
              " 0,\n",
              " 0,\n",
              " 0,\n",
              " 0,\n",
              " 0,\n",
              " 0,\n",
              " 0,\n",
              " 0,\n",
              " 0,\n",
              " 0,\n",
              " 0,\n",
              " 0,\n",
              " 0,\n",
              " 0,\n",
              " 0,\n",
              " 0,\n",
              " 0,\n",
              " 0,\n",
              " 0,\n",
              " 0,\n",
              " 0,\n",
              " 0,\n",
              " 0,\n",
              " 0,\n",
              " 0,\n",
              " 0,\n",
              " 0,\n",
              " 0,\n",
              " 0,\n",
              " 0,\n",
              " 0,\n",
              " 0,\n",
              " 0,\n",
              " 0,\n",
              " 0,\n",
              " 0,\n",
              " 0,\n",
              " 0,\n",
              " 0,\n",
              " 0,\n",
              " 0,\n",
              " 0,\n",
              " 1,\n",
              " 0,\n",
              " 0,\n",
              " 1,\n",
              " 2,\n",
              " 0,\n",
              " 0,\n",
              " 0,\n",
              " 0,\n",
              " 0,\n",
              " 0,\n",
              " 0,\n",
              " 0,\n",
              " 0,\n",
              " 0,\n",
              " 0,\n",
              " 0,\n",
              " 0,\n",
              " 0,\n",
              " 0,\n",
              " 0,\n",
              " 0,\n",
              " 0,\n",
              " 0,\n",
              " 0,\n",
              " 0,\n",
              " 0,\n",
              " 3,\n",
              " 0,\n",
              " 0,\n",
              " 0,\n",
              " 0,\n",
              " 0,\n",
              " 0,\n",
              " 0,\n",
              " 0,\n",
              " 0,\n",
              " 0,\n",
              " 0,\n",
              " 0,\n",
              " 0,\n",
              " 0,\n",
              " 0,\n",
              " 0,\n",
              " 0,\n",
              " 0,\n",
              " 0,\n",
              " 0,\n",
              " 0,\n",
              " 0,\n",
              " 0,\n",
              " 0,\n",
              " 0,\n",
              " 0,\n",
              " 3,\n",
              " 2,\n",
              " 0,\n",
              " 3,\n",
              " 0,\n",
              " 0,\n",
              " 0,\n",
              " 0,\n",
              " 0,\n",
              " 2,\n",
              " 0,\n",
              " 0,\n",
              " 0,\n",
              " 0,\n",
              " 0,\n",
              " 0,\n",
              " 0,\n",
              " 2,\n",
              " 0,\n",
              " 0,\n",
              " 0,\n",
              " 0,\n",
              " 0,\n",
              " 0,\n",
              " 0,\n",
              " 0,\n",
              " 0,\n",
              " 0,\n",
              " 0,\n",
              " 0,\n",
              " 0,\n",
              " 0,\n",
              " 0,\n",
              " 0,\n",
              " 0,\n",
              " 0,\n",
              " 1,\n",
              " 0,\n",
              " 1,\n",
              " 0,\n",
              " 0,\n",
              " 0,\n",
              " 0,\n",
              " 0,\n",
              " 0,\n",
              " 0,\n",
              " ...]"
            ]
          },
          "execution_count": 90,
          "metadata": {},
          "output_type": "execute_result"
        }
      ],
      "source": [
        "custom_model_predictions = custom_model.predict(x_test)\n",
        "custom_model_predictions"
      ]
    },
    {
      "attachments": {},
      "cell_type": "markdown",
      "metadata": {
        "id": "hIlERTP1ttCW"
      },
      "source": [
        "Print the classification report containing \"precision\", \"recall\", and \"f1-score\" for each class, and their averages. (you can use `sklearn` for this part)"
      ]
    },
    {
      "cell_type": "code",
      "execution_count": 91,
      "metadata": {
        "colab": {
          "base_uri": "https://localhost:8080/"
        },
        "id": "9MfxJtbmtugx",
        "outputId": "4d1a4388-5dc8-4716-d642-af55c9ef8b9a"
      },
      "outputs": [
        {
          "name": "stdout",
          "output_type": "stream",
          "text": [
            "              precision    recall  f1-score   support\n",
            "\n",
            "           0       0.69      0.94      0.79      2246\n",
            "           1       0.85      0.82      0.83      2198\n",
            "           2       0.91      0.62      0.74      2280\n",
            "           3       0.89      0.88      0.88      2314\n",
            "\n",
            "    accuracy                           0.81      9038\n",
            "   macro avg       0.83      0.81      0.81      9038\n",
            "weighted avg       0.83      0.81      0.81      9038\n",
            "\n"
          ]
        }
      ],
      "source": [
        "print(classification_report(y_test, custom_model_predictions))"
      ]
    },
    {
      "attachments": {},
      "cell_type": "markdown",
      "metadata": {
        "id": "ElMEcOMAeFA1"
      },
      "source": [
        "# Kaggle"
      ]
    },
    {
      "attachments": {},
      "cell_type": "markdown",
      "metadata": {
        "id": "64J1wFXweGsH"
      },
      "source": [
        "Competition Link: https://www.kaggle.com/t/88f1b6e251e34575b2e4cb4b91aed0ef"
      ]
    }
  ],
  "metadata": {
    "colab": {
      "provenance": []
    },
    "kernelspec": {
      "display_name": "Python 3",
      "name": "python3"
    },
    "language_info": {
      "codemirror_mode": {
        "name": "ipython",
        "version": 3
      },
      "file_extension": ".py",
      "mimetype": "text/x-python",
      "name": "python",
      "nbconvert_exporter": "python",
      "pygments_lexer": "ipython3",
      "version": "3.11.1"
    }
  },
  "nbformat": 4,
  "nbformat_minor": 0
}
