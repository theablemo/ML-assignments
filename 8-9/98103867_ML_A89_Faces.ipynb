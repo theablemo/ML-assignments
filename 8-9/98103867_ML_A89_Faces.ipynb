{
  "cells": [
    {
      "cell_type": "markdown",
      "metadata": {
        "id": "b07eb33c"
      },
      "source": [
        "<div>\n",
        "<img src='https://upload.wikimedia.org/wikipedia/commons/6/64/Sharif_University_Logo.jpg' alt=\"SUT logo\" width=220 height=220 align=left class=\"saturate\">\n",
        "\n",
        "<br>\n",
        "<font face=\"Times New Roman\">\n",
        "<div dir=ltr align=center>\n",
        "<!-- <font color=0F5298 size=7> -->\n",
        "<font color=0F5298 size=6>\n",
        "    Introduction to Machine Learning <br> <br>\n",
        "<!-- <font color=2565AE size=5> -->\n",
        "<font size=5>\n",
        "    Computer Engineering Department <br>\n",
        "    Spring 2023 <br> <br>\n",
        "<font color=606060 size=5>\n",
        "    Homeworks 8 & 9 (Combined): Practical - Faces <br> <br>\n",
        "<font color=686880 size=4>\n",
        "    TAs: Arman Malekzadeh - Amirhossein Ramazani Bonab - Yalda Shabanzadeh\n",
        "    \n",
        "____"
      ]
    },
    {
      "cell_type": "markdown",
      "metadata": {
        "id": "f5a79508"
      },
      "source": [
        "### Full Name : Mohammad Abolnejadian\n",
        "### Student Number : 98103867\n",
        "### Colab Link: https://colab.research.google.com/drive/1CDZPV6574prYINZK0xYFFp4JxGVRcBK4?usp=sharing\n",
        "___"
      ]
    },
    {
      "cell_type": "markdown",
      "metadata": {
        "id": "QCHy_MoXZJXG"
      },
      "source": [
        "In this assignment, you'll be dealing with a dataset consisting of 400 faces, belonging to 40 people. Your main task is to train models capable of recognizing those faces.\n",
        "The faces are `jpg` images packed together as a zip file called `images.zip`, and the `meta.csv` determines from which person each image was taken."
      ]
    },
    {
      "cell_type": "code",
      "execution_count": 105,
      "metadata": {
        "colab": {
          "base_uri": "https://localhost:8080/"
        },
        "id": "aZE1y9wJY1Ex",
        "outputId": "36c39fd9-6e2b-4f2e-fd27-f788e3163b6a"
      },
      "outputs": [
        {
          "output_type": "stream",
          "name": "stdout",
          "text": [
            "--2023-06-27 19:41:21--  https://www.dropbox.com/s/wrias0bjyte3rr2/images.zip?dl=1\n",
            "Resolving www.dropbox.com (www.dropbox.com)... 162.125.80.18, 2620:100:6030:18::a27d:5012\n",
            "Connecting to www.dropbox.com (www.dropbox.com)|162.125.80.18|:443... connected.\n",
            "HTTP request sent, awaiting response... 302 Found\n",
            "Location: /s/dl/wrias0bjyte3rr2/images.zip [following]\n",
            "--2023-06-27 19:41:21--  https://www.dropbox.com/s/dl/wrias0bjyte3rr2/images.zip\n",
            "Reusing existing connection to www.dropbox.com:443.\n",
            "HTTP request sent, awaiting response... 302 Found\n",
            "Location: https://uc455f335acbc180dd7a88857df4.dl.dropboxusercontent.com/cd/0/get/B-xg_DryKUzb4lGOnKO9ynaq3kbyKYVY9yMQR7k9-mwyd6Ri5eHL_cx2gSGddYvmSW8JwgDbC6cRlqOi-0Zc-f_YeL9uH9ffPDjMxPVx6pO9LNSvGD3PknxaeJbIxkBuQfmsc7RYinK3Mg1jeQqlXa9qfIT1WPp77Vjd9iNwSg16tkMwQufChXVKTXHXfpCOKjY/file?dl=1# [following]\n",
            "--2023-06-27 19:41:22--  https://uc455f335acbc180dd7a88857df4.dl.dropboxusercontent.com/cd/0/get/B-xg_DryKUzb4lGOnKO9ynaq3kbyKYVY9yMQR7k9-mwyd6Ri5eHL_cx2gSGddYvmSW8JwgDbC6cRlqOi-0Zc-f_YeL9uH9ffPDjMxPVx6pO9LNSvGD3PknxaeJbIxkBuQfmsc7RYinK3Mg1jeQqlXa9qfIT1WPp77Vjd9iNwSg16tkMwQufChXVKTXHXfpCOKjY/file?dl=1\n",
            "Resolving uc455f335acbc180dd7a88857df4.dl.dropboxusercontent.com (uc455f335acbc180dd7a88857df4.dl.dropboxusercontent.com)... 162.125.80.15, 2620:100:6035:15::a27d:550f\n",
            "Connecting to uc455f335acbc180dd7a88857df4.dl.dropboxusercontent.com (uc455f335acbc180dd7a88857df4.dl.dropboxusercontent.com)|162.125.80.15|:443... connected.\n",
            "HTTP request sent, awaiting response... 200 OK\n",
            "Length: 506158 (494K) [application/binary]\n",
            "Saving to: ‘images.zip’\n",
            "\n",
            "images.zip          100%[===================>] 494.29K  2.56MB/s    in 0.2s    \n",
            "\n",
            "2023-06-27 19:41:22 (2.56 MB/s) - ‘images.zip’ saved [506158/506158]\n",
            "\n",
            "--2023-06-27 19:41:22--  https://www.dropbox.com/s/vqt1v8sfmz18rcf/faces-metadata.csv?dl=1\n",
            "Resolving www.dropbox.com (www.dropbox.com)... 162.125.80.18, 2620:100:6030:18::a27d:5012\n",
            "Connecting to www.dropbox.com (www.dropbox.com)|162.125.80.18|:443... connected.\n",
            "HTTP request sent, awaiting response... 302 Found\n",
            "Location: /s/dl/vqt1v8sfmz18rcf/faces-metadata.csv [following]\n",
            "--2023-06-27 19:41:23--  https://www.dropbox.com/s/dl/vqt1v8sfmz18rcf/faces-metadata.csv\n",
            "Reusing existing connection to www.dropbox.com:443.\n",
            "HTTP request sent, awaiting response... 302 Found\n",
            "Location: https://ucc3616a4c5b59acb7378af970b2.dl.dropboxusercontent.com/cd/0/get/B-yAXSgSyW09mC3olg0e1RCEoIR3XJOwJLs2EuhhGbNigthLwc37oI-ny-EtB0t1wCSVyh-lvO5OkwfAZEk8GaQEzSYUo5ezGrsUCkrClk6Q4q9SfP-4Py9LEbCZ84gm8Bf-4Mij6VT89y4MKv3Ddsgd4KSHRceuBFqNT_HTVr6TDVzXdDOLvaBGgOIH4w-Q8Vw/file?dl=1# [following]\n",
            "--2023-06-27 19:41:24--  https://ucc3616a4c5b59acb7378af970b2.dl.dropboxusercontent.com/cd/0/get/B-yAXSgSyW09mC3olg0e1RCEoIR3XJOwJLs2EuhhGbNigthLwc37oI-ny-EtB0t1wCSVyh-lvO5OkwfAZEk8GaQEzSYUo5ezGrsUCkrClk6Q4q9SfP-4Py9LEbCZ84gm8Bf-4Mij6VT89y4MKv3Ddsgd4KSHRceuBFqNT_HTVr6TDVzXdDOLvaBGgOIH4w-Q8Vw/file?dl=1\n",
            "Resolving ucc3616a4c5b59acb7378af970b2.dl.dropboxusercontent.com (ucc3616a4c5b59acb7378af970b2.dl.dropboxusercontent.com)... 162.125.80.15, 2620:100:6035:15::a27d:550f\n",
            "Connecting to ucc3616a4c5b59acb7378af970b2.dl.dropboxusercontent.com (ucc3616a4c5b59acb7378af970b2.dl.dropboxusercontent.com)|162.125.80.15|:443... connected.\n",
            "HTTP request sent, awaiting response... 200 OK\n",
            "Length: 5891 (5.8K) [application/binary]\n",
            "Saving to: ‘meta.csv’\n",
            "\n",
            "meta.csv            100%[===================>]   5.75K  --.-KB/s    in 0s      \n",
            "\n",
            "2023-06-27 19:41:25 (815 MB/s) - ‘meta.csv’ saved [5891/5891]\n",
            "\n"
          ]
        }
      ],
      "source": [
        "!wget -O images.zip https://www.dropbox.com/s/wrias0bjyte3rr2/images.zip?dl=1\n",
        "!wget -O meta.csv https://www.dropbox.com/s/vqt1v8sfmz18rcf/faces-metadata.csv?dl=1"
      ]
    },
    {
      "cell_type": "code",
      "execution_count": 106,
      "metadata": {
        "id": "6_7895lFnun2"
      },
      "outputs": [],
      "source": [
        "# you can use the following packages\n",
        "from PIL import Image\n",
        "import numpy as np\n",
        "import pandas as pd\n",
        "from sklearn.preprocessing import LabelEncoder\n",
        "from sklearn.model_selection import train_test_split\n",
        "import tensorflow as tf\n",
        "from tensorflow import keras\n",
        "from tensorflow.keras import layers\n",
        "from sklearn.cluster import KMeans\n",
        "from sklearn.decomposition import TruncatedSVD\n",
        "import plotly.express as px"
      ]
    },
    {
      "cell_type": "markdown",
      "metadata": {
        "id": "rOuCpoXVxYAc"
      },
      "source": [
        "# Sec 1: Data Preparation"
      ]
    },
    {
      "cell_type": "markdown",
      "metadata": {
        "id": "D67J4M0lnD62"
      },
      "source": [
        "Load all images as a numpy array (called `x`) and the metadata as a dataframe **(P1-1: 25 points)**"
      ]
    },
    {
      "cell_type": "code",
      "execution_count": 107,
      "metadata": {
        "colab": {
          "base_uri": "https://localhost:8080/",
          "height": 1000
        },
        "id": "J1a0H7bPQRZA",
        "outputId": "8450ab94-a9f5-4fef-8e61-98f42a64ff33"
      },
      "outputs": [
        {
          "output_type": "stream",
          "name": "stdout",
          "text": [
            "['content/img-data/0.jpg', 'content/img-data/1.jpg', 'content/img-data/2.jpg', 'content/img-data/3.jpg', 'content/img-data/4.jpg', 'content/img-data/5.jpg', 'content/img-data/6.jpg', 'content/img-data/7.jpg', 'content/img-data/8.jpg', 'content/img-data/9.jpg', 'content/img-data/10.jpg', 'content/img-data/11.jpg', 'content/img-data/12.jpg', 'content/img-data/13.jpg', 'content/img-data/14.jpg', 'content/img-data/15.jpg', 'content/img-data/16.jpg', 'content/img-data/17.jpg', 'content/img-data/18.jpg', 'content/img-data/19.jpg', 'content/img-data/20.jpg', 'content/img-data/21.jpg', 'content/img-data/22.jpg', 'content/img-data/23.jpg', 'content/img-data/24.jpg', 'content/img-data/25.jpg', 'content/img-data/26.jpg', 'content/img-data/27.jpg', 'content/img-data/28.jpg', 'content/img-data/29.jpg', 'content/img-data/30.jpg', 'content/img-data/31.jpg', 'content/img-data/32.jpg', 'content/img-data/33.jpg', 'content/img-data/34.jpg', 'content/img-data/35.jpg', 'content/img-data/36.jpg', 'content/img-data/37.jpg', 'content/img-data/38.jpg', 'content/img-data/39.jpg', 'content/img-data/40.jpg', 'content/img-data/41.jpg', 'content/img-data/42.jpg', 'content/img-data/43.jpg', 'content/img-data/44.jpg', 'content/img-data/45.jpg', 'content/img-data/46.jpg', 'content/img-data/47.jpg', 'content/img-data/48.jpg', 'content/img-data/49.jpg', 'content/img-data/50.jpg', 'content/img-data/51.jpg', 'content/img-data/52.jpg', 'content/img-data/53.jpg', 'content/img-data/54.jpg', 'content/img-data/55.jpg', 'content/img-data/56.jpg', 'content/img-data/57.jpg', 'content/img-data/58.jpg', 'content/img-data/59.jpg', 'content/img-data/60.jpg', 'content/img-data/61.jpg', 'content/img-data/62.jpg', 'content/img-data/63.jpg', 'content/img-data/64.jpg', 'content/img-data/65.jpg', 'content/img-data/66.jpg', 'content/img-data/67.jpg', 'content/img-data/68.jpg', 'content/img-data/69.jpg', 'content/img-data/70.jpg', 'content/img-data/71.jpg', 'content/img-data/72.jpg', 'content/img-data/73.jpg', 'content/img-data/74.jpg', 'content/img-data/75.jpg', 'content/img-data/76.jpg', 'content/img-data/77.jpg', 'content/img-data/78.jpg', 'content/img-data/79.jpg', 'content/img-data/80.jpg', 'content/img-data/81.jpg', 'content/img-data/82.jpg', 'content/img-data/83.jpg', 'content/img-data/84.jpg', 'content/img-data/85.jpg', 'content/img-data/86.jpg', 'content/img-data/87.jpg', 'content/img-data/88.jpg', 'content/img-data/89.jpg', 'content/img-data/90.jpg', 'content/img-data/91.jpg', 'content/img-data/92.jpg', 'content/img-data/93.jpg', 'content/img-data/94.jpg', 'content/img-data/95.jpg', 'content/img-data/96.jpg', 'content/img-data/97.jpg', 'content/img-data/98.jpg', 'content/img-data/99.jpg', 'content/img-data/100.jpg', 'content/img-data/101.jpg', 'content/img-data/102.jpg', 'content/img-data/103.jpg', 'content/img-data/104.jpg', 'content/img-data/105.jpg', 'content/img-data/106.jpg', 'content/img-data/107.jpg', 'content/img-data/108.jpg', 'content/img-data/109.jpg', 'content/img-data/110.jpg', 'content/img-data/111.jpg', 'content/img-data/112.jpg', 'content/img-data/113.jpg', 'content/img-data/114.jpg', 'content/img-data/115.jpg', 'content/img-data/116.jpg', 'content/img-data/117.jpg', 'content/img-data/118.jpg', 'content/img-data/119.jpg', 'content/img-data/120.jpg', 'content/img-data/121.jpg', 'content/img-data/122.jpg', 'content/img-data/123.jpg', 'content/img-data/124.jpg', 'content/img-data/125.jpg', 'content/img-data/126.jpg', 'content/img-data/127.jpg', 'content/img-data/128.jpg', 'content/img-data/129.jpg', 'content/img-data/130.jpg', 'content/img-data/131.jpg', 'content/img-data/132.jpg', 'content/img-data/133.jpg', 'content/img-data/134.jpg', 'content/img-data/135.jpg', 'content/img-data/136.jpg', 'content/img-data/137.jpg', 'content/img-data/138.jpg', 'content/img-data/139.jpg', 'content/img-data/140.jpg', 'content/img-data/141.jpg', 'content/img-data/142.jpg', 'content/img-data/143.jpg', 'content/img-data/144.jpg', 'content/img-data/145.jpg', 'content/img-data/146.jpg', 'content/img-data/147.jpg', 'content/img-data/148.jpg', 'content/img-data/149.jpg', 'content/img-data/150.jpg', 'content/img-data/151.jpg', 'content/img-data/152.jpg', 'content/img-data/153.jpg', 'content/img-data/154.jpg', 'content/img-data/155.jpg', 'content/img-data/156.jpg', 'content/img-data/157.jpg', 'content/img-data/158.jpg', 'content/img-data/159.jpg', 'content/img-data/160.jpg', 'content/img-data/161.jpg', 'content/img-data/162.jpg', 'content/img-data/163.jpg', 'content/img-data/164.jpg', 'content/img-data/165.jpg', 'content/img-data/166.jpg', 'content/img-data/167.jpg', 'content/img-data/168.jpg', 'content/img-data/169.jpg', 'content/img-data/170.jpg', 'content/img-data/171.jpg', 'content/img-data/172.jpg', 'content/img-data/173.jpg', 'content/img-data/174.jpg', 'content/img-data/175.jpg', 'content/img-data/176.jpg', 'content/img-data/177.jpg', 'content/img-data/178.jpg', 'content/img-data/179.jpg', 'content/img-data/180.jpg', 'content/img-data/181.jpg', 'content/img-data/182.jpg', 'content/img-data/183.jpg', 'content/img-data/184.jpg', 'content/img-data/185.jpg', 'content/img-data/186.jpg', 'content/img-data/187.jpg', 'content/img-data/188.jpg', 'content/img-data/189.jpg', 'content/img-data/190.jpg', 'content/img-data/191.jpg', 'content/img-data/192.jpg', 'content/img-data/193.jpg', 'content/img-data/194.jpg', 'content/img-data/195.jpg', 'content/img-data/196.jpg', 'content/img-data/197.jpg', 'content/img-data/198.jpg', 'content/img-data/199.jpg', 'content/img-data/200.jpg', 'content/img-data/201.jpg', 'content/img-data/202.jpg', 'content/img-data/203.jpg', 'content/img-data/204.jpg', 'content/img-data/205.jpg', 'content/img-data/206.jpg', 'content/img-data/207.jpg', 'content/img-data/208.jpg', 'content/img-data/209.jpg', 'content/img-data/210.jpg', 'content/img-data/211.jpg', 'content/img-data/212.jpg', 'content/img-data/213.jpg', 'content/img-data/214.jpg', 'content/img-data/215.jpg', 'content/img-data/216.jpg', 'content/img-data/217.jpg', 'content/img-data/218.jpg', 'content/img-data/219.jpg', 'content/img-data/220.jpg', 'content/img-data/221.jpg', 'content/img-data/222.jpg', 'content/img-data/223.jpg', 'content/img-data/224.jpg', 'content/img-data/225.jpg', 'content/img-data/226.jpg', 'content/img-data/227.jpg', 'content/img-data/228.jpg', 'content/img-data/229.jpg', 'content/img-data/230.jpg', 'content/img-data/231.jpg', 'content/img-data/232.jpg', 'content/img-data/233.jpg', 'content/img-data/234.jpg', 'content/img-data/235.jpg', 'content/img-data/236.jpg', 'content/img-data/237.jpg', 'content/img-data/238.jpg', 'content/img-data/239.jpg', 'content/img-data/240.jpg', 'content/img-data/241.jpg', 'content/img-data/242.jpg', 'content/img-data/243.jpg', 'content/img-data/244.jpg', 'content/img-data/245.jpg', 'content/img-data/246.jpg', 'content/img-data/247.jpg', 'content/img-data/248.jpg', 'content/img-data/249.jpg', 'content/img-data/250.jpg', 'content/img-data/251.jpg', 'content/img-data/252.jpg', 'content/img-data/253.jpg', 'content/img-data/254.jpg', 'content/img-data/255.jpg', 'content/img-data/256.jpg', 'content/img-data/257.jpg', 'content/img-data/258.jpg', 'content/img-data/259.jpg', 'content/img-data/260.jpg', 'content/img-data/261.jpg', 'content/img-data/262.jpg', 'content/img-data/263.jpg', 'content/img-data/264.jpg', 'content/img-data/265.jpg', 'content/img-data/266.jpg', 'content/img-data/267.jpg', 'content/img-data/268.jpg', 'content/img-data/269.jpg', 'content/img-data/270.jpg', 'content/img-data/271.jpg', 'content/img-data/272.jpg', 'content/img-data/273.jpg', 'content/img-data/274.jpg', 'content/img-data/275.jpg', 'content/img-data/276.jpg', 'content/img-data/277.jpg', 'content/img-data/278.jpg', 'content/img-data/279.jpg', 'content/img-data/280.jpg', 'content/img-data/281.jpg', 'content/img-data/282.jpg', 'content/img-data/283.jpg', 'content/img-data/284.jpg', 'content/img-data/285.jpg', 'content/img-data/286.jpg', 'content/img-data/287.jpg', 'content/img-data/288.jpg', 'content/img-data/289.jpg', 'content/img-data/290.jpg', 'content/img-data/291.jpg', 'content/img-data/292.jpg', 'content/img-data/293.jpg', 'content/img-data/294.jpg', 'content/img-data/295.jpg', 'content/img-data/296.jpg', 'content/img-data/297.jpg', 'content/img-data/298.jpg', 'content/img-data/299.jpg', 'content/img-data/300.jpg', 'content/img-data/301.jpg', 'content/img-data/302.jpg', 'content/img-data/303.jpg', 'content/img-data/304.jpg', 'content/img-data/305.jpg', 'content/img-data/306.jpg', 'content/img-data/307.jpg', 'content/img-data/308.jpg', 'content/img-data/309.jpg', 'content/img-data/310.jpg', 'content/img-data/311.jpg', 'content/img-data/312.jpg', 'content/img-data/313.jpg', 'content/img-data/314.jpg', 'content/img-data/315.jpg', 'content/img-data/316.jpg', 'content/img-data/317.jpg', 'content/img-data/318.jpg', 'content/img-data/319.jpg', 'content/img-data/320.jpg', 'content/img-data/321.jpg', 'content/img-data/322.jpg', 'content/img-data/323.jpg', 'content/img-data/324.jpg', 'content/img-data/325.jpg', 'content/img-data/326.jpg', 'content/img-data/327.jpg', 'content/img-data/328.jpg', 'content/img-data/329.jpg', 'content/img-data/330.jpg', 'content/img-data/331.jpg', 'content/img-data/332.jpg', 'content/img-data/333.jpg', 'content/img-data/334.jpg', 'content/img-data/335.jpg', 'content/img-data/336.jpg', 'content/img-data/337.jpg', 'content/img-data/338.jpg', 'content/img-data/339.jpg', 'content/img-data/340.jpg', 'content/img-data/341.jpg', 'content/img-data/342.jpg', 'content/img-data/343.jpg', 'content/img-data/344.jpg', 'content/img-data/345.jpg', 'content/img-data/346.jpg', 'content/img-data/347.jpg', 'content/img-data/348.jpg', 'content/img-data/349.jpg', 'content/img-data/350.jpg', 'content/img-data/351.jpg', 'content/img-data/352.jpg', 'content/img-data/353.jpg', 'content/img-data/354.jpg', 'content/img-data/355.jpg', 'content/img-data/356.jpg', 'content/img-data/357.jpg', 'content/img-data/358.jpg', 'content/img-data/359.jpg', 'content/img-data/360.jpg', 'content/img-data/361.jpg', 'content/img-data/362.jpg', 'content/img-data/363.jpg', 'content/img-data/364.jpg', 'content/img-data/365.jpg', 'content/img-data/366.jpg', 'content/img-data/367.jpg', 'content/img-data/368.jpg', 'content/img-data/369.jpg', 'content/img-data/370.jpg', 'content/img-data/371.jpg', 'content/img-data/372.jpg', 'content/img-data/373.jpg', 'content/img-data/374.jpg', 'content/img-data/375.jpg', 'content/img-data/376.jpg', 'content/img-data/377.jpg', 'content/img-data/378.jpg', 'content/img-data/379.jpg', 'content/img-data/380.jpg', 'content/img-data/381.jpg', 'content/img-data/382.jpg', 'content/img-data/383.jpg', 'content/img-data/384.jpg', 'content/img-data/385.jpg', 'content/img-data/386.jpg', 'content/img-data/387.jpg', 'content/img-data/388.jpg', 'content/img-data/389.jpg', 'content/img-data/390.jpg', 'content/img-data/391.jpg', 'content/img-data/392.jpg', 'content/img-data/393.jpg', 'content/img-data/394.jpg', 'content/img-data/395.jpg', 'content/img-data/396.jpg', 'content/img-data/397.jpg', 'content/img-data/398.jpg', 'content/img-data/399.jpg']\n",
            "[[[ 82  96 108 ...  97  87  81]\n",
            "  [ 86 100 112 ...  96  84  76]\n",
            "  [ 88 101 116 ...  97  81  74]\n",
            "  ...\n",
            "  [ 51  49  54 ...  42  41  42]\n",
            "  [ 52  50  55 ...  40  39  40]\n",
            "  [ 53  51  54 ...  38  37  37]]\n",
            "\n",
            " [[113 121 133 ...  49  52  44]\n",
            "  [119 123 132 ...  51  55  49]\n",
            "  [127 128 135 ...  50  54  52]\n",
            "  ...\n",
            "  [197 198 199 ...  37  37  37]\n",
            "  [196 198 200 ...  33  33  33]\n",
            "  [197 199 202 ...  38  38  38]]\n",
            "\n",
            " [[ 80 105 125 ... 108  92  79]\n",
            "  [ 75  98 123 ... 107  91  79]\n",
            "  [ 66  88 121 ... 105  90  79]\n",
            "  ...\n",
            "  [ 34  18  26 ...  35  35  38]\n",
            "  [ 32  17  25 ...  35  36  38]\n",
            "  [ 32  17  24 ...  36  36  39]]\n",
            "\n",
            " ...\n",
            "\n",
            " [[124 138 154 ...  80  57  55]\n",
            "  [122 137 156 ...  76  52  48]\n",
            "  [121 137 156 ...  71  50  44]\n",
            "  ...\n",
            "  [  6 110 141 ...  43  44  44]\n",
            "  [ 47 128 135 ...  43  44  44]\n",
            "  [108 147 123 ...  43  44  44]]\n",
            "\n",
            " [[ 52  62  53 ... 182 178 179]\n",
            "  [ 51  58  52 ... 180 177 178]\n",
            "  [ 52  54  51 ... 178 176 177]\n",
            "  ...\n",
            "  [ 68  68  68 ... 137 149 153]\n",
            "  [ 68  68  68 ... 144 151 153]\n",
            "  [ 68  68  68 ... 145 148 150]]\n",
            "\n",
            " [[126 124  68 ... 141 142 151]\n",
            "  [131 125  69 ... 144 143 148]\n",
            "  [129 122  74 ... 149 144 144]\n",
            "  ...\n",
            "  [100 100 101 ...  88  93  98]\n",
            "  [ 99 100 100 ...  87  92  97]\n",
            "  [ 99 100 100 ...  86  91  99]]]\n"
          ]
        },
        {
          "output_type": "execute_result",
          "data": {
            "text/plain": [
              "        path  label\n",
              "0      0.jpg  jones\n",
              "1      1.jpg  jones\n",
              "2      2.jpg  jones\n",
              "3      3.jpg  jones\n",
              "4      4.jpg  jones\n",
              "..       ...    ...\n",
              "395  395.jpg   vaux\n",
              "396  396.jpg   vaux\n",
              "397  397.jpg   vaux\n",
              "398  398.jpg   vaux\n",
              "399  399.jpg   vaux\n",
              "\n",
              "[400 rows x 2 columns]"
            ],
            "text/html": [
              "\n",
              "  <div id=\"df-ecde8b77-e196-44ff-99bd-e91f268f31c2\">\n",
              "    <div class=\"colab-df-container\">\n",
              "      <div>\n",
              "<style scoped>\n",
              "    .dataframe tbody tr th:only-of-type {\n",
              "        vertical-align: middle;\n",
              "    }\n",
              "\n",
              "    .dataframe tbody tr th {\n",
              "        vertical-align: top;\n",
              "    }\n",
              "\n",
              "    .dataframe thead th {\n",
              "        text-align: right;\n",
              "    }\n",
              "</style>\n",
              "<table border=\"1\" class=\"dataframe\">\n",
              "  <thead>\n",
              "    <tr style=\"text-align: right;\">\n",
              "      <th></th>\n",
              "      <th>path</th>\n",
              "      <th>label</th>\n",
              "    </tr>\n",
              "  </thead>\n",
              "  <tbody>\n",
              "    <tr>\n",
              "      <th>0</th>\n",
              "      <td>0.jpg</td>\n",
              "      <td>jones</td>\n",
              "    </tr>\n",
              "    <tr>\n",
              "      <th>1</th>\n",
              "      <td>1.jpg</td>\n",
              "      <td>jones</td>\n",
              "    </tr>\n",
              "    <tr>\n",
              "      <th>2</th>\n",
              "      <td>2.jpg</td>\n",
              "      <td>jones</td>\n",
              "    </tr>\n",
              "    <tr>\n",
              "      <th>3</th>\n",
              "      <td>3.jpg</td>\n",
              "      <td>jones</td>\n",
              "    </tr>\n",
              "    <tr>\n",
              "      <th>4</th>\n",
              "      <td>4.jpg</td>\n",
              "      <td>jones</td>\n",
              "    </tr>\n",
              "    <tr>\n",
              "      <th>...</th>\n",
              "      <td>...</td>\n",
              "      <td>...</td>\n",
              "    </tr>\n",
              "    <tr>\n",
              "      <th>395</th>\n",
              "      <td>395.jpg</td>\n",
              "      <td>vaux</td>\n",
              "    </tr>\n",
              "    <tr>\n",
              "      <th>396</th>\n",
              "      <td>396.jpg</td>\n",
              "      <td>vaux</td>\n",
              "    </tr>\n",
              "    <tr>\n",
              "      <th>397</th>\n",
              "      <td>397.jpg</td>\n",
              "      <td>vaux</td>\n",
              "    </tr>\n",
              "    <tr>\n",
              "      <th>398</th>\n",
              "      <td>398.jpg</td>\n",
              "      <td>vaux</td>\n",
              "    </tr>\n",
              "    <tr>\n",
              "      <th>399</th>\n",
              "      <td>399.jpg</td>\n",
              "      <td>vaux</td>\n",
              "    </tr>\n",
              "  </tbody>\n",
              "</table>\n",
              "<p>400 rows × 2 columns</p>\n",
              "</div>\n",
              "      <button class=\"colab-df-convert\" onclick=\"convertToInteractive('df-ecde8b77-e196-44ff-99bd-e91f268f31c2')\"\n",
              "              title=\"Convert this dataframe to an interactive table.\"\n",
              "              style=\"display:none;\">\n",
              "        \n",
              "  <svg xmlns=\"http://www.w3.org/2000/svg\" height=\"24px\"viewBox=\"0 0 24 24\"\n",
              "       width=\"24px\">\n",
              "    <path d=\"M0 0h24v24H0V0z\" fill=\"none\"/>\n",
              "    <path d=\"M18.56 5.44l.94 2.06.94-2.06 2.06-.94-2.06-.94-.94-2.06-.94 2.06-2.06.94zm-11 1L8.5 8.5l.94-2.06 2.06-.94-2.06-.94L8.5 2.5l-.94 2.06-2.06.94zm10 10l.94 2.06.94-2.06 2.06-.94-2.06-.94-.94-2.06-.94 2.06-2.06.94z\"/><path d=\"M17.41 7.96l-1.37-1.37c-.4-.4-.92-.59-1.43-.59-.52 0-1.04.2-1.43.59L10.3 9.45l-7.72 7.72c-.78.78-.78 2.05 0 2.83L4 21.41c.39.39.9.59 1.41.59.51 0 1.02-.2 1.41-.59l7.78-7.78 2.81-2.81c.8-.78.8-2.07 0-2.86zM5.41 20L4 18.59l7.72-7.72 1.47 1.35L5.41 20z\"/>\n",
              "  </svg>\n",
              "      </button>\n",
              "      \n",
              "  <style>\n",
              "    .colab-df-container {\n",
              "      display:flex;\n",
              "      flex-wrap:wrap;\n",
              "      gap: 12px;\n",
              "    }\n",
              "\n",
              "    .colab-df-convert {\n",
              "      background-color: #E8F0FE;\n",
              "      border: none;\n",
              "      border-radius: 50%;\n",
              "      cursor: pointer;\n",
              "      display: none;\n",
              "      fill: #1967D2;\n",
              "      height: 32px;\n",
              "      padding: 0 0 0 0;\n",
              "      width: 32px;\n",
              "    }\n",
              "\n",
              "    .colab-df-convert:hover {\n",
              "      background-color: #E2EBFA;\n",
              "      box-shadow: 0px 1px 2px rgba(60, 64, 67, 0.3), 0px 1px 3px 1px rgba(60, 64, 67, 0.15);\n",
              "      fill: #174EA6;\n",
              "    }\n",
              "\n",
              "    [theme=dark] .colab-df-convert {\n",
              "      background-color: #3B4455;\n",
              "      fill: #D2E3FC;\n",
              "    }\n",
              "\n",
              "    [theme=dark] .colab-df-convert:hover {\n",
              "      background-color: #434B5C;\n",
              "      box-shadow: 0px 1px 3px 1px rgba(0, 0, 0, 0.15);\n",
              "      filter: drop-shadow(0px 1px 2px rgba(0, 0, 0, 0.3));\n",
              "      fill: #FFFFFF;\n",
              "    }\n",
              "  </style>\n",
              "\n",
              "      <script>\n",
              "        const buttonEl =\n",
              "          document.querySelector('#df-ecde8b77-e196-44ff-99bd-e91f268f31c2 button.colab-df-convert');\n",
              "        buttonEl.style.display =\n",
              "          google.colab.kernel.accessAllowed ? 'block' : 'none';\n",
              "\n",
              "        async function convertToInteractive(key) {\n",
              "          const element = document.querySelector('#df-ecde8b77-e196-44ff-99bd-e91f268f31c2');\n",
              "          const dataTable =\n",
              "            await google.colab.kernel.invokeFunction('convertToInteractive',\n",
              "                                                     [key], {});\n",
              "          if (!dataTable) return;\n",
              "\n",
              "          const docLinkHtml = 'Like what you see? Visit the ' +\n",
              "            '<a target=\"_blank\" href=https://colab.research.google.com/notebooks/data_table.ipynb>data table notebook</a>'\n",
              "            + ' to learn more about interactive tables.';\n",
              "          element.innerHTML = '';\n",
              "          dataTable['output_type'] = 'display_data';\n",
              "          await google.colab.output.renderOutput(dataTable, element);\n",
              "          const docLink = document.createElement('div');\n",
              "          docLink.innerHTML = docLinkHtml;\n",
              "          element.appendChild(docLink);\n",
              "        }\n",
              "      </script>\n",
              "    </div>\n",
              "  </div>\n",
              "  "
            ]
          },
          "metadata": {},
          "execution_count": 107
        }
      ],
      "source": [
        "import zipfile #Was neccessary to extract the zip file that was downloaded\n",
        "import re #Was neccessary to sort file paths\n",
        "x = []\n",
        "def sort_file_paths_by_number(file_paths):\n",
        "  \"\"\"Sorts an array of file paths based on the number in the file path.\n",
        "\n",
        "  Args:\n",
        "    file_paths: An array of file paths.\n",
        "\n",
        "  Returns:\n",
        "    A sorted array of file paths.\n",
        "  \"\"\"\n",
        "\n",
        "  def extract_number(file_path):\n",
        "    \"\"\"Extracts the number from the file path.\"\"\"\n",
        "    match = re.search(r\"\\d+\", file_path)\n",
        "    if match:\n",
        "      return int(match.group(0))\n",
        "    else:\n",
        "      return None\n",
        "\n",
        "  sorted_file_paths = sorted(file_paths, key=extract_number)\n",
        "  return sorted_file_paths\n",
        "\n",
        "image_extensions = ('.jpg', '.jpeg', '.png')\n",
        "with zipfile.ZipFile('images.zip', \"r\") as zip_data:\n",
        "  # print(zip_data.namelist())\n",
        "  file_names = list(filter(lambda x:x.endswith(image_extensions), zip_data.namelist()))\n",
        "  file_names = sort_file_paths_by_number(file_names)\n",
        "  print(file_names)\n",
        "  for file_name in file_names:\n",
        "    image = Image.open(zip_data.open(file_name))\n",
        "    image_array = np.asarray(image)\n",
        "    x.append(image_array)\n",
        "  x = np.array(x)\n",
        "meta_df = pd.read_csv('meta.csv')\n",
        "print(x)\n",
        "meta_df"
      ]
    },
    {
      "cell_type": "markdown",
      "metadata": {
        "id": "Bllz0xnSn6Gv"
      },
      "source": [
        "Flatten and normalize the images **(P1-2: 10 points)**\n",
        "\n",
        "Note: For this part, normalization only means dividing by 255."
      ]
    },
    {
      "cell_type": "code",
      "execution_count": 108,
      "metadata": {
        "colab": {
          "base_uri": "https://localhost:8080/"
        },
        "id": "mcAT92tIvMk_",
        "outputId": "9f92cb59-3d6a-4e9e-f6b9-5a768c89de8e"
      },
      "outputs": [
        {
          "output_type": "execute_result",
          "data": {
            "text/plain": [
              "(400, 4096)"
            ]
          },
          "metadata": {},
          "execution_count": 108
        }
      ],
      "source": [
        "x_flatten = []\n",
        "for image in x:\n",
        "  x_flatten.append((image/255).flatten())\n",
        "x = np.array(x_flatten).copy()\n",
        "x.shape"
      ]
    },
    {
      "cell_type": "markdown",
      "metadata": {
        "id": "ZyXQqbNLuAJg"
      },
      "source": [
        "Encode the labels using `LabelEncoder` and save the result as a numpy array called `y` **(P1-3: 5 points)**"
      ]
    },
    {
      "cell_type": "code",
      "execution_count": 109,
      "metadata": {
        "colab": {
          "base_uri": "https://localhost:8080/"
        },
        "id": "rz1_cg3ipHLE",
        "outputId": "7c953a4d-8d59-44a5-e4c4-269510ff3e1f"
      },
      "outputs": [
        {
          "output_type": "execute_result",
          "data": {
            "text/plain": [
              "array([17, 17, 17, 17, 17, 17, 17, 17, 17, 17, 33, 33, 33, 33, 33, 33, 33,\n",
              "       33, 33, 33,  2,  2,  2,  2,  2,  2,  2,  2,  2,  2, 37, 37, 37, 37,\n",
              "       37, 37, 37, 37, 37, 37, 36, 36, 36, 36, 36, 36, 36, 36, 36, 36, 11,\n",
              "       11, 11, 11, 11, 11, 11, 11, 11, 11,  5,  5,  5,  5,  5,  5,  5,  5,\n",
              "        5,  5, 38, 38, 38, 38, 38, 38, 38, 38, 38, 38, 18, 18, 18, 18, 18,\n",
              "       18, 18, 18, 18, 18,  1,  1,  1,  1,  1,  1,  1,  1,  1,  1, 19, 19,\n",
              "       19, 19, 19, 19, 19, 19, 19, 19,  9,  9,  9,  9,  9,  9,  9,  9,  9,\n",
              "        9, 32, 32, 32, 32, 32, 32, 32, 32, 32, 32, 10, 10, 10, 10, 10, 10,\n",
              "       10, 10, 10, 10, 29, 29, 29, 29, 29, 29, 29, 29, 29, 29,  6,  6,  6,\n",
              "        6,  6,  6,  6,  6,  6,  6, 30, 30, 30, 30, 30, 30, 30, 30, 30, 30,\n",
              "        3,  3,  3,  3,  3,  3,  3,  3,  3,  3,  4,  4,  4,  4,  4,  4,  4,\n",
              "        4,  4,  4, 35, 35, 35, 35, 35, 35, 35, 35, 35, 35, 28, 28, 28, 28,\n",
              "       28, 28, 28, 28, 28, 28, 31, 31, 31, 31, 31, 31, 31, 31, 31, 31, 24,\n",
              "       24, 24, 24, 24, 24, 24, 24, 24, 24,  0,  0,  0,  0,  0,  0,  0,  0,\n",
              "        0,  0, 15, 15, 15, 15, 15, 15, 15, 15, 15, 15, 22, 22, 22, 22, 22,\n",
              "       22, 22, 22, 22, 22,  8,  8,  8,  8,  8,  8,  8,  8,  8,  8, 23, 23,\n",
              "       23, 23, 23, 23, 23, 23, 23, 23, 16, 16, 16, 16, 16, 16, 16, 16, 16,\n",
              "       16, 30, 30, 30, 30, 30, 30, 30, 30, 30, 30, 25, 25, 25, 25, 25, 25,\n",
              "       25, 25, 25, 25, 26, 26, 26, 26, 26, 26, 26, 26, 26, 26, 13, 13, 13,\n",
              "       13, 13, 13, 13, 13, 13, 13, 14, 14, 14, 14, 14, 14, 14, 14, 14, 14,\n",
              "       12, 12, 12, 12, 12, 12, 12, 12, 12, 12, 20, 20, 20, 20, 20, 20, 20,\n",
              "       20, 20, 20, 21, 21, 21, 21, 21, 21, 21, 21, 21, 21,  7,  7,  7,  7,\n",
              "        7,  7,  7,  7,  7,  7, 27, 27, 27, 27, 27, 27, 27, 27, 27, 27, 34,\n",
              "       34, 34, 34, 34, 34, 34, 34, 34, 34])"
            ]
          },
          "metadata": {},
          "execution_count": 109
        }
      ],
      "source": [
        "le = LabelEncoder()\n",
        "encoded_column = le.fit_transform(meta_df['label'].values)\n",
        "y = np.array(encoded_column)\n",
        "y"
      ]
    },
    {
      "cell_type": "markdown",
      "metadata": {
        "id": "o4yGbT6HuDks"
      },
      "source": [
        "Split the data into training (80%), validation (10%), and testing (10%) parts. **(P1-4: 10 points)**\n",
        "\n",
        "Note: The split procedure should maintain the class balance. This is sometimes called \"[stratified sampling](https://en.wikipedia.org/wiki/Stratified_sampling)\"."
      ]
    },
    {
      "cell_type": "code",
      "execution_count": 110,
      "metadata": {
        "colab": {
          "base_uri": "https://localhost:8080/"
        },
        "id": "MtOoeS0ewOye",
        "outputId": "a6120685-7f8f-455c-aa74-40255697d022"
      },
      "outputs": [
        {
          "output_type": "execute_result",
          "data": {
            "text/plain": [
              "((320, 4096), (40, 4096), (40, 4096), (320,), (40,), (40,))"
            ]
          },
          "metadata": {},
          "execution_count": 110
        }
      ],
      "source": [
        "x_train, x_test, y_train, y_test = train_test_split(x, y, test_size=0.1, random_state=1, stratify = y)\n",
        "x_train, x_val, y_train, y_val = train_test_split(x_train, y_train, test_size=(1/9), random_state=1, stratify = y_train) #1/9 * 0.9 = 0.1\n",
        "x_train.shape, x_val.shape, x_test.shape, y_train.shape, y_val.shape, y_test.shape"
      ]
    },
    {
      "cell_type": "markdown",
      "metadata": {
        "id": "G8YV5obFxgmr"
      },
      "source": [
        "# Sec 2: SVM"
      ]
    },
    {
      "cell_type": "markdown",
      "metadata": {
        "id": "ZhlriGrP1T9q"
      },
      "source": [
        "## Subsec 2.1."
      ]
    },
    {
      "cell_type": "markdown",
      "metadata": {
        "id": "5n0SLDtE0vih"
      },
      "source": [
        "Train a SVM using `sklearn`. Note that the hyperparameter tuning should be done using the \"validation\" set. **(P2-1-1: 20 points)**"
      ]
    },
    {
      "cell_type": "code",
      "execution_count": 111,
      "metadata": {
        "colab": {
          "base_uri": "https://localhost:8080/"
        },
        "id": "LBA5UHB9_4Sr",
        "outputId": "f9fcaa5d-e862-4e78-dda3-af26d7e678d2"
      },
      "outputs": [
        {
          "output_type": "execute_result",
          "data": {
            "text/plain": [
              "{'C': 0.1,\n",
              " 'break_ties': False,\n",
              " 'cache_size': 200,\n",
              " 'class_weight': None,\n",
              " 'coef0': 0.0,\n",
              " 'decision_function_shape': 'ovr',\n",
              " 'degree': 3,\n",
              " 'gamma': 0.0001,\n",
              " 'kernel': 'linear',\n",
              " 'max_iter': -1,\n",
              " 'probability': False,\n",
              " 'random_state': None,\n",
              " 'shrinking': True,\n",
              " 'tol': 1e-06,\n",
              " 'verbose': False}"
            ]
          },
          "metadata": {},
          "execution_count": 111
        }
      ],
      "source": [
        "from sklearn.svm import SVC\n",
        "from sklearn.model_selection import ParameterGrid\n",
        "## PARAMETER SETTING\n",
        "C_parameter = np.logspace(-1, 3, 5)\n",
        "kernel_parameter = ['linear', 'rbf', 'poly', 'sigmoid']\n",
        "gamma_parameter = np.logspace(-4, 1, 5)\n",
        "tolerance_parameter = np.logspace(-6, -3, 4)\n",
        "tuning_parameters = {'C':C_parameter,\n",
        "                     'kernel': kernel_parameter,\n",
        "                     'gamma': gamma_parameter,\n",
        "                     'tolerance': tolerance_parameter}\n",
        "# degree_parameter = np.arange(1, 6) #only applicable in poly kernel\n",
        "# coef_parameter = np.logspace(-1, 1, 3) #only applicable in poly and sigmoid kernels\n",
        "\n",
        "## PARAMETER TUNING\n",
        "best_score = 0\n",
        "best_params = dict()\n",
        "param_grid = ParameterGrid(tuning_parameters)\n",
        "for param in param_grid:\n",
        "  sklearn_svm_tuning = SVC(C = param['C'], kernel = param['kernel'], gamma = param['gamma'], tol = param['tolerance'])\n",
        "  sklearn_svm_tuning.fit(x_train, y_train)\n",
        "  score = sklearn_svm_tuning.score(x_val, y_val)\n",
        "  if score > best_score:\n",
        "    best_score = score\n",
        "    best_params = param\n",
        "\n",
        "## LEARNING\n",
        "sklearn_svm = SVC(C = best_params['C'], kernel = best_params['kernel'], gamma = best_params['gamma'], tol = best_params['tolerance'])\n",
        "sklearn_svm.fit(x_train, y_train)\n",
        "sklearn_svm.get_params()"
      ]
    },
    {
      "cell_type": "markdown",
      "metadata": {
        "id": "mP97Fgtq03I9"
      },
      "source": [
        "Report the accuracy and F1-score of the classifier on the testing set **(P2-1-2: 10 points)**"
      ]
    },
    {
      "cell_type": "code",
      "execution_count": 112,
      "metadata": {
        "colab": {
          "base_uri": "https://localhost:8080/"
        },
        "id": "9hAz00vB1S8O",
        "outputId": "df5fc083-6568-4042-87f1-c0801db372e4"
      },
      "outputs": [
        {
          "output_type": "stream",
          "name": "stdout",
          "text": [
            "accuracy: 1.0\n",
            "f1: 1.0\n"
          ]
        }
      ],
      "source": [
        "from sklearn.metrics import f1_score\n",
        "def f1_single_class(actual, predicted, label):\n",
        "    \"\"\" A helper function to calculate f1-score for the given `label` \"\"\"\n",
        "\n",
        "    tp = np.sum((actual==label) & (predicted==label))\n",
        "    fp = np.sum((actual!=label) & (predicted==label))\n",
        "    fn = np.sum((predicted!=label) & (actual==label))\n",
        "\n",
        "    precision = tp/(tp+fp)\n",
        "    recall = tp/(tp+fn)\n",
        "\n",
        "    if precision != 0 and recall != 0:\n",
        "      f1 = (2 * precision * recall) / (precision + recall)\n",
        "    else:\n",
        "      f1 = 0\n",
        "    # f1 = 2 * (precision * recall) / (precision + recall)\n",
        "    return f1\n",
        "\n",
        "def calculate_f1(actual, predicted):\n",
        "    return np.mean([f1_single_class(actual, predicted, label)\n",
        "        for label in np.unique(actual)])\n",
        "\n",
        "sklearn_svm_predictions = sklearn_svm.predict(x_test)\n",
        "# print(sklearn_svm_predictions)\n",
        "print(f'accuracy: {sklearn_svm.score(x_test, y_test)}')\n",
        "f1_score = f1_score(y_test, np.array(sklearn_svm_predictions), average = 'macro')\n",
        "# f1_score_manual = calculate_f1(y_test, np.array(sklearn_svm_predictions))\n",
        "print(f'f1: {f1_score}')"
      ]
    },
    {
      "cell_type": "markdown",
      "metadata": {
        "id": "JsaU0aq71ctB"
      },
      "source": [
        "## Subsec 2.2."
      ]
    },
    {
      "cell_type": "markdown",
      "metadata": {
        "id": "N-xU9teJ1gwq"
      },
      "source": [
        "Train a SVM from scratch using the following class **(P2-2-1: 40 points)**\n",
        "\n",
        "Note: For this part, you are not required to use the validation set for hyperparameter tuning. However, you might get better results if you do that."
      ]
    },
    {
      "cell_type": "code",
      "execution_count": 113,
      "metadata": {
        "id": "rxOy4Ino1fHF"
      },
      "outputs": [],
      "source": [
        "from cvxopt import matrix, solvers\n",
        "solvers.options['show_progress'] = False\n",
        "class SVM:\n",
        "  def linear_kernel(self, x1, x2):\n",
        "    return np.inner(x1, x2)\n",
        "\n",
        "  def poly_kernel(self, x1, x2):\n",
        "    return (np.inner(x1, x2) + self.coef0)**self.degree\n",
        "\n",
        "  def rbf_kernel(self, x1, x2):\n",
        "    distance = np.linalg.norm(x1 - x2) ** 2\n",
        "    return np.exp(-self.gamma * distance)\n",
        "\n",
        "  def get_kernel_matrix(self, X):\n",
        "    kernel_matrix = np.zeros((self.n_samples, self.n_samples))\n",
        "    for i in range(self.n_samples):\n",
        "      for j in range(self.n_samples):\n",
        "        kernel_matrix[i, j] = self.kernel_method(X[i], X[j])\n",
        "    return kernel_matrix\n",
        "\n",
        "  def get_QP_matrices(self, X, y, kernel_matrix):\n",
        "    P = matrix(np.outer(y, y) * kernel_matrix, tc='d')\n",
        "    q = matrix(np.ones(self.n_samples) * -1)\n",
        "    # A = matrix(y, (1, self.n_samples), tc='d')\n",
        "    A = matrix(y.reshape(1, -1), tc = 'd')\n",
        "    b = matrix(0, tc='d')\n",
        "    if self.C:\n",
        "      G = matrix(np.vstack((np.identity(self.n_samples) * -1, np.identity(self.n_samples))))\n",
        "      # h = matrix(np.vstack((np.zeros(self.n_samples), np.ones(self.n_samples) * self.C)))\n",
        "      h = matrix(np.hstack((np.zeros(self.n_samples), np.ones(self.n_samples) * self.C)))\n",
        "    else:\n",
        "      G = matrix(np.identity(self.n_samples) * -1)\n",
        "      h = matrix(np.zeros(self.n_samples))\n",
        "    return P, q, A, b, G, h\n",
        "\n",
        "  def __init__(self, C=1, kernel='linear', degree=3, gamma=None, coef0=0):\n",
        "    #defaulted to sklearn defaults\n",
        "    self.C = C\n",
        "    self.kernel = kernel\n",
        "    self.degree = degree\n",
        "    self.gamma = gamma\n",
        "    self.coef0 = coef0\n",
        "    self.n_samples = None\n",
        "    self.n_features = None\n",
        "    self.alphas = None\n",
        "    self.support_vectors = None\n",
        "    self.support_vectors_y = None\n",
        "    self.intercept = None\n",
        "\n",
        "  def fit(self, X, y):\n",
        "      \"\"\"Fit the SVM model to dataset X in one-vs-one manner.\n",
        "\n",
        "      Parameters\n",
        "      ----------\n",
        "      X : array-like of shape (n_samples, n_features)\n",
        "          Training data, where `n_samples` is the number of samples\n",
        "          and `n_features` is the number of features.\n",
        "\n",
        "      y : array-like of shape (n_samples,)\n",
        "          Training labels, where `n_samples` is the number of samples.\n",
        "\n",
        "      Returns\n",
        "      -------\n",
        "      self : object\n",
        "          Returns the instance itself.\n",
        "      \"\"\"\n",
        "\n",
        "      # STEPS (For each of the classifiers you would need to train)\n",
        "      # 1. Setup SVM objective function in QP form\n",
        "      # 2. Solve the QP problem and get the optimal lagrange multipliers\n",
        "      # 3. Get support vectors and calculate the weight vector\n",
        "      self.n_samples, self.n_features = np.shape(X)\n",
        "\n",
        "      if not self.gamma:\n",
        "        #default value set in sklearn package\n",
        "        self.gamma = 1 / self.n_features\n",
        "\n",
        "      #Initialize kernel\n",
        "      if self.kernel.lower() == 'rbf':\n",
        "        self.kernel_method = self.rbf_kernel\n",
        "      elif self.kernel.lower() == 'poly' or self.kernel.lower() == 'polynomial':\n",
        "        self.kernel_method = self.poly_kernel\n",
        "      else:\n",
        "        self.kernel_method = self.linear_kernel\n",
        "\n",
        "      kernel_matrix = self.get_kernel_matrix(X)\n",
        "\n",
        "      #Optimization based on the following formula:\n",
        "      #minimize (1/2)x^TPx+q^Tx s.t Ax=b & Gx<=h\n",
        "      P, q, A, b, G, h = self.get_QP_matrices(X, y, kernel_matrix)\n",
        "      solution = solvers.qp(P, q, G, h, A, b)\n",
        "      alphas = np.ravel(solution['x'])\n",
        "      idx = alphas > 1e-4\n",
        "      self.support_vectors = X[idx]\n",
        "      self.support_vectors_y = y[idx]\n",
        "      self.alphas = alphas[idx]\n",
        "\n",
        "      #Calculate bias (can't have the weight matrix since we don't have the transformed data yet)\n",
        "      self.intercept = self.support_vectors_y[0]\n",
        "      for i in range(len(self.alphas)):\n",
        "        self.intercept -= self.alphas[i] * self.support_vectors_y[i] * self.kernel_method(self.support_vectors[i], self.support_vectors[0])\n",
        "\n",
        "      return self\n",
        "\n",
        "  def predict(self, x):\n",
        "    prediction = 0\n",
        "    # Determine the label of the sample by the support vectors\n",
        "    for i in range(len(self.alphas)):\n",
        "      prediction += self.alphas[i] * self.support_vectors_y[i] * self.kernel_method(self.support_vectors[i], x)\n",
        "    prediction += self.intercept\n",
        "    return np.sign(prediction)\n",
        "\n",
        "\n",
        "  def transform(self, X):\n",
        "      \"\"\"Fit the model with X and apply the dimensionality reduction on X.\n",
        "\n",
        "      Parameters\n",
        "      ----------\n",
        "      X : array-like of shape (n_samples, n_features)\n",
        "          Training data, where `n_samples` is the number of samples\n",
        "          and `n_features` is the number of features.\n",
        "\n",
        "      Returns\n",
        "      -------\n",
        "      y_pred : ndarray of shape (n_samples)\n",
        "          Your predictions for the class of each sample\n",
        "      \"\"\"\n",
        "      y_pred = [self.predict(x) for x in X]\n",
        "      return np.array(y_pred)"
      ]
    },
    {
      "cell_type": "markdown",
      "metadata": {
        "id": "j193U_4l2d6_"
      },
      "source": [
        "Report the accuracy and F1-score of the classifier on the testing set **(P2-2-2: 10 points)**"
      ]
    },
    {
      "cell_type": "code",
      "execution_count": 114,
      "metadata": {
        "colab": {
          "base_uri": "https://localhost:8080/"
        },
        "id": "gC9xLewr2euh",
        "outputId": "6eab5630-c527-489f-eff6-2c5e43e615e2"
      },
      "outputs": [
        {
          "output_type": "stream",
          "name": "stdout",
          "text": [
            "[16, 28, 13, 18, 30, 3, 15, 14, 34, 25, 2, 36, 12, 17, 8, 38, 37, 30, 31, 27, 33, 24, 35, 29, 7, 11, 5, 6, 23, 1, 22, 32, 10, 21, 26, 0, 9, 4, 20, 19]\n",
            "accuracy score: 1.0\n",
            "f1 score: 1.0\n"
          ]
        }
      ],
      "source": [
        "import itertools\n",
        "from collections import Counter\n",
        "from sklearn.metrics import f1_score, accuracy_score\n",
        "# def convert_raw_model_prediction(model_prediction, model):\n",
        "#   return\n",
        "\n",
        "#Get all possible pairwise possiblities\n",
        "one_vs_one_pairs = list(itertools.combinations(np.unique(y_train), 2))\n",
        "\n",
        "models = []\n",
        "#Train all pairwise models\n",
        "for one_vs_one_pair in one_vs_one_pairs:\n",
        "  pair_idx = np.append(np.where(y_train == one_vs_one_pair[0])[0], np.where(y_train == one_vs_one_pair[1])[0])\n",
        "  pair_x = x_train[pair_idx]\n",
        "  pair_y = y_train[pair_idx]\n",
        "  transform_func = np.vectorize(lambda cl: -1 if cl==one_vs_one_pair[0] else 1)\n",
        "  pair_y = transform_func(pair_y)\n",
        "\n",
        "  models.append((SVM().fit(pair_x, pair_y), one_vs_one_pair[0], one_vs_one_pair[1]))\n",
        "\n",
        "predictions = []\n",
        "for model in models:\n",
        "  model_predictions = model[0].transform(x_test)\n",
        "  transform_func = np.vectorize(lambda cl: model[1] if cl == -1 else model[2])\n",
        "  model_predictions = transform_func(model_predictions)\n",
        "  predictions.append(model_predictions.tolist())\n",
        "\n",
        "predictions = np.array(predictions)\n",
        "y_pred = []\n",
        "for i in range(len(x_test)):\n",
        "  y_pred.append(Counter(predictions[:, i]).most_common(1)[0][0])\n",
        "print(y_pred)\n",
        "print(f\"accuracy score: {accuracy_score(y_test, np.array(y_pred))}\")\n",
        "print(f\"f1 score: {f1_score(y_test, np.array(y_pred), average = 'macro')}\")"
      ]
    },
    {
      "cell_type": "markdown",
      "metadata": {
        "id": "rRmd_iUI1mn-"
      },
      "source": [
        "# Sec 3: PCA"
      ]
    },
    {
      "cell_type": "markdown",
      "metadata": {
        "id": "rjYFWT1-2jNg"
      },
      "source": [
        "Fetch all images taken from `jones`, `taylor`, `anderson` and `wilson` (use the `labelencoder` object). Perform PCA from scratch using the following `class` to reduce the dimension of those images to 3. Save the results as a `numpy` array of shape `(40, 3)`. **(P3-1: 30 points)**"
      ]
    },
    {
      "cell_type": "code",
      "execution_count": 115,
      "metadata": {
        "id": "nz8BZ31S2h7d"
      },
      "outputs": [],
      "source": [
        "class PCA:\n",
        "    def __init__(self, n_components = 3):\n",
        "        self.n_components = n_components\n",
        "        self.components_ = None\n",
        "        self.mean = None\n",
        "\n",
        "    def fit(self, X):\n",
        "        \"\"\"Fit the model with X.\n",
        "\n",
        "        Parameters\n",
        "        ----------\n",
        "        X : array-like of shape (n_samples, n_features)\n",
        "            Training data, where `n_samples` is the number of samples\n",
        "            and `n_features` is the number of features.\n",
        "\n",
        "        Returns\n",
        "        -------\n",
        "        self : object\n",
        "            Returns the instance itself.\n",
        "        \"\"\"\n",
        "        self.components_ = None\n",
        "        self.mean = np.mean(X, axis=0)\n",
        "        #mean centering the data\n",
        "        X = X - self.mean\n",
        "\n",
        "        cov = np.cov(X.T)\n",
        "\n",
        "        #eigenvalues and eigenvectors of the covariance matrix\n",
        "        eigenvalues, eigenvectors = np.linalg.eig(cov)\n",
        "\n",
        "        idxs = np.argsort(eigenvalues)[::-1]\n",
        "        eigenvalues = eigenvalues[idxs]\n",
        "        eigenvectors = eigenvectors[:, idxs]\n",
        "\n",
        "        self.components_ = eigenvectors[:, :self.n_components]\n",
        "\n",
        "\n",
        "        return self\n",
        "\n",
        "    def transform(self, X):\n",
        "        \"\"\"Fit the model with X and apply the dimensionality reduction on X.\n",
        "\n",
        "        Parameters\n",
        "        ----------\n",
        "        X : array-like of shape (n_samples, n_features)\n",
        "            Training data, where `n_samples` is the number of samples\n",
        "            and `n_features` is the number of features.\n",
        "\n",
        "        Returns\n",
        "        -------\n",
        "        X_new : ndarray of shape (n_samples, n_components)\n",
        "            Transformed values.\n",
        "        \"\"\"\n",
        "        assert self.components_ is not None\n",
        "\n",
        "        X = X - self.mean\n",
        "        return np.dot(X, self.components_)"
      ]
    },
    {
      "cell_type": "code",
      "execution_count": 116,
      "metadata": {
        "id": "aC32bpqpgtc-",
        "colab": {
          "base_uri": "https://localhost:8080/"
        },
        "outputId": "bb0e28b5-dd6b-4613-d899-dbbf8d4331a1"
      },
      "outputs": [
        {
          "output_type": "execute_result",
          "data": {
            "text/plain": [
              "(40, 3)"
            ]
          },
          "metadata": {},
          "execution_count": 116
        }
      ],
      "source": [
        "names = ['jones', 'taylor', 'anderson', 'wilson']\n",
        "transformed_xs = []\n",
        "transformed_ys = []\n",
        "for name in names:\n",
        "  transformed = le.transform([name])[0]\n",
        "  idx = np.where(y == transformed)\n",
        "  transformed_xs.extend(x[idx])\n",
        "  transformed_ys.extend(y[idx])\n",
        "\n",
        "transformed_ys = np.array(transformed_ys)\n",
        "transformed_xs = np.array(transformed_xs)\n",
        "pca = PCA(3)\n",
        "pca = pca.fit(transformed_xs)\n",
        "transformed_xs = pca.transform(transformed_xs)\n",
        "transformed_xs = np.real(transformed_xs)\n",
        "transformed_xs.shape"
      ]
    },
    {
      "cell_type": "markdown",
      "metadata": {
        "id": "XpkXp5u83EPx"
      },
      "source": [
        "Use `plotly` to plot these 3D samples. You should use their labels as the determiner of their color. **(P3-2: 10 points)**"
      ]
    },
    {
      "cell_type": "code",
      "execution_count": 117,
      "metadata": {
        "id": "upHyFtFL2CBE",
        "colab": {
          "base_uri": "https://localhost:8080/",
          "height": 542
        },
        "outputId": "b6a42f4b-0fca-4599-8609-6f8224c1099b"
      },
      "outputs": [
        {
          "output_type": "display_data",
          "data": {
            "text/html": [
              "<html>\n",
              "<head><meta charset=\"utf-8\" /></head>\n",
              "<body>\n",
              "    <div>            <script src=\"https://cdnjs.cloudflare.com/ajax/libs/mathjax/2.7.5/MathJax.js?config=TeX-AMS-MML_SVG\"></script><script type=\"text/javascript\">if (window.MathJax && window.MathJax.Hub && window.MathJax.Hub.Config) {window.MathJax.Hub.Config({SVG: {font: \"STIX-Web\"}});}</script>                <script type=\"text/javascript\">window.PlotlyConfig = {MathJaxConfig: 'local'};</script>\n",
              "        <script src=\"https://cdn.plot.ly/plotly-2.18.2.min.js\"></script>                <div id=\"c5548c7d-a61a-473a-9de5-4e5ad999f4a3\" class=\"plotly-graph-div\" style=\"height:525px; width:100%;\"></div>            <script type=\"text/javascript\">                                    window.PLOTLYENV=window.PLOTLYENV || {};                                    if (document.getElementById(\"c5548c7d-a61a-473a-9de5-4e5ad999f4a3\")) {                    Plotly.newPlot(                        \"c5548c7d-a61a-473a-9de5-4e5ad999f4a3\",                        [{\"hovertemplate\":\"names=jones<br>component 1=%{x}<br>component 2=%{y}<br>component 3=%{z}<extra></extra>\",\"legendgroup\":\"jones\",\"marker\":{\"color\":\"#636efa\",\"symbol\":\"circle\"},\"mode\":\"markers\",\"name\":\"jones\",\"scene\":\"scene\",\"showlegend\":true,\"x\":[1.3730837230637813,-5.937131179901282,0.608584138104835,11.358136305661937,-0.973341504325059,7.636008198735952,0.8407952948197649,5.605535714423593,2.8864913348174865,-0.40192890197196574],\"y\":[6.218770574574511,1.9325320033524254,5.099505988643201,1.001592039088378,2.857533788121348,2.714806605270328,6.0726084738671755,4.230971092563124,6.574297088821655,0.3301265749784474],\"z\":[-1.209336634338861,-5.918058071286765,-2.2058006330087294,3.6269713999094693,-5.8200416439333775,2.3814955244568567,0.7399026132323764,-1.17461347181347,-0.5326249837787191,-6.234345936100191],\"type\":\"scatter3d\"},{\"hovertemplate\":\"names=taylor<br>component 1=%{x}<br>component 2=%{y}<br>component 3=%{z}<extra></extra>\",\"legendgroup\":\"taylor\",\"marker\":{\"color\":\"#EF553B\",\"symbol\":\"circle\"},\"mode\":\"markers\",\"name\":\"taylor\",\"scene\":\"scene\",\"showlegend\":true,\"x\":[-2.007309506300921,-4.570726899488748,-3.6181161547823475,-5.400072566804912,-3.644772900608528,-5.7136011918796346,-2.403825960877196,-3.6963097235373024,-6.362088080200892,-2.461091288257145],\"y\":[1.3360448244898049,1.8312472981024364,1.3245720639463447,0.6642191790758256,2.1449472768422986,0.8823557624588899,-1.1720222489218444,0.12561347620765265,0.5606916175831876,0.18915638097276116],\"z\":[4.1730732394419485,2.943654961229344,2.4198963143380388,2.7228315891154495,3.531352809560856,2.4878685176720436,3.431033727900313,3.725098274294067,2.6467579623950797,3.693659731697971],\"type\":\"scatter3d\"},{\"hovertemplate\":\"names=anderson<br>component 1=%{x}<br>component 2=%{y}<br>component 3=%{z}<extra></extra>\",\"legendgroup\":\"anderson\",\"marker\":{\"color\":\"#00cc96\",\"symbol\":\"circle\"},\"mode\":\"markers\",\"name\":\"anderson\",\"scene\":\"scene\",\"showlegend\":true,\"x\":[-1.5978510298864825,-2.6951408702580495,-2.859170288511674,2.500542005616399,3.683602214179009,2.88496363637552,5.404853094854191,6.7015556714388715,1.8287309019674893,0.8488716120003289],\"y\":[-5.584499960643083,-5.469106556373193,-4.647488693443227,-6.308598542659313,-5.637820765337451,-3.5856068553508775,-2.0174270643267507,-3.734724364759404,-0.16475533063092598,-0.6142414855600975],\"z\":[-2.8952624611042546,-2.632766780894829,-2.6243923070114086,1.4250917328359107,1.9674794868666667,-1.6620329782284102,-2.1160864738177967,-0.6313585185185692,-3.924736497952602,-4.545122665434308],\"type\":\"scatter3d\"},{\"hovertemplate\":\"names=wilson<br>component 1=%{x}<br>component 2=%{y}<br>component 3=%{z}<extra></extra>\",\"legendgroup\":\"wilson\",\"marker\":{\"color\":\"#ab63fa\",\"symbol\":\"circle\"},\"mode\":\"markers\",\"name\":\"wilson\",\"scene\":\"scene\",\"showlegend\":true,\"x\":[0.20486141749149495,-2.969088605229519,1.2627848111387419,0.5633573036599229,-1.719634496547673,6.5186705359842465,2.0242769084474945,1.0031432393199304,-2.7910069107522557,-3.916640001979453],\"y\":[-1.5934235444705145,-1.197672281369962,-3.044844352953064,0.8789898989242908,0.23034781059113876,-0.30080825653045673,1.3494165790461121,-1.7039303113801836,-1.7682232672989444,-0.005152515512234612],\"z\":[1.60061663543993,-0.14897337412675188,2.243140437561551,-1.4332183812567676,-2.785255970833633,2.277929225825624,-0.7852380798124292,2.309317797905353,2.0036655416499163,-3.071571660076732],\"type\":\"scatter3d\"}],                        {\"template\":{\"data\":{\"histogram2dcontour\":[{\"type\":\"histogram2dcontour\",\"colorbar\":{\"outlinewidth\":0,\"ticks\":\"\"},\"colorscale\":[[0.0,\"#0d0887\"],[0.1111111111111111,\"#46039f\"],[0.2222222222222222,\"#7201a8\"],[0.3333333333333333,\"#9c179e\"],[0.4444444444444444,\"#bd3786\"],[0.5555555555555556,\"#d8576b\"],[0.6666666666666666,\"#ed7953\"],[0.7777777777777778,\"#fb9f3a\"],[0.8888888888888888,\"#fdca26\"],[1.0,\"#f0f921\"]]}],\"choropleth\":[{\"type\":\"choropleth\",\"colorbar\":{\"outlinewidth\":0,\"ticks\":\"\"}}],\"histogram2d\":[{\"type\":\"histogram2d\",\"colorbar\":{\"outlinewidth\":0,\"ticks\":\"\"},\"colorscale\":[[0.0,\"#0d0887\"],[0.1111111111111111,\"#46039f\"],[0.2222222222222222,\"#7201a8\"],[0.3333333333333333,\"#9c179e\"],[0.4444444444444444,\"#bd3786\"],[0.5555555555555556,\"#d8576b\"],[0.6666666666666666,\"#ed7953\"],[0.7777777777777778,\"#fb9f3a\"],[0.8888888888888888,\"#fdca26\"],[1.0,\"#f0f921\"]]}],\"heatmap\":[{\"type\":\"heatmap\",\"colorbar\":{\"outlinewidth\":0,\"ticks\":\"\"},\"colorscale\":[[0.0,\"#0d0887\"],[0.1111111111111111,\"#46039f\"],[0.2222222222222222,\"#7201a8\"],[0.3333333333333333,\"#9c179e\"],[0.4444444444444444,\"#bd3786\"],[0.5555555555555556,\"#d8576b\"],[0.6666666666666666,\"#ed7953\"],[0.7777777777777778,\"#fb9f3a\"],[0.8888888888888888,\"#fdca26\"],[1.0,\"#f0f921\"]]}],\"heatmapgl\":[{\"type\":\"heatmapgl\",\"colorbar\":{\"outlinewidth\":0,\"ticks\":\"\"},\"colorscale\":[[0.0,\"#0d0887\"],[0.1111111111111111,\"#46039f\"],[0.2222222222222222,\"#7201a8\"],[0.3333333333333333,\"#9c179e\"],[0.4444444444444444,\"#bd3786\"],[0.5555555555555556,\"#d8576b\"],[0.6666666666666666,\"#ed7953\"],[0.7777777777777778,\"#fb9f3a\"],[0.8888888888888888,\"#fdca26\"],[1.0,\"#f0f921\"]]}],\"contourcarpet\":[{\"type\":\"contourcarpet\",\"colorbar\":{\"outlinewidth\":0,\"ticks\":\"\"}}],\"contour\":[{\"type\":\"contour\",\"colorbar\":{\"outlinewidth\":0,\"ticks\":\"\"},\"colorscale\":[[0.0,\"#0d0887\"],[0.1111111111111111,\"#46039f\"],[0.2222222222222222,\"#7201a8\"],[0.3333333333333333,\"#9c179e\"],[0.4444444444444444,\"#bd3786\"],[0.5555555555555556,\"#d8576b\"],[0.6666666666666666,\"#ed7953\"],[0.7777777777777778,\"#fb9f3a\"],[0.8888888888888888,\"#fdca26\"],[1.0,\"#f0f921\"]]}],\"surface\":[{\"type\":\"surface\",\"colorbar\":{\"outlinewidth\":0,\"ticks\":\"\"},\"colorscale\":[[0.0,\"#0d0887\"],[0.1111111111111111,\"#46039f\"],[0.2222222222222222,\"#7201a8\"],[0.3333333333333333,\"#9c179e\"],[0.4444444444444444,\"#bd3786\"],[0.5555555555555556,\"#d8576b\"],[0.6666666666666666,\"#ed7953\"],[0.7777777777777778,\"#fb9f3a\"],[0.8888888888888888,\"#fdca26\"],[1.0,\"#f0f921\"]]}],\"mesh3d\":[{\"type\":\"mesh3d\",\"colorbar\":{\"outlinewidth\":0,\"ticks\":\"\"}}],\"scatter\":[{\"fillpattern\":{\"fillmode\":\"overlay\",\"size\":10,\"solidity\":0.2},\"type\":\"scatter\"}],\"parcoords\":[{\"type\":\"parcoords\",\"line\":{\"colorbar\":{\"outlinewidth\":0,\"ticks\":\"\"}}}],\"scatterpolargl\":[{\"type\":\"scatterpolargl\",\"marker\":{\"colorbar\":{\"outlinewidth\":0,\"ticks\":\"\"}}}],\"bar\":[{\"error_x\":{\"color\":\"#2a3f5f\"},\"error_y\":{\"color\":\"#2a3f5f\"},\"marker\":{\"line\":{\"color\":\"#E5ECF6\",\"width\":0.5},\"pattern\":{\"fillmode\":\"overlay\",\"size\":10,\"solidity\":0.2}},\"type\":\"bar\"}],\"scattergeo\":[{\"type\":\"scattergeo\",\"marker\":{\"colorbar\":{\"outlinewidth\":0,\"ticks\":\"\"}}}],\"scatterpolar\":[{\"type\":\"scatterpolar\",\"marker\":{\"colorbar\":{\"outlinewidth\":0,\"ticks\":\"\"}}}],\"histogram\":[{\"marker\":{\"pattern\":{\"fillmode\":\"overlay\",\"size\":10,\"solidity\":0.2}},\"type\":\"histogram\"}],\"scattergl\":[{\"type\":\"scattergl\",\"marker\":{\"colorbar\":{\"outlinewidth\":0,\"ticks\":\"\"}}}],\"scatter3d\":[{\"type\":\"scatter3d\",\"line\":{\"colorbar\":{\"outlinewidth\":0,\"ticks\":\"\"}},\"marker\":{\"colorbar\":{\"outlinewidth\":0,\"ticks\":\"\"}}}],\"scattermapbox\":[{\"type\":\"scattermapbox\",\"marker\":{\"colorbar\":{\"outlinewidth\":0,\"ticks\":\"\"}}}],\"scatterternary\":[{\"type\":\"scatterternary\",\"marker\":{\"colorbar\":{\"outlinewidth\":0,\"ticks\":\"\"}}}],\"scattercarpet\":[{\"type\":\"scattercarpet\",\"marker\":{\"colorbar\":{\"outlinewidth\":0,\"ticks\":\"\"}}}],\"carpet\":[{\"aaxis\":{\"endlinecolor\":\"#2a3f5f\",\"gridcolor\":\"white\",\"linecolor\":\"white\",\"minorgridcolor\":\"white\",\"startlinecolor\":\"#2a3f5f\"},\"baxis\":{\"endlinecolor\":\"#2a3f5f\",\"gridcolor\":\"white\",\"linecolor\":\"white\",\"minorgridcolor\":\"white\",\"startlinecolor\":\"#2a3f5f\"},\"type\":\"carpet\"}],\"table\":[{\"cells\":{\"fill\":{\"color\":\"#EBF0F8\"},\"line\":{\"color\":\"white\"}},\"header\":{\"fill\":{\"color\":\"#C8D4E3\"},\"line\":{\"color\":\"white\"}},\"type\":\"table\"}],\"barpolar\":[{\"marker\":{\"line\":{\"color\":\"#E5ECF6\",\"width\":0.5},\"pattern\":{\"fillmode\":\"overlay\",\"size\":10,\"solidity\":0.2}},\"type\":\"barpolar\"}],\"pie\":[{\"automargin\":true,\"type\":\"pie\"}]},\"layout\":{\"autotypenumbers\":\"strict\",\"colorway\":[\"#636efa\",\"#EF553B\",\"#00cc96\",\"#ab63fa\",\"#FFA15A\",\"#19d3f3\",\"#FF6692\",\"#B6E880\",\"#FF97FF\",\"#FECB52\"],\"font\":{\"color\":\"#2a3f5f\"},\"hovermode\":\"closest\",\"hoverlabel\":{\"align\":\"left\"},\"paper_bgcolor\":\"white\",\"plot_bgcolor\":\"#E5ECF6\",\"polar\":{\"bgcolor\":\"#E5ECF6\",\"angularaxis\":{\"gridcolor\":\"white\",\"linecolor\":\"white\",\"ticks\":\"\"},\"radialaxis\":{\"gridcolor\":\"white\",\"linecolor\":\"white\",\"ticks\":\"\"}},\"ternary\":{\"bgcolor\":\"#E5ECF6\",\"aaxis\":{\"gridcolor\":\"white\",\"linecolor\":\"white\",\"ticks\":\"\"},\"baxis\":{\"gridcolor\":\"white\",\"linecolor\":\"white\",\"ticks\":\"\"},\"caxis\":{\"gridcolor\":\"white\",\"linecolor\":\"white\",\"ticks\":\"\"}},\"coloraxis\":{\"colorbar\":{\"outlinewidth\":0,\"ticks\":\"\"}},\"colorscale\":{\"sequential\":[[0.0,\"#0d0887\"],[0.1111111111111111,\"#46039f\"],[0.2222222222222222,\"#7201a8\"],[0.3333333333333333,\"#9c179e\"],[0.4444444444444444,\"#bd3786\"],[0.5555555555555556,\"#d8576b\"],[0.6666666666666666,\"#ed7953\"],[0.7777777777777778,\"#fb9f3a\"],[0.8888888888888888,\"#fdca26\"],[1.0,\"#f0f921\"]],\"sequentialminus\":[[0.0,\"#0d0887\"],[0.1111111111111111,\"#46039f\"],[0.2222222222222222,\"#7201a8\"],[0.3333333333333333,\"#9c179e\"],[0.4444444444444444,\"#bd3786\"],[0.5555555555555556,\"#d8576b\"],[0.6666666666666666,\"#ed7953\"],[0.7777777777777778,\"#fb9f3a\"],[0.8888888888888888,\"#fdca26\"],[1.0,\"#f0f921\"]],\"diverging\":[[0,\"#8e0152\"],[0.1,\"#c51b7d\"],[0.2,\"#de77ae\"],[0.3,\"#f1b6da\"],[0.4,\"#fde0ef\"],[0.5,\"#f7f7f7\"],[0.6,\"#e6f5d0\"],[0.7,\"#b8e186\"],[0.8,\"#7fbc41\"],[0.9,\"#4d9221\"],[1,\"#276419\"]]},\"xaxis\":{\"gridcolor\":\"white\",\"linecolor\":\"white\",\"ticks\":\"\",\"title\":{\"standoff\":15},\"zerolinecolor\":\"white\",\"automargin\":true,\"zerolinewidth\":2},\"yaxis\":{\"gridcolor\":\"white\",\"linecolor\":\"white\",\"ticks\":\"\",\"title\":{\"standoff\":15},\"zerolinecolor\":\"white\",\"automargin\":true,\"zerolinewidth\":2},\"scene\":{\"xaxis\":{\"backgroundcolor\":\"#E5ECF6\",\"gridcolor\":\"white\",\"linecolor\":\"white\",\"showbackground\":true,\"ticks\":\"\",\"zerolinecolor\":\"white\",\"gridwidth\":2},\"yaxis\":{\"backgroundcolor\":\"#E5ECF6\",\"gridcolor\":\"white\",\"linecolor\":\"white\",\"showbackground\":true,\"ticks\":\"\",\"zerolinecolor\":\"white\",\"gridwidth\":2},\"zaxis\":{\"backgroundcolor\":\"#E5ECF6\",\"gridcolor\":\"white\",\"linecolor\":\"white\",\"showbackground\":true,\"ticks\":\"\",\"zerolinecolor\":\"white\",\"gridwidth\":2}},\"shapedefaults\":{\"line\":{\"color\":\"#2a3f5f\"}},\"annotationdefaults\":{\"arrowcolor\":\"#2a3f5f\",\"arrowhead\":0,\"arrowwidth\":1},\"geo\":{\"bgcolor\":\"white\",\"landcolor\":\"#E5ECF6\",\"subunitcolor\":\"white\",\"showland\":true,\"showlakes\":true,\"lakecolor\":\"white\"},\"title\":{\"x\":0.05},\"mapbox\":{\"style\":\"light\"}}},\"scene\":{\"domain\":{\"x\":[0.0,1.0],\"y\":[0.0,1.0]},\"xaxis\":{\"title\":{\"text\":\"component 1\"}},\"yaxis\":{\"title\":{\"text\":\"component 2\"}},\"zaxis\":{\"title\":{\"text\":\"component 3\"}}},\"legend\":{\"title\":{\"text\":\"names\"},\"tracegroupgap\":0},\"margin\":{\"t\":60}},                        {\"responsive\": true}                    ).then(function(){\n",
              "                            \n",
              "var gd = document.getElementById('c5548c7d-a61a-473a-9de5-4e5ad999f4a3');\n",
              "var x = new MutationObserver(function (mutations, observer) {{\n",
              "        var display = window.getComputedStyle(gd).display;\n",
              "        if (!display || display === 'none') {{\n",
              "            console.log([gd, 'removed!']);\n",
              "            Plotly.purge(gd);\n",
              "            observer.disconnect();\n",
              "        }}\n",
              "}});\n",
              "\n",
              "// Listen for the removal of the full notebook cells\n",
              "var notebookContainer = gd.closest('#notebook-container');\n",
              "if (notebookContainer) {{\n",
              "    x.observe(notebookContainer, {childList: true});\n",
              "}}\n",
              "\n",
              "// Listen for the clearing of the current output cell\n",
              "var outputEl = gd.closest('.output');\n",
              "if (outputEl) {{\n",
              "    x.observe(outputEl, {childList: true});\n",
              "}}\n",
              "\n",
              "                        })                };                            </script>        </div>\n",
              "</body>\n",
              "</html>"
            ]
          },
          "metadata": {}
        }
      ],
      "source": [
        "transformed_named_ys = le.inverse_transform(transformed_ys)\n",
        "# transformed_named_ys.shape\n",
        "transformed_df_data = np.concatenate((transformed_xs, transformed_named_ys.reshape(-1, 1)), axis = 1)\n",
        "# transformed_df_data\n",
        "transformed_df = pd.DataFrame(transformed_df_data, columns = ['component 1', 'component 2', 'component 3', 'names'])\n",
        "fig = px.scatter_3d(transformed_df, x='component 1', y='component 2', z='component 3',\n",
        "              color='names')\n",
        "fig.show()"
      ]
    },
    {
      "cell_type": "markdown",
      "metadata": {
        "id": "05G8GNkq3ySI"
      },
      "source": [
        "# Sec 4: K-Means"
      ]
    },
    {
      "cell_type": "markdown",
      "metadata": {
        "id": "99sy2kUTNKAB"
      },
      "source": [
        "Using K-means, we want to perform clustering on the 3D samples. Consider 4 clusters. After running the K-means algorithm on the data, determine to which cluster each sample belongs. Then, use `plotly` to plot the 3D samples colored with respect to their clusters. **(P4-1: 15 points)**"
      ]
    },
    {
      "cell_type": "code",
      "execution_count": 118,
      "metadata": {
        "id": "SzNxiAjkOYYQ"
      },
      "outputs": [],
      "source": [
        "class KMeans:\n",
        "    \"\"\"\n",
        "    Fits it on data, then uses predict to get cluster labels.\n",
        "    \"\"\"\n",
        "\n",
        "    def __init__(self, k, max_iters = 500):\n",
        "        self.k = k\n",
        "        self.max_iters = max_iters\n",
        "        self.centroids = None\n",
        "\n",
        "    def closest_centroid_idx(self, x):\n",
        "      distances = np.linalg.norm(x - self.centroids, axis=1)\n",
        "      return np.argmin(distances)\n",
        "\n",
        "    def cluster(self, X, n_samples):\n",
        "      clusters = []\n",
        "      for i in range(n_samples):\n",
        "        clusters.append(self.closest_centroid_idx(X[i]))\n",
        "      return np.array(clusters)\n",
        "\n",
        "    def get_new_centroids(self, X, clusters):\n",
        "      centroids = []\n",
        "      for i in range(self.k):\n",
        "        cluster_samples = X[clusters == i]\n",
        "        cluster_centroid = np.mean(cluster_samples, axis=0)\n",
        "        centroids.append(cluster_centroid)\n",
        "      return np.array(centroids)\n",
        "\n",
        "    def fit(self, X, y):\n",
        "        \"\"\"Fits the training data\n",
        "        Parameters\n",
        "        ----------\n",
        "        x : array-like, shape = [n_samples, n_features]\n",
        "            Training samples\n",
        "        y : array-like, shape = [n_samples, n_target_values]\n",
        "            Target values\n",
        "        Returns\n",
        "        -------\n",
        "        self : object\n",
        "        \"\"\"\n",
        "\n",
        "        n_samples, n_features = X.shape\n",
        "        centroids_idx = np.random.choice(n_samples, self.k, replace=False)\n",
        "        self.centroids = X[centroids_idx, :]\n",
        "\n",
        "        for _ in range(self.max_iters):\n",
        "          clusters = self.cluster(X, n_samples)\n",
        "\n",
        "          previous_centroids = self.centroids\n",
        "\n",
        "          self.centroids = self.get_new_centroids(X, clusters)\n",
        "\n",
        "          diff = self.centroids - previous_centroids\n",
        "          if not diff.any(): #converged\n",
        "            break\n",
        "\n",
        "\n",
        "        return self\n",
        "\n",
        "    def predict(self, X):\n",
        "        \"\"\" Predicts the cluster label\n",
        "        Parameters\n",
        "        ----------\n",
        "        x : array-like, shape = [n_samples, n_features]\n",
        "            Test samples\n",
        "        Returns\n",
        "        -------\n",
        "        Predicted cluster label\n",
        "        \"\"\"\n",
        "\n",
        "        y_pred = self.cluster(X, X.shape[0])\n",
        "        return y_pred"
      ]
    },
    {
      "cell_type": "code",
      "execution_count": 119,
      "metadata": {
        "id": "spAwNfSITeT8",
        "colab": {
          "base_uri": "https://localhost:8080/"
        },
        "outputId": "6991ccc3-78e9-4290-a666-a80d53ee1143"
      },
      "outputs": [
        {
          "output_type": "execute_result",
          "data": {
            "text/plain": [
              "array([3, 3, 3, 1, 3, 1, 3, 1, 3, 3, 2, 2, 2, 2, 2, 2, 2, 2, 2, 2, 0, 0,\n",
              "       0, 0, 0, 0, 1, 1, 3, 3, 0, 2, 0, 3, 3, 1, 3, 0, 2, 3])"
            ]
          },
          "metadata": {},
          "execution_count": 119
        }
      ],
      "source": [
        "kmeans = KMeans(k=4)\n",
        "kmeans.fit(transformed_xs, transformed_ys)\n",
        "kmeans_predictions = kmeans.predict(transformed_xs)\n",
        "kmeans_predictions"
      ]
    },
    {
      "cell_type": "code",
      "source": [
        "transformed_df = transformed_df.drop('names', axis = 1)\n",
        "transformed_df['clusters'] = kmeans_predictions\n",
        "fig = px.scatter_3d(transformed_df, x='component 1', y='component 2', z='component 3',\n",
        "              color='clusters')\n",
        "fig.show()"
      ],
      "metadata": {
        "colab": {
          "base_uri": "https://localhost:8080/",
          "height": 542
        },
        "id": "Vk5hNK_97wyu",
        "outputId": "cb530ab7-d19e-4266-b058-dc561bed7c4b"
      },
      "execution_count": 120,
      "outputs": [
        {
          "output_type": "display_data",
          "data": {
            "text/html": [
              "<html>\n",
              "<head><meta charset=\"utf-8\" /></head>\n",
              "<body>\n",
              "    <div>            <script src=\"https://cdnjs.cloudflare.com/ajax/libs/mathjax/2.7.5/MathJax.js?config=TeX-AMS-MML_SVG\"></script><script type=\"text/javascript\">if (window.MathJax && window.MathJax.Hub && window.MathJax.Hub.Config) {window.MathJax.Hub.Config({SVG: {font: \"STIX-Web\"}});}</script>                <script type=\"text/javascript\">window.PlotlyConfig = {MathJaxConfig: 'local'};</script>\n",
              "        <script src=\"https://cdn.plot.ly/plotly-2.18.2.min.js\"></script>                <div id=\"2e47dd00-2092-48b3-9d67-96441d3e190b\" class=\"plotly-graph-div\" style=\"height:525px; width:100%;\"></div>            <script type=\"text/javascript\">                                    window.PLOTLYENV=window.PLOTLYENV || {};                                    if (document.getElementById(\"2e47dd00-2092-48b3-9d67-96441d3e190b\")) {                    Plotly.newPlot(                        \"2e47dd00-2092-48b3-9d67-96441d3e190b\",                        [{\"hovertemplate\":\"component 1=%{x}<br>component 2=%{y}<br>component 3=%{z}<br>clusters=%{marker.color}<extra></extra>\",\"legendgroup\":\"\",\"marker\":{\"color\":[3,3,3,1,3,1,3,1,3,3,2,2,2,2,2,2,2,2,2,2,0,0,0,0,0,0,1,1,3,3,0,2,0,3,3,1,3,0,2,3],\"coloraxis\":\"coloraxis\",\"symbol\":\"circle\"},\"mode\":\"markers\",\"name\":\"\",\"scene\":\"scene\",\"showlegend\":false,\"x\":[1.3730837230637813,-5.937131179901282,0.608584138104835,11.358136305661937,-0.973341504325059,7.636008198735952,0.8407952948197649,5.605535714423593,2.8864913348174865,-0.40192890197196574,-2.007309506300921,-4.570726899488748,-3.6181161547823475,-5.400072566804912,-3.644772900608528,-5.7136011918796346,-2.403825960877196,-3.6963097235373024,-6.362088080200892,-2.461091288257145,-1.5978510298864825,-2.6951408702580495,-2.859170288511674,2.500542005616399,3.683602214179009,2.88496363637552,5.404853094854191,6.7015556714388715,1.8287309019674893,0.8488716120003289,0.20486141749149495,-2.969088605229519,1.2627848111387419,0.5633573036599229,-1.719634496547673,6.5186705359842465,2.0242769084474945,1.0031432393199304,-2.7910069107522557,-3.916640001979453],\"y\":[6.218770574574511,1.9325320033524254,5.099505988643201,1.001592039088378,2.857533788121348,2.714806605270328,6.0726084738671755,4.230971092563124,6.574297088821655,0.3301265749784474,1.3360448244898049,1.8312472981024364,1.3245720639463447,0.6642191790758256,2.1449472768422986,0.8823557624588899,-1.1720222489218444,0.12561347620765265,0.5606916175831876,0.18915638097276116,-5.584499960643083,-5.469106556373193,-4.647488693443227,-6.308598542659313,-5.637820765337451,-3.5856068553508775,-2.0174270643267507,-3.734724364759404,-0.16475533063092598,-0.6142414855600975,-1.5934235444705145,-1.197672281369962,-3.044844352953064,0.8789898989242908,0.23034781059113876,-0.30080825653045673,1.3494165790461121,-1.7039303113801836,-1.7682232672989444,-0.005152515512234612],\"z\":[-1.209336634338861,-5.918058071286765,-2.2058006330087294,3.6269713999094693,-5.8200416439333775,2.3814955244568567,0.7399026132323764,-1.17461347181347,-0.5326249837787191,-6.234345936100191,4.1730732394419485,2.943654961229344,2.4198963143380388,2.7228315891154495,3.531352809560856,2.4878685176720436,3.431033727900313,3.725098274294067,2.6467579623950797,3.693659731697971,-2.8952624611042546,-2.632766780894829,-2.6243923070114086,1.4250917328359107,1.9674794868666667,-1.6620329782284102,-2.1160864738177967,-0.6313585185185692,-3.924736497952602,-4.545122665434308,1.60061663543993,-0.14897337412675188,2.243140437561551,-1.4332183812567676,-2.785255970833633,2.277929225825624,-0.7852380798124292,2.309317797905353,2.0036655416499163,-3.071571660076732],\"type\":\"scatter3d\"}],                        {\"template\":{\"data\":{\"histogram2dcontour\":[{\"type\":\"histogram2dcontour\",\"colorbar\":{\"outlinewidth\":0,\"ticks\":\"\"},\"colorscale\":[[0.0,\"#0d0887\"],[0.1111111111111111,\"#46039f\"],[0.2222222222222222,\"#7201a8\"],[0.3333333333333333,\"#9c179e\"],[0.4444444444444444,\"#bd3786\"],[0.5555555555555556,\"#d8576b\"],[0.6666666666666666,\"#ed7953\"],[0.7777777777777778,\"#fb9f3a\"],[0.8888888888888888,\"#fdca26\"],[1.0,\"#f0f921\"]]}],\"choropleth\":[{\"type\":\"choropleth\",\"colorbar\":{\"outlinewidth\":0,\"ticks\":\"\"}}],\"histogram2d\":[{\"type\":\"histogram2d\",\"colorbar\":{\"outlinewidth\":0,\"ticks\":\"\"},\"colorscale\":[[0.0,\"#0d0887\"],[0.1111111111111111,\"#46039f\"],[0.2222222222222222,\"#7201a8\"],[0.3333333333333333,\"#9c179e\"],[0.4444444444444444,\"#bd3786\"],[0.5555555555555556,\"#d8576b\"],[0.6666666666666666,\"#ed7953\"],[0.7777777777777778,\"#fb9f3a\"],[0.8888888888888888,\"#fdca26\"],[1.0,\"#f0f921\"]]}],\"heatmap\":[{\"type\":\"heatmap\",\"colorbar\":{\"outlinewidth\":0,\"ticks\":\"\"},\"colorscale\":[[0.0,\"#0d0887\"],[0.1111111111111111,\"#46039f\"],[0.2222222222222222,\"#7201a8\"],[0.3333333333333333,\"#9c179e\"],[0.4444444444444444,\"#bd3786\"],[0.5555555555555556,\"#d8576b\"],[0.6666666666666666,\"#ed7953\"],[0.7777777777777778,\"#fb9f3a\"],[0.8888888888888888,\"#fdca26\"],[1.0,\"#f0f921\"]]}],\"heatmapgl\":[{\"type\":\"heatmapgl\",\"colorbar\":{\"outlinewidth\":0,\"ticks\":\"\"},\"colorscale\":[[0.0,\"#0d0887\"],[0.1111111111111111,\"#46039f\"],[0.2222222222222222,\"#7201a8\"],[0.3333333333333333,\"#9c179e\"],[0.4444444444444444,\"#bd3786\"],[0.5555555555555556,\"#d8576b\"],[0.6666666666666666,\"#ed7953\"],[0.7777777777777778,\"#fb9f3a\"],[0.8888888888888888,\"#fdca26\"],[1.0,\"#f0f921\"]]}],\"contourcarpet\":[{\"type\":\"contourcarpet\",\"colorbar\":{\"outlinewidth\":0,\"ticks\":\"\"}}],\"contour\":[{\"type\":\"contour\",\"colorbar\":{\"outlinewidth\":0,\"ticks\":\"\"},\"colorscale\":[[0.0,\"#0d0887\"],[0.1111111111111111,\"#46039f\"],[0.2222222222222222,\"#7201a8\"],[0.3333333333333333,\"#9c179e\"],[0.4444444444444444,\"#bd3786\"],[0.5555555555555556,\"#d8576b\"],[0.6666666666666666,\"#ed7953\"],[0.7777777777777778,\"#fb9f3a\"],[0.8888888888888888,\"#fdca26\"],[1.0,\"#f0f921\"]]}],\"surface\":[{\"type\":\"surface\",\"colorbar\":{\"outlinewidth\":0,\"ticks\":\"\"},\"colorscale\":[[0.0,\"#0d0887\"],[0.1111111111111111,\"#46039f\"],[0.2222222222222222,\"#7201a8\"],[0.3333333333333333,\"#9c179e\"],[0.4444444444444444,\"#bd3786\"],[0.5555555555555556,\"#d8576b\"],[0.6666666666666666,\"#ed7953\"],[0.7777777777777778,\"#fb9f3a\"],[0.8888888888888888,\"#fdca26\"],[1.0,\"#f0f921\"]]}],\"mesh3d\":[{\"type\":\"mesh3d\",\"colorbar\":{\"outlinewidth\":0,\"ticks\":\"\"}}],\"scatter\":[{\"fillpattern\":{\"fillmode\":\"overlay\",\"size\":10,\"solidity\":0.2},\"type\":\"scatter\"}],\"parcoords\":[{\"type\":\"parcoords\",\"line\":{\"colorbar\":{\"outlinewidth\":0,\"ticks\":\"\"}}}],\"scatterpolargl\":[{\"type\":\"scatterpolargl\",\"marker\":{\"colorbar\":{\"outlinewidth\":0,\"ticks\":\"\"}}}],\"bar\":[{\"error_x\":{\"color\":\"#2a3f5f\"},\"error_y\":{\"color\":\"#2a3f5f\"},\"marker\":{\"line\":{\"color\":\"#E5ECF6\",\"width\":0.5},\"pattern\":{\"fillmode\":\"overlay\",\"size\":10,\"solidity\":0.2}},\"type\":\"bar\"}],\"scattergeo\":[{\"type\":\"scattergeo\",\"marker\":{\"colorbar\":{\"outlinewidth\":0,\"ticks\":\"\"}}}],\"scatterpolar\":[{\"type\":\"scatterpolar\",\"marker\":{\"colorbar\":{\"outlinewidth\":0,\"ticks\":\"\"}}}],\"histogram\":[{\"marker\":{\"pattern\":{\"fillmode\":\"overlay\",\"size\":10,\"solidity\":0.2}},\"type\":\"histogram\"}],\"scattergl\":[{\"type\":\"scattergl\",\"marker\":{\"colorbar\":{\"outlinewidth\":0,\"ticks\":\"\"}}}],\"scatter3d\":[{\"type\":\"scatter3d\",\"line\":{\"colorbar\":{\"outlinewidth\":0,\"ticks\":\"\"}},\"marker\":{\"colorbar\":{\"outlinewidth\":0,\"ticks\":\"\"}}}],\"scattermapbox\":[{\"type\":\"scattermapbox\",\"marker\":{\"colorbar\":{\"outlinewidth\":0,\"ticks\":\"\"}}}],\"scatterternary\":[{\"type\":\"scatterternary\",\"marker\":{\"colorbar\":{\"outlinewidth\":0,\"ticks\":\"\"}}}],\"scattercarpet\":[{\"type\":\"scattercarpet\",\"marker\":{\"colorbar\":{\"outlinewidth\":0,\"ticks\":\"\"}}}],\"carpet\":[{\"aaxis\":{\"endlinecolor\":\"#2a3f5f\",\"gridcolor\":\"white\",\"linecolor\":\"white\",\"minorgridcolor\":\"white\",\"startlinecolor\":\"#2a3f5f\"},\"baxis\":{\"endlinecolor\":\"#2a3f5f\",\"gridcolor\":\"white\",\"linecolor\":\"white\",\"minorgridcolor\":\"white\",\"startlinecolor\":\"#2a3f5f\"},\"type\":\"carpet\"}],\"table\":[{\"cells\":{\"fill\":{\"color\":\"#EBF0F8\"},\"line\":{\"color\":\"white\"}},\"header\":{\"fill\":{\"color\":\"#C8D4E3\"},\"line\":{\"color\":\"white\"}},\"type\":\"table\"}],\"barpolar\":[{\"marker\":{\"line\":{\"color\":\"#E5ECF6\",\"width\":0.5},\"pattern\":{\"fillmode\":\"overlay\",\"size\":10,\"solidity\":0.2}},\"type\":\"barpolar\"}],\"pie\":[{\"automargin\":true,\"type\":\"pie\"}]},\"layout\":{\"autotypenumbers\":\"strict\",\"colorway\":[\"#636efa\",\"#EF553B\",\"#00cc96\",\"#ab63fa\",\"#FFA15A\",\"#19d3f3\",\"#FF6692\",\"#B6E880\",\"#FF97FF\",\"#FECB52\"],\"font\":{\"color\":\"#2a3f5f\"},\"hovermode\":\"closest\",\"hoverlabel\":{\"align\":\"left\"},\"paper_bgcolor\":\"white\",\"plot_bgcolor\":\"#E5ECF6\",\"polar\":{\"bgcolor\":\"#E5ECF6\",\"angularaxis\":{\"gridcolor\":\"white\",\"linecolor\":\"white\",\"ticks\":\"\"},\"radialaxis\":{\"gridcolor\":\"white\",\"linecolor\":\"white\",\"ticks\":\"\"}},\"ternary\":{\"bgcolor\":\"#E5ECF6\",\"aaxis\":{\"gridcolor\":\"white\",\"linecolor\":\"white\",\"ticks\":\"\"},\"baxis\":{\"gridcolor\":\"white\",\"linecolor\":\"white\",\"ticks\":\"\"},\"caxis\":{\"gridcolor\":\"white\",\"linecolor\":\"white\",\"ticks\":\"\"}},\"coloraxis\":{\"colorbar\":{\"outlinewidth\":0,\"ticks\":\"\"}},\"colorscale\":{\"sequential\":[[0.0,\"#0d0887\"],[0.1111111111111111,\"#46039f\"],[0.2222222222222222,\"#7201a8\"],[0.3333333333333333,\"#9c179e\"],[0.4444444444444444,\"#bd3786\"],[0.5555555555555556,\"#d8576b\"],[0.6666666666666666,\"#ed7953\"],[0.7777777777777778,\"#fb9f3a\"],[0.8888888888888888,\"#fdca26\"],[1.0,\"#f0f921\"]],\"sequentialminus\":[[0.0,\"#0d0887\"],[0.1111111111111111,\"#46039f\"],[0.2222222222222222,\"#7201a8\"],[0.3333333333333333,\"#9c179e\"],[0.4444444444444444,\"#bd3786\"],[0.5555555555555556,\"#d8576b\"],[0.6666666666666666,\"#ed7953\"],[0.7777777777777778,\"#fb9f3a\"],[0.8888888888888888,\"#fdca26\"],[1.0,\"#f0f921\"]],\"diverging\":[[0,\"#8e0152\"],[0.1,\"#c51b7d\"],[0.2,\"#de77ae\"],[0.3,\"#f1b6da\"],[0.4,\"#fde0ef\"],[0.5,\"#f7f7f7\"],[0.6,\"#e6f5d0\"],[0.7,\"#b8e186\"],[0.8,\"#7fbc41\"],[0.9,\"#4d9221\"],[1,\"#276419\"]]},\"xaxis\":{\"gridcolor\":\"white\",\"linecolor\":\"white\",\"ticks\":\"\",\"title\":{\"standoff\":15},\"zerolinecolor\":\"white\",\"automargin\":true,\"zerolinewidth\":2},\"yaxis\":{\"gridcolor\":\"white\",\"linecolor\":\"white\",\"ticks\":\"\",\"title\":{\"standoff\":15},\"zerolinecolor\":\"white\",\"automargin\":true,\"zerolinewidth\":2},\"scene\":{\"xaxis\":{\"backgroundcolor\":\"#E5ECF6\",\"gridcolor\":\"white\",\"linecolor\":\"white\",\"showbackground\":true,\"ticks\":\"\",\"zerolinecolor\":\"white\",\"gridwidth\":2},\"yaxis\":{\"backgroundcolor\":\"#E5ECF6\",\"gridcolor\":\"white\",\"linecolor\":\"white\",\"showbackground\":true,\"ticks\":\"\",\"zerolinecolor\":\"white\",\"gridwidth\":2},\"zaxis\":{\"backgroundcolor\":\"#E5ECF6\",\"gridcolor\":\"white\",\"linecolor\":\"white\",\"showbackground\":true,\"ticks\":\"\",\"zerolinecolor\":\"white\",\"gridwidth\":2}},\"shapedefaults\":{\"line\":{\"color\":\"#2a3f5f\"}},\"annotationdefaults\":{\"arrowcolor\":\"#2a3f5f\",\"arrowhead\":0,\"arrowwidth\":1},\"geo\":{\"bgcolor\":\"white\",\"landcolor\":\"#E5ECF6\",\"subunitcolor\":\"white\",\"showland\":true,\"showlakes\":true,\"lakecolor\":\"white\"},\"title\":{\"x\":0.05},\"mapbox\":{\"style\":\"light\"}}},\"scene\":{\"domain\":{\"x\":[0.0,1.0],\"y\":[0.0,1.0]},\"xaxis\":{\"title\":{\"text\":\"component 1\"}},\"yaxis\":{\"title\":{\"text\":\"component 2\"}},\"zaxis\":{\"title\":{\"text\":\"component 3\"}}},\"coloraxis\":{\"colorbar\":{\"title\":{\"text\":\"clusters\"}},\"colorscale\":[[0.0,\"#0d0887\"],[0.1111111111111111,\"#46039f\"],[0.2222222222222222,\"#7201a8\"],[0.3333333333333333,\"#9c179e\"],[0.4444444444444444,\"#bd3786\"],[0.5555555555555556,\"#d8576b\"],[0.6666666666666666,\"#ed7953\"],[0.7777777777777778,\"#fb9f3a\"],[0.8888888888888888,\"#fdca26\"],[1.0,\"#f0f921\"]]},\"legend\":{\"tracegroupgap\":0},\"margin\":{\"t\":60}},                        {\"responsive\": true}                    ).then(function(){\n",
              "                            \n",
              "var gd = document.getElementById('2e47dd00-2092-48b3-9d67-96441d3e190b');\n",
              "var x = new MutationObserver(function (mutations, observer) {{\n",
              "        var display = window.getComputedStyle(gd).display;\n",
              "        if (!display || display === 'none') {{\n",
              "            console.log([gd, 'removed!']);\n",
              "            Plotly.purge(gd);\n",
              "            observer.disconnect();\n",
              "        }}\n",
              "}});\n",
              "\n",
              "// Listen for the removal of the full notebook cells\n",
              "var notebookContainer = gd.closest('#notebook-container');\n",
              "if (notebookContainer) {{\n",
              "    x.observe(notebookContainer, {childList: true});\n",
              "}}\n",
              "\n",
              "// Listen for the clearing of the current output cell\n",
              "var outputEl = gd.closest('.output');\n",
              "if (outputEl) {{\n",
              "    x.observe(outputEl, {childList: true});\n",
              "}}\n",
              "\n",
              "                        })                };                            </script>        </div>\n",
              "</body>\n",
              "</html>"
            ]
          },
          "metadata": {}
        }
      ]
    },
    {
      "cell_type": "markdown",
      "metadata": {
        "id": "8J5FN-HIOOqJ"
      },
      "source": [
        "Measure the quality of the clustering using \"silhoutte score\" **(P4-2: 5 points)**\n",
        "\n",
        "Note: You can use `sklearn` or other packages to calculate the score."
      ]
    },
    {
      "cell_type": "code",
      "execution_count": 121,
      "metadata": {
        "id": "1zdNLJ_9OYxO",
        "colab": {
          "base_uri": "https://localhost:8080/"
        },
        "outputId": "56a67acb-f10e-4ae1-c9a8-10e6ce09a4cf"
      },
      "outputs": [
        {
          "output_type": "execute_result",
          "data": {
            "text/plain": [
              "0.37043213823018223"
            ]
          },
          "metadata": {},
          "execution_count": 121
        }
      ],
      "source": [
        "from sklearn.metrics import silhouette_score\n",
        "silhouette_score(transformed_xs, kmeans_predictions, metric='euclidean')"
      ]
    },
    {
      "cell_type": "markdown",
      "metadata": {
        "id": "znohK44UQ5s7"
      },
      "source": [
        "Compare the result of the clustering with the original labels. To be more precise, in this part, you should clearly answer the following questions with details:<br>\n",
        "\n",
        "- Does each cluster represent a true label?\n",
        "- What is your conclusion?\n",
        "\n",
        "**(P4-3: 10 points)**"
      ]
    },
    {
      "cell_type": "markdown",
      "source": [
        "**As it can be seen in this particular example, the answer to the first question is negative. K-means clusters the dataset in an unsupervised way and it can be seen that it overfits to the features and the difference between features of each datapoint.**\n",
        "**On the hand, true labels are different and it is more spread amongst the diagram. But sometimes the answer to the first question can be positive, since the original dataset is much more clustered center some centroids.**\n",
        "**The conclusion is that in K-means, which is unsupervised, ignoring labels can be dangerous since the only knowledge we can get from data is their feature and the distance between them. Using supervised learning methods will generally give out a better result (in terms of bias and accuracy)**"
      ],
      "metadata": {
        "id": "LcRO5PF9ITLm"
      }
    },
    {
      "cell_type": "markdown",
      "metadata": {
        "id": "l2rNsjun2MYm"
      },
      "source": [
        "# Sec 5: Neural Net (Optional with Bonus Points)"
      ]
    },
    {
      "cell_type": "markdown",
      "metadata": {
        "id": "kHrNE4gp2-AW"
      },
      "source": [
        "Reshape the images so that they become of shape `64x64` **(P5-1: 5 points)**"
      ]
    },
    {
      "cell_type": "code",
      "execution_count": 122,
      "metadata": {
        "id": "OaCDrh9g3Sbd",
        "colab": {
          "base_uri": "https://localhost:8080/"
        },
        "outputId": "183a3e2c-36ac-439c-dd9c-fafbb8e7adb3"
      },
      "outputs": [
        {
          "output_type": "execute_result",
          "data": {
            "text/plain": [
              "(400, 64, 64, 1)"
            ]
          },
          "metadata": {},
          "execution_count": 122
        }
      ],
      "source": [
        "x_nn = x.reshape(-1, 64, 64, 1)\n",
        "x_nn.shape"
      ]
    },
    {
      "cell_type": "markdown",
      "metadata": {
        "id": "PC0kN0MPOcak"
      },
      "source": [
        "Use different types of augmentation techniques (such as Random Flipping, Random Rotation, etc.) to increase the size of the training dataset. **(P5-2: 10 points)**"
      ]
    },
    {
      "cell_type": "code",
      "execution_count": 123,
      "metadata": {
        "id": "QbUC-Y5mP4Xd",
        "colab": {
          "base_uri": "https://localhost:8080/"
        },
        "outputId": "05c26303-4736-43bf-f2bb-070aa6940015"
      },
      "outputs": [
        {
          "output_type": "execute_result",
          "data": {
            "text/plain": [
              "((128, 64, 64, 1), (128,))"
            ]
          },
          "metadata": {},
          "execution_count": 123
        }
      ],
      "source": [
        "shift_range = 0.2\n",
        "data_augmentation = keras.preprocessing.image.ImageDataGenerator(\n",
        "    rotation_range=90,\n",
        "    width_shift_range=shift_range,\n",
        "    height_shift_range=shift_range,\n",
        "    horizontal_flip=True,\n",
        "    vertical_flip=True,\n",
        "    brightness_range=[0.4,1.5],\n",
        "    zoom_range=0.3,\n",
        "    fill_mode='nearest'\n",
        ")\n",
        "\n",
        "# data_augmentation = keras.Sequential([\n",
        "#     layers.experimental.preprocessing.RandomFlip(),\n",
        "#     layers.experimental.preprocessing.RandomRotation(0.2),\n",
        "#     layers.experimental.preprocessing.RandomContrast(0.5),\n",
        "#     layers.experimental.preprocessing.RandomWidth(0.4),\n",
        "#     layers.experimental.preprocessing.RandomHeight(0.2),\n",
        "# ])\n",
        "data_augmentation_generator = data_augmentation.flow(x_nn, y, batch_size=128)\n",
        "augmented_x_nn = next(data_augmentation_generator)[0].astype('uint8')\n",
        "augmented_y = next(data_augmentation_generator)[1].astype('uint8')\n",
        "augmented_x_nn.shape, augmented_y.shape"
      ]
    },
    {
      "cell_type": "code",
      "source": [
        "images = np.concatenate([x_nn, augmented_x_nn])\n",
        "labels = np.concatenate([y, augmented_y])\n",
        "images.shape, labels.shape"
      ],
      "metadata": {
        "colab": {
          "base_uri": "https://localhost:8080/"
        },
        "id": "RKYHOaDWBuJT",
        "outputId": "2776fc09-f285-4f3c-b421-250dfa55f235"
      },
      "execution_count": 124,
      "outputs": [
        {
          "output_type": "execute_result",
          "data": {
            "text/plain": [
              "((528, 64, 64, 1), (528,))"
            ]
          },
          "metadata": {},
          "execution_count": 124
        }
      ]
    },
    {
      "cell_type": "code",
      "source": [
        "len(np.unique(labels))"
      ],
      "metadata": {
        "colab": {
          "base_uri": "https://localhost:8080/"
        },
        "id": "-1gCSR0cFYHW",
        "outputId": "418a9da7-fcd3-453b-be3a-03b18d8ef205"
      },
      "execution_count": 125,
      "outputs": [
        {
          "output_type": "execute_result",
          "data": {
            "text/plain": [
              "39"
            ]
          },
          "metadata": {},
          "execution_count": 125
        }
      ]
    },
    {
      "cell_type": "code",
      "source": [
        "train_images, test_images, train_labels, test_labels = train_test_split(images, labels, test_size=0.2, random_state=1)"
      ],
      "metadata": {
        "id": "tr_c8TQfCWIB"
      },
      "execution_count": 126,
      "outputs": []
    },
    {
      "cell_type": "markdown",
      "metadata": {
        "id": "uXVXHAIgOp_F"
      },
      "source": [
        "Using the augmented training set, train a neural network consisting of 2D convolutional layers. The exact architecture of the network is arbitrary. However, the last layer should have the \"softmax\" function as its activation. Also, using \"max pooling\" layers after convolutional ones is advised.\n",
        "\n",
        "Note: Don't get frustrated if your network does not appear to be a good one. Give it some time to be trained. For instance, you might need to train it for 100 epochs. Make sure to try that out before quitting!\n",
        "\n",
        "**(P5-3: 20 points)**"
      ]
    },
    {
      "cell_type": "code",
      "execution_count": 127,
      "metadata": {
        "id": "WgODL6JyPdY4",
        "colab": {
          "base_uri": "https://localhost:8080/"
        },
        "outputId": "1033dc89-2edf-4aa7-9840-ff822177b9c3"
      },
      "outputs": [
        {
          "output_type": "stream",
          "name": "stdout",
          "text": [
            "Epoch 1/100\n",
            "4/4 [==============================] - 5s 598ms/step - loss: 3.6730 - accuracy: 0.0284\n",
            "Epoch 2/100\n",
            "4/4 [==============================] - 3s 839ms/step - loss: 3.6634 - accuracy: 0.0190\n",
            "Epoch 3/100\n",
            "4/4 [==============================] - 6s 1s/step - loss: 3.6675 - accuracy: 0.0379\n",
            "Epoch 4/100\n",
            "4/4 [==============================] - 4s 714ms/step - loss: 3.6630 - accuracy: 0.0427\n",
            "Epoch 5/100\n",
            "4/4 [==============================] - 3s 592ms/step - loss: 3.6614 - accuracy: 0.0237\n",
            "Epoch 6/100\n",
            "4/4 [==============================] - 2s 579ms/step - loss: 3.6609 - accuracy: 0.0332\n",
            "Epoch 7/100\n",
            "4/4 [==============================] - 3s 581ms/step - loss: 3.6611 - accuracy: 0.0403\n",
            "Epoch 8/100\n",
            "4/4 [==============================] - 4s 977ms/step - loss: 3.6583 - accuracy: 0.0474\n",
            "Epoch 9/100\n",
            "4/4 [==============================] - 3s 580ms/step - loss: 3.6609 - accuracy: 0.0403\n",
            "Epoch 10/100\n",
            "4/4 [==============================] - 2s 576ms/step - loss: 3.6595 - accuracy: 0.0450\n",
            "Epoch 11/100\n",
            "4/4 [==============================] - 2s 573ms/step - loss: 3.6597 - accuracy: 0.0427\n",
            "Epoch 12/100\n",
            "4/4 [==============================] - 2s 576ms/step - loss: 3.6574 - accuracy: 0.0427\n",
            "Epoch 13/100\n",
            "4/4 [==============================] - 4s 882ms/step - loss: 3.6555 - accuracy: 0.0545\n",
            "Epoch 14/100\n",
            "4/4 [==============================] - 3s 579ms/step - loss: 3.6592 - accuracy: 0.0379\n",
            "Epoch 15/100\n",
            "4/4 [==============================] - 2s 574ms/step - loss: 3.6594 - accuracy: 0.0545\n",
            "Epoch 16/100\n",
            "4/4 [==============================] - 2s 581ms/step - loss: 3.6554 - accuracy: 0.0450\n",
            "Epoch 17/100\n",
            "4/4 [==============================] - 3s 689ms/step - loss: 3.6500 - accuracy: 0.0427\n",
            "Epoch 18/100\n",
            "4/4 [==============================] - 3s 661ms/step - loss: 3.6533 - accuracy: 0.0450\n",
            "Epoch 19/100\n",
            "4/4 [==============================] - 3s 593ms/step - loss: 3.6508 - accuracy: 0.0450\n",
            "Epoch 20/100\n",
            "4/4 [==============================] - 3s 592ms/step - loss: 3.6494 - accuracy: 0.0474\n",
            "Epoch 21/100\n",
            "4/4 [==============================] - 2s 581ms/step - loss: 3.6507 - accuracy: 0.0403\n",
            "Epoch 22/100\n",
            "4/4 [==============================] - 4s 1s/step - loss: 3.6410 - accuracy: 0.0427\n",
            "Epoch 23/100\n",
            "4/4 [==============================] - 3s 593ms/step - loss: 3.6367 - accuracy: 0.0474\n",
            "Epoch 24/100\n",
            "4/4 [==============================] - 2s 580ms/step - loss: 3.6418 - accuracy: 0.0355\n",
            "Epoch 25/100\n",
            "4/4 [==============================] - 2s 570ms/step - loss: 3.6434 - accuracy: 0.0403\n",
            "Epoch 26/100\n",
            "4/4 [==============================] - 3s 599ms/step - loss: 3.6387 - accuracy: 0.0474\n",
            "Epoch 27/100\n",
            "4/4 [==============================] - 4s 805ms/step - loss: 3.6330 - accuracy: 0.0450\n",
            "Epoch 28/100\n",
            "4/4 [==============================] - 3s 582ms/step - loss: 3.6283 - accuracy: 0.0403\n",
            "Epoch 29/100\n",
            "4/4 [==============================] - 3s 589ms/step - loss: 3.6351 - accuracy: 0.0427\n",
            "Epoch 30/100\n",
            "4/4 [==============================] - 2s 575ms/step - loss: 3.6147 - accuracy: 0.0427\n",
            "Epoch 31/100\n",
            "4/4 [==============================] - 3s 900ms/step - loss: 3.6054 - accuracy: 0.0545\n",
            "Epoch 32/100\n",
            "4/4 [==============================] - 3s 585ms/step - loss: 3.5854 - accuracy: 0.0498\n",
            "Epoch 33/100\n",
            "4/4 [==============================] - 2s 586ms/step - loss: 3.5757 - accuracy: 0.0427\n",
            "Epoch 34/100\n",
            "4/4 [==============================] - 2s 579ms/step - loss: 3.5653 - accuracy: 0.0592\n",
            "Epoch 35/100\n",
            "4/4 [==============================] - 3s 578ms/step - loss: 3.5401 - accuracy: 0.0569\n",
            "Epoch 36/100\n",
            "4/4 [==============================] - 4s 905ms/step - loss: 3.5076 - accuracy: 0.0687\n",
            "Epoch 37/100\n",
            "4/4 [==============================] - 2s 573ms/step - loss: 3.4482 - accuracy: 0.0569\n",
            "Epoch 38/100\n",
            "4/4 [==============================] - 3s 709ms/step - loss: 3.4487 - accuracy: 0.0616\n",
            "Epoch 39/100\n",
            "4/4 [==============================] - 3s 647ms/step - loss: 3.3856 - accuracy: 0.0972\n",
            "Epoch 40/100\n",
            "4/4 [==============================] - 4s 979ms/step - loss: 3.3401 - accuracy: 0.0995\n",
            "Epoch 41/100\n",
            "4/4 [==============================] - 3s 588ms/step - loss: 3.2791 - accuracy: 0.1019\n",
            "Epoch 42/100\n",
            "4/4 [==============================] - 3s 595ms/step - loss: 3.2681 - accuracy: 0.0972\n",
            "Epoch 43/100\n",
            "4/4 [==============================] - 3s 582ms/step - loss: 3.1592 - accuracy: 0.1327\n",
            "Epoch 44/100\n",
            "4/4 [==============================] - 3s 716ms/step - loss: 3.1735 - accuracy: 0.1232\n",
            "Epoch 45/100\n",
            "4/4 [==============================] - 3s 663ms/step - loss: 3.0835 - accuracy: 0.1801\n",
            "Epoch 46/100\n",
            "4/4 [==============================] - 2s 578ms/step - loss: 3.0439 - accuracy: 0.1256\n",
            "Epoch 47/100\n",
            "4/4 [==============================] - 3s 593ms/step - loss: 2.9119 - accuracy: 0.1991\n",
            "Epoch 48/100\n",
            "4/4 [==============================] - 3s 580ms/step - loss: 2.9077 - accuracy: 0.1754\n",
            "Epoch 49/100\n",
            "4/4 [==============================] - 4s 1s/step - loss: 2.7818 - accuracy: 0.1943\n",
            "Epoch 50/100\n",
            "4/4 [==============================] - 3s 583ms/step - loss: 2.7650 - accuracy: 0.2109\n",
            "Epoch 51/100\n",
            "4/4 [==============================] - 2s 582ms/step - loss: 2.6967 - accuracy: 0.2417\n",
            "Epoch 52/100\n",
            "4/4 [==============================] - 3s 596ms/step - loss: 2.7269 - accuracy: 0.2204\n",
            "Epoch 53/100\n",
            "4/4 [==============================] - 3s 600ms/step - loss: 2.5964 - accuracy: 0.2749\n",
            "Epoch 54/100\n",
            "4/4 [==============================] - 4s 797ms/step - loss: 2.5353 - accuracy: 0.2559\n",
            "Epoch 55/100\n",
            "4/4 [==============================] - 3s 598ms/step - loss: 2.4995 - accuracy: 0.2938\n",
            "Epoch 56/100\n",
            "4/4 [==============================] - 3s 588ms/step - loss: 2.4010 - accuracy: 0.2938\n",
            "Epoch 57/100\n",
            "4/4 [==============================] - 3s 588ms/step - loss: 2.4419 - accuracy: 0.2891\n",
            "Epoch 58/100\n",
            "4/4 [==============================] - 4s 933ms/step - loss: 2.3416 - accuracy: 0.2796\n",
            "Epoch 59/100\n",
            "4/4 [==============================] - 3s 589ms/step - loss: 2.2625 - accuracy: 0.3318\n",
            "Epoch 60/100\n",
            "4/4 [==============================] - 2s 570ms/step - loss: 2.2618 - accuracy: 0.3318\n",
            "Epoch 61/100\n",
            "4/4 [==============================] - 2s 574ms/step - loss: 2.2254 - accuracy: 0.3626\n",
            "Epoch 62/100\n",
            "4/4 [==============================] - 3s 590ms/step - loss: 2.2389 - accuracy: 0.3460\n",
            "Epoch 63/100\n",
            "4/4 [==============================] - 4s 899ms/step - loss: 2.1806 - accuracy: 0.3531\n",
            "Epoch 64/100\n",
            "4/4 [==============================] - 3s 593ms/step - loss: 2.1430 - accuracy: 0.3602\n",
            "Epoch 65/100\n",
            "4/4 [==============================] - 3s 586ms/step - loss: 2.1942 - accuracy: 0.3578\n",
            "Epoch 66/100\n",
            "4/4 [==============================] - 3s 582ms/step - loss: 2.0784 - accuracy: 0.3910\n",
            "Epoch 67/100\n",
            "4/4 [==============================] - 3s 844ms/step - loss: 2.0499 - accuracy: 0.3483\n",
            "Epoch 68/100\n",
            "4/4 [==============================] - 3s 587ms/step - loss: 2.0257 - accuracy: 0.3839\n",
            "Epoch 69/100\n",
            "4/4 [==============================] - 2s 570ms/step - loss: 1.9785 - accuracy: 0.4242\n",
            "Epoch 70/100\n",
            "4/4 [==============================] - 2s 572ms/step - loss: 1.9683 - accuracy: 0.4171\n",
            "Epoch 71/100\n",
            "4/4 [==============================] - 3s 599ms/step - loss: 2.1169 - accuracy: 0.3673\n",
            "Epoch 72/100\n",
            "4/4 [==============================] - 4s 999ms/step - loss: 2.0702 - accuracy: 0.3886\n",
            "Epoch 73/100\n",
            "4/4 [==============================] - 2s 567ms/step - loss: 1.9125 - accuracy: 0.4455\n",
            "Epoch 74/100\n",
            "4/4 [==============================] - 3s 583ms/step - loss: 2.0452 - accuracy: 0.4076\n",
            "Epoch 75/100\n",
            "4/4 [==============================] - 2s 575ms/step - loss: 1.8845 - accuracy: 0.4384\n",
            "Epoch 76/100\n",
            "4/4 [==============================] - 3s 626ms/step - loss: 1.8929 - accuracy: 0.4289\n",
            "Epoch 77/100\n",
            "4/4 [==============================] - 4s 735ms/step - loss: 1.9183 - accuracy: 0.4384\n",
            "Epoch 78/100\n",
            "4/4 [==============================] - 3s 576ms/step - loss: 1.8421 - accuracy: 0.4360\n",
            "Epoch 79/100\n",
            "4/4 [==============================] - 2s 582ms/step - loss: 1.7289 - accuracy: 0.4834\n",
            "Epoch 80/100\n",
            "4/4 [==============================] - 3s 588ms/step - loss: 1.7379 - accuracy: 0.4787\n",
            "Epoch 81/100\n",
            "4/4 [==============================] - 4s 940ms/step - loss: 1.7585 - accuracy: 0.4716\n",
            "Epoch 82/100\n",
            "4/4 [==============================] - 3s 582ms/step - loss: 1.8282 - accuracy: 0.4597\n",
            "Epoch 83/100\n",
            "4/4 [==============================] - 2s 582ms/step - loss: 1.8132 - accuracy: 0.4550\n",
            "Epoch 84/100\n",
            "4/4 [==============================] - 4s 926ms/step - loss: 1.7453 - accuracy: 0.4810\n",
            "Epoch 85/100\n",
            "4/4 [==============================] - 7s 2s/step - loss: 1.7253 - accuracy: 0.4858\n",
            "Epoch 86/100\n",
            "4/4 [==============================] - 3s 577ms/step - loss: 1.7034 - accuracy: 0.4929\n",
            "Epoch 87/100\n",
            "4/4 [==============================] - 2s 573ms/step - loss: 1.8073 - accuracy: 0.4573\n",
            "Epoch 88/100\n",
            "4/4 [==============================] - 2s 581ms/step - loss: 1.7315 - accuracy: 0.4645\n",
            "Epoch 89/100\n",
            "4/4 [==============================] - 4s 1s/step - loss: 1.7609 - accuracy: 0.5047\n",
            "Epoch 90/100\n",
            "4/4 [==============================] - 3s 586ms/step - loss: 1.7596 - accuracy: 0.4976\n",
            "Epoch 91/100\n",
            "4/4 [==============================] - 3s 586ms/step - loss: 1.6400 - accuracy: 0.5142\n",
            "Epoch 92/100\n",
            "4/4 [==============================] - 3s 578ms/step - loss: 1.6734 - accuracy: 0.5095\n",
            "Epoch 93/100\n",
            "4/4 [==============================] - 3s 628ms/step - loss: 1.6161 - accuracy: 0.5355\n",
            "Epoch 94/100\n",
            "4/4 [==============================] - 4s 750ms/step - loss: 1.5950 - accuracy: 0.5118\n",
            "Epoch 95/100\n",
            "4/4 [==============================] - 2s 580ms/step - loss: 1.6740 - accuracy: 0.5071\n",
            "Epoch 96/100\n",
            "4/4 [==============================] - 2s 583ms/step - loss: 1.5449 - accuracy: 0.5474\n",
            "Epoch 97/100\n",
            "4/4 [==============================] - 2s 571ms/step - loss: 1.6341 - accuracy: 0.5190\n",
            "Epoch 98/100\n",
            "4/4 [==============================] - 3s 877ms/step - loss: 1.5857 - accuracy: 0.5166\n",
            "Epoch 99/100\n",
            "4/4 [==============================] - 3s 582ms/step - loss: 1.5973 - accuracy: 0.5498\n",
            "Epoch 100/100\n",
            "4/4 [==============================] - 2s 578ms/step - loss: 1.5118 - accuracy: 0.5213\n"
          ]
        },
        {
          "output_type": "execute_result",
          "data": {
            "text/plain": [
              "<keras.callbacks.History at 0x7fe19662b220>"
            ]
          },
          "metadata": {},
          "execution_count": 127
        }
      ],
      "source": [
        "nn_model = keras.models.Sequential([\n",
        "    keras.layers.Conv2D(32, (1, 1), activation='relu', input_shape=(64, 64, 1)),\n",
        "    keras.layers.MaxPooling2D((2, 2)),\n",
        "    keras.layers.Conv2D(64, (3, 3), activation='relu'),\n",
        "    keras.layers.MaxPooling2D((2, 2)),\n",
        "    keras.layers.Conv2D(128, (3, 3), activation='relu'),\n",
        "    keras.layers.MaxPooling2D((2, 2)),\n",
        "    keras.layers.Dropout(0.2),\n",
        "    keras.layers.Flatten(),\n",
        "    keras.layers.Dense(128, activation='relu'),\n",
        "    keras.layers.Dropout(0.5),\n",
        "    keras.layers.Dense(64, activation='relu'),\n",
        "    keras.layers.Dropout(0.2),\n",
        "    keras.layers.Dense(39, activation='softmax') #since we have 39 unique labels\n",
        "])\n",
        "\n",
        "nn_model.compile(optimizer='adam', loss='sparse_categorical_crossentropy', metrics=['accuracy'])\n",
        "nn_model.fit(train_images, train_labels, epochs=100, batch_size=128)"
      ]
    },
    {
      "cell_type": "markdown",
      "metadata": {
        "id": "PgZFoeHPPdqF"
      },
      "source": [
        "Measure the accuracy of the network on the validation and testing datasets **(P5-4: 5 points)**"
      ]
    },
    {
      "cell_type": "code",
      "execution_count": 128,
      "metadata": {
        "id": "7VSZe8RdPkLU",
        "colab": {
          "base_uri": "https://localhost:8080/"
        },
        "outputId": "e5adb4c4-0d31-4a08-b2e1-378f172361d5"
      },
      "outputs": [
        {
          "output_type": "stream",
          "name": "stdout",
          "text": [
            "4/4 [==============================] - 0s 37ms/step - loss: 1.3102 - accuracy: 0.6981\n"
          ]
        },
        {
          "output_type": "execute_result",
          "data": {
            "text/plain": [
              "[1.3102439641952515, 0.698113203048706]"
            ]
          },
          "metadata": {},
          "execution_count": 128
        }
      ],
      "source": [
        "nn_model.evaluate(test_images, test_labels)"
      ]
    }
  ],
  "metadata": {
    "colab": {
      "provenance": []
    },
    "kernelspec": {
      "display_name": "Python 3",
      "name": "python3"
    },
    "language_info": {
      "codemirror_mode": {
        "name": "ipython",
        "version": 3
      },
      "file_extension": ".py",
      "mimetype": "text/x-python",
      "name": "python",
      "nbconvert_exporter": "python",
      "pygments_lexer": "ipython3",
      "version": "3.10.8"
    }
  },
  "nbformat": 4,
  "nbformat_minor": 0
}